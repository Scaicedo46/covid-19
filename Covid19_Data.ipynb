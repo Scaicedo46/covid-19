{
  "nbformat": 4,
  "nbformat_minor": 0,
  "metadata": {
    "colab": {
      "name": "Covid19-Data.ipynb",
      "provenance": [],
      "collapsed_sections": [
        "MckRJJ-8ZfmA",
        "wwfpfwteuVRl",
        "OU7j7FHRjCte",
        "qI2I-tdFscPL",
        "qY_8UHuidyo-",
        "x5Ews9iuChAb",
        "BoT8HqBXVyCz",
        "rGiNTOMk1vB2",
        "LlzRQxezd2FT",
        "wUKRB5B4CStj"
      ],
      "mount_file_id": "1ySbLxiBgj94S5LUvC2Mx6Yx5RieOZmEX",
      "authorship_tag": "ABX9TyNQkJFUl9+dps8D0QTGdYz6"
    },
    "kernelspec": {
      "name": "python3",
      "display_name": "Python 3"
    }
  },
  "cells": [
    {
      "cell_type": "markdown",
      "metadata": {
        "id": "BfcxAZVY3QVN",
        "colab_type": "text"
      },
      "source": [
        "Importing packages"
      ]
    },
    {
      "cell_type": "code",
      "metadata": {
        "id": "1NMwFYUzOsTJ",
        "colab_type": "code",
        "outputId": "bf6a763a-88dd-48fe-db19-a822bdbfe923",
        "colab": {
          "base_uri": "https://localhost:8080/",
          "height": 69
        }
      },
      "source": [
        "import pandas as pd\n",
        "import numpy as np\n",
        "import seaborn as sns\n",
        "import matplotlib.pyplot as plt"
      ],
      "execution_count": 1,
      "outputs": [
        {
          "output_type": "stream",
          "text": [
            "/usr/local/lib/python3.6/dist-packages/statsmodels/tools/_testing.py:19: FutureWarning: pandas.util.testing is deprecated. Use the functions in the public API at pandas.testing instead.\n",
            "  import pandas.util.testing as tm\n"
          ],
          "name": "stderr"
        }
      ]
    },
    {
      "cell_type": "markdown",
      "metadata": {
        "id": "MckRJJ-8ZfmA",
        "colab_type": "text"
      },
      "source": [
        "## US counties cases, could use to grab how our state compares to other local states and states we are trying to emulate. link- https://www.kaggle.com/fireballbyedimyrnmom/us-counties-covid-19-dataset , http://coronavirusapi.com"
      ]
    },
    {
      "cell_type": "markdown",
      "metadata": {
        "id": "pOscXIYardCQ",
        "colab_type": "text"
      },
      "source": [
        "problem definition - using county cases to show how we comp to other citys similar to ours and how as a state we comp to other state we are similar to "
      ]
    },
    {
      "cell_type": "code",
      "metadata": {
        "id": "N8v7n6eeZqxC",
        "colab_type": "code",
        "outputId": "dc186100-cf48-482e-a780-114040e4f67d",
        "colab": {
          "base_uri": "https://localhost:8080/",
          "height": 234
        }
      },
      "source": [
        "c_df = pd.read_csv('/content/drive/My Drive/COVID19 Capstone/us-counties.csv')\n",
        "print(c_df.shape)\n",
        "print(c_df.columns)\n",
        "c_df.head()"
      ],
      "execution_count": 2,
      "outputs": [
        {
          "output_type": "stream",
          "text": [
            "(48509, 6)\n",
            "Index(['date', 'county', 'state', 'fips', 'cases', 'deaths'], dtype='object')\n"
          ],
          "name": "stdout"
        },
        {
          "output_type": "execute_result",
          "data": {
            "text/html": [
              "<div>\n",
              "<style scoped>\n",
              "    .dataframe tbody tr th:only-of-type {\n",
              "        vertical-align: middle;\n",
              "    }\n",
              "\n",
              "    .dataframe tbody tr th {\n",
              "        vertical-align: top;\n",
              "    }\n",
              "\n",
              "    .dataframe thead th {\n",
              "        text-align: right;\n",
              "    }\n",
              "</style>\n",
              "<table border=\"1\" class=\"dataframe\">\n",
              "  <thead>\n",
              "    <tr style=\"text-align: right;\">\n",
              "      <th></th>\n",
              "      <th>date</th>\n",
              "      <th>county</th>\n",
              "      <th>state</th>\n",
              "      <th>fips</th>\n",
              "      <th>cases</th>\n",
              "      <th>deaths</th>\n",
              "    </tr>\n",
              "  </thead>\n",
              "  <tbody>\n",
              "    <tr>\n",
              "      <th>0</th>\n",
              "      <td>2020-01-21</td>\n",
              "      <td>Snohomish</td>\n",
              "      <td>Washington</td>\n",
              "      <td>53061.0</td>\n",
              "      <td>1</td>\n",
              "      <td>0</td>\n",
              "    </tr>\n",
              "    <tr>\n",
              "      <th>1</th>\n",
              "      <td>2020-01-22</td>\n",
              "      <td>Snohomish</td>\n",
              "      <td>Washington</td>\n",
              "      <td>53061.0</td>\n",
              "      <td>1</td>\n",
              "      <td>0</td>\n",
              "    </tr>\n",
              "    <tr>\n",
              "      <th>2</th>\n",
              "      <td>2020-01-23</td>\n",
              "      <td>Snohomish</td>\n",
              "      <td>Washington</td>\n",
              "      <td>53061.0</td>\n",
              "      <td>1</td>\n",
              "      <td>0</td>\n",
              "    </tr>\n",
              "    <tr>\n",
              "      <th>3</th>\n",
              "      <td>2020-01-24</td>\n",
              "      <td>Cook</td>\n",
              "      <td>Illinois</td>\n",
              "      <td>17031.0</td>\n",
              "      <td>1</td>\n",
              "      <td>0</td>\n",
              "    </tr>\n",
              "    <tr>\n",
              "      <th>4</th>\n",
              "      <td>2020-01-24</td>\n",
              "      <td>Snohomish</td>\n",
              "      <td>Washington</td>\n",
              "      <td>53061.0</td>\n",
              "      <td>1</td>\n",
              "      <td>0</td>\n",
              "    </tr>\n",
              "  </tbody>\n",
              "</table>\n",
              "</div>"
            ],
            "text/plain": [
              "         date     county       state     fips  cases  deaths\n",
              "0  2020-01-21  Snohomish  Washington  53061.0      1       0\n",
              "1  2020-01-22  Snohomish  Washington  53061.0      1       0\n",
              "2  2020-01-23  Snohomish  Washington  53061.0      1       0\n",
              "3  2020-01-24       Cook    Illinois  17031.0      1       0\n",
              "4  2020-01-24  Snohomish  Washington  53061.0      1       0"
            ]
          },
          "metadata": {
            "tags": []
          },
          "execution_count": 2
        }
      ]
    },
    {
      "cell_type": "code",
      "metadata": {
        "id": "YrrJYeq98Ov1",
        "colab_type": "code",
        "colab": {}
      },
      "source": [
        "c_df['date'] = pd.to_datetime(c_df['date'])"
      ],
      "execution_count": 0,
      "outputs": []
    },
    {
      "cell_type": "markdown",
      "metadata": {
        "id": "wwfpfwteuVRl",
        "colab_type": "text"
      },
      "source": [
        "### albuquerque metro area dfs"
      ]
    },
    {
      "cell_type": "code",
      "metadata": {
        "id": "ko5v5kDTA7F6",
        "colab_type": "code",
        "outputId": "4d6ff5be-2ce5-4474-a828-55d0d53c43bf",
        "colab": {
          "base_uri": "https://localhost:8080/",
          "height": 320
        }
      },
      "source": [
        "nm_df = c_df[c_df['state']=='New Mexico']\n",
        "print(nm_df.shape)\n",
        "nm_df.head()"
      ],
      "execution_count": 4,
      "outputs": [
        {
          "output_type": "stream",
          "text": [
            "(435, 6)\n"
          ],
          "name": "stdout"
        },
        {
          "output_type": "execute_result",
          "data": {
            "text/html": [
              "<div>\n",
              "<style scoped>\n",
              "    .dataframe tbody tr th:only-of-type {\n",
              "        vertical-align: middle;\n",
              "    }\n",
              "\n",
              "    .dataframe tbody tr th {\n",
              "        vertical-align: top;\n",
              "    }\n",
              "\n",
              "    .dataframe thead th {\n",
              "        text-align: right;\n",
              "    }\n",
              "</style>\n",
              "<table border=\"1\" class=\"dataframe\">\n",
              "  <thead>\n",
              "    <tr style=\"text-align: right;\">\n",
              "      <th></th>\n",
              "      <th>date</th>\n",
              "      <th>county</th>\n",
              "      <th>state</th>\n",
              "      <th>fips</th>\n",
              "      <th>cases</th>\n",
              "      <th>deaths</th>\n",
              "    </tr>\n",
              "  </thead>\n",
              "  <tbody>\n",
              "    <tr>\n",
              "      <th>1280</th>\n",
              "      <td>2020-03-11</td>\n",
              "      <td>Bernalillo</td>\n",
              "      <td>New Mexico</td>\n",
              "      <td>35001.0</td>\n",
              "      <td>1</td>\n",
              "      <td>0</td>\n",
              "    </tr>\n",
              "    <tr>\n",
              "      <th>1281</th>\n",
              "      <td>2020-03-11</td>\n",
              "      <td>Santa Fe</td>\n",
              "      <td>New Mexico</td>\n",
              "      <td>35049.0</td>\n",
              "      <td>1</td>\n",
              "      <td>0</td>\n",
              "    </tr>\n",
              "    <tr>\n",
              "      <th>1282</th>\n",
              "      <td>2020-03-11</td>\n",
              "      <td>Socorro</td>\n",
              "      <td>New Mexico</td>\n",
              "      <td>35053.0</td>\n",
              "      <td>2</td>\n",
              "      <td>0</td>\n",
              "    </tr>\n",
              "    <tr>\n",
              "      <th>1512</th>\n",
              "      <td>2020-03-12</td>\n",
              "      <td>Bernalillo</td>\n",
              "      <td>New Mexico</td>\n",
              "      <td>35001.0</td>\n",
              "      <td>2</td>\n",
              "      <td>0</td>\n",
              "    </tr>\n",
              "    <tr>\n",
              "      <th>1513</th>\n",
              "      <td>2020-03-12</td>\n",
              "      <td>Santa Fe</td>\n",
              "      <td>New Mexico</td>\n",
              "      <td>35049.0</td>\n",
              "      <td>2</td>\n",
              "      <td>0</td>\n",
              "    </tr>\n",
              "  </tbody>\n",
              "</table>\n",
              "</div>"
            ],
            "text/plain": [
              "           date      county       state     fips  cases  deaths\n",
              "1280 2020-03-11  Bernalillo  New Mexico  35001.0      1       0\n",
              "1281 2020-03-11    Santa Fe  New Mexico  35049.0      1       0\n",
              "1282 2020-03-11     Socorro  New Mexico  35053.0      2       0\n",
              "1512 2020-03-12  Bernalillo  New Mexico  35001.0      2       0\n",
              "1513 2020-03-12    Santa Fe  New Mexico  35049.0      2       0"
            ]
          },
          "metadata": {
            "tags": []
          },
          "execution_count": 4
        }
      ]
    },
    {
      "cell_type": "code",
      "metadata": {
        "id": "O1vCmlkKBDhd",
        "colab_type": "code",
        "outputId": "a05e0705-d916-4b4c-dc22-56eddbc41dc4",
        "colab": {
          "base_uri": "https://localhost:8080/",
          "height": 102
        }
      },
      "source": [
        "print(nm_df.county.unique())"
      ],
      "execution_count": 5,
      "outputs": [
        {
          "output_type": "stream",
          "text": [
            "['Bernalillo' 'Santa Fe' 'Socorro' 'Sandoval' 'Taos' 'San Miguel'\n",
            " 'Doña Ana' 'McKinley' 'Lea' 'San Juan' 'Chaves' 'Cibola' 'Curry' 'Eddy'\n",
            " 'Rio Arriba' 'Roosevelt' 'Valencia' 'Torrance' 'Catron' 'Grant' 'Otero'\n",
            " 'Unknown' 'Lincoln' 'Los Alamos' 'Colfax' 'Hidalgo' 'Luna']\n"
          ],
          "name": "stdout"
        }
      ]
    },
    {
      "cell_type": "code",
      "metadata": {
        "id": "vHX3sfqUeeXN",
        "colab_type": "code",
        "outputId": "5af2e96a-882f-441e-e6fd-2b68f399de33",
        "colab": {
          "base_uri": "https://localhost:8080/",
          "height": 102
        }
      },
      "source": [
        "abq_df = nm_df[nm_df['county'].str.contains('Bernalillo')].copy(deep=True)\n",
        "san_df = nm_df[nm_df['county'].str.contains('Sandoval')].copy(deep=True)\n",
        "tor_df = nm_df[nm_df['county'].str.contains('Torrance')].copy(deep=True)\n",
        "val_df = nm_df[nm_df['county'].str.contains('Valencia')].copy(deep=True)\n",
        "print(abq_df.shape)\n",
        "print(san_df.shape)\n",
        "print(tor_df.shape)\n",
        "print(val_df.shape)"
      ],
      "execution_count": 6,
      "outputs": [
        {
          "output_type": "stream",
          "text": [
            "(31, 6)\n",
            "(28, 6)\n",
            "(12, 6)\n",
            "(15, 6)\n"
          ],
          "name": "stdout"
        }
      ]
    },
    {
      "cell_type": "markdown",
      "metadata": {
        "id": "xJ4jI4McueYs",
        "colab_type": "text"
      },
      "source": [
        "Converting date column to datetime format"
      ]
    },
    {
      "cell_type": "code",
      "metadata": {
        "id": "ChLCjVegj2jr",
        "colab_type": "code",
        "outputId": "aff455f7-c1c5-4890-a110-81f70f1fa048",
        "colab": {
          "base_uri": "https://localhost:8080/",
          "height": 418
        }
      },
      "source": [
        "print(abq_df.dtypes)\n",
        "abq_df.head()"
      ],
      "execution_count": 7,
      "outputs": [
        {
          "output_type": "stream",
          "text": [
            "date      datetime64[ns]\n",
            "county            object\n",
            "state             object\n",
            "fips             float64\n",
            "cases              int64\n",
            "deaths             int64\n",
            "dtype: object\n"
          ],
          "name": "stdout"
        },
        {
          "output_type": "execute_result",
          "data": {
            "text/html": [
              "<div>\n",
              "<style scoped>\n",
              "    .dataframe tbody tr th:only-of-type {\n",
              "        vertical-align: middle;\n",
              "    }\n",
              "\n",
              "    .dataframe tbody tr th {\n",
              "        vertical-align: top;\n",
              "    }\n",
              "\n",
              "    .dataframe thead th {\n",
              "        text-align: right;\n",
              "    }\n",
              "</style>\n",
              "<table border=\"1\" class=\"dataframe\">\n",
              "  <thead>\n",
              "    <tr style=\"text-align: right;\">\n",
              "      <th></th>\n",
              "      <th>date</th>\n",
              "      <th>county</th>\n",
              "      <th>state</th>\n",
              "      <th>fips</th>\n",
              "      <th>cases</th>\n",
              "      <th>deaths</th>\n",
              "    </tr>\n",
              "  </thead>\n",
              "  <tbody>\n",
              "    <tr>\n",
              "      <th>1280</th>\n",
              "      <td>2020-03-11</td>\n",
              "      <td>Bernalillo</td>\n",
              "      <td>New Mexico</td>\n",
              "      <td>35001.0</td>\n",
              "      <td>1</td>\n",
              "      <td>0</td>\n",
              "    </tr>\n",
              "    <tr>\n",
              "      <th>1512</th>\n",
              "      <td>2020-03-12</td>\n",
              "      <td>Bernalillo</td>\n",
              "      <td>New Mexico</td>\n",
              "      <td>35001.0</td>\n",
              "      <td>2</td>\n",
              "      <td>0</td>\n",
              "    </tr>\n",
              "    <tr>\n",
              "      <th>1805</th>\n",
              "      <td>2020-03-13</td>\n",
              "      <td>Bernalillo</td>\n",
              "      <td>New Mexico</td>\n",
              "      <td>35001.0</td>\n",
              "      <td>5</td>\n",
              "      <td>0</td>\n",
              "    </tr>\n",
              "    <tr>\n",
              "      <th>2152</th>\n",
              "      <td>2020-03-14</td>\n",
              "      <td>Bernalillo</td>\n",
              "      <td>New Mexico</td>\n",
              "      <td>35001.0</td>\n",
              "      <td>6</td>\n",
              "      <td>0</td>\n",
              "    </tr>\n",
              "    <tr>\n",
              "      <th>2560</th>\n",
              "      <td>2020-03-15</td>\n",
              "      <td>Bernalillo</td>\n",
              "      <td>New Mexico</td>\n",
              "      <td>35001.0</td>\n",
              "      <td>10</td>\n",
              "      <td>0</td>\n",
              "    </tr>\n",
              "  </tbody>\n",
              "</table>\n",
              "</div>"
            ],
            "text/plain": [
              "           date      county       state     fips  cases  deaths\n",
              "1280 2020-03-11  Bernalillo  New Mexico  35001.0      1       0\n",
              "1512 2020-03-12  Bernalillo  New Mexico  35001.0      2       0\n",
              "1805 2020-03-13  Bernalillo  New Mexico  35001.0      5       0\n",
              "2152 2020-03-14  Bernalillo  New Mexico  35001.0      6       0\n",
              "2560 2020-03-15  Bernalillo  New Mexico  35001.0     10       0"
            ]
          },
          "metadata": {
            "tags": []
          },
          "execution_count": 7
        }
      ]
    },
    {
      "cell_type": "code",
      "metadata": {
        "id": "q2CHlz9JrDvl",
        "colab_type": "code",
        "outputId": "6d5a6832-7250-4977-ba9d-436676754124",
        "colab": {
          "base_uri": "https://localhost:8080/",
          "height": 52
        }
      },
      "source": [
        "plt.figure(figsize=[15,10])\n",
        "\n",
        "bern = plt.plot(abq_df['date'],abq_df['cases'], label= 'Bernalillo', )\n",
        "san = plt.plot(san_df['date'],san_df['cases'], label= 'Sandoval')\n",
        "val = plt.plot(val_df['date'],val_df['cases'], label= 'Valencia')\n",
        "tor = plt.plot(tor_df['date'],tor_df['cases'], label= 'Torrance')\n",
        "\n",
        "plt.yscale('log')\n",
        "plt.xlabel('Weekly Dates', fontsize=15)\n",
        "plt.ylabel('Number of cases', fontsize=15)\n",
        "plt.title('Cases in Albuquerque Metropolitan Area', fontsize=25)\n",
        "plt.axvline(pd.to_datetime('2020-3-24'), color='purple', linestyle= '--', label='Stay At Home Orders Effective Date')\n",
        "plt.legend(borderpad=2, labelspacing=2,fontsize=10);"
      ],
      "execution_count": 8,
      "outputs": [
        {
          "output_type": "display_data",
          "data": {
            "image/png": "[encoded data removed]",
            "text/plain": [
              "<Figure size 1080x720 with 1 Axes>"
            ]
          },
          "metadata": {
            "tags": [],
            "needs_background": "light"
          }
        }
      ]
    },
    {
      "cell_type": "markdown",
      "metadata": {
        "id": "OU7j7FHRjCte",
        "colab_type": "text"
      },
      "source": [
        "### Arizona metro data"
      ]
    },
    {
      "cell_type": "code",
      "metadata": {
        "id": "sigEb1V0jFRt",
        "colab_type": "code",
        "outputId": "019c5d16-1172-492d-bec1-6e795bb7a443",
        "colab": {
          "base_uri": "https://localhost:8080/",
          "height": 320
        }
      },
      "source": [
        "ariz_df = c_df[c_df['state']=='Arizona']\n",
        "print(ariz_df.shape)\n",
        "ariz_df.head()"
      ],
      "execution_count": 9,
      "outputs": [
        {
          "output_type": "stream",
          "text": [
            "(396, 6)\n"
          ],
          "name": "stdout"
        },
        {
          "output_type": "execute_result",
          "data": {
            "text/html": [
              "<div>\n",
              "<style scoped>\n",
              "    .dataframe tbody tr th:only-of-type {\n",
              "        vertical-align: middle;\n",
              "    }\n",
              "\n",
              "    .dataframe tbody tr th {\n",
              "        vertical-align: top;\n",
              "    }\n",
              "\n",
              "    .dataframe thead th {\n",
              "        text-align: right;\n",
              "    }\n",
              "</style>\n",
              "<table border=\"1\" class=\"dataframe\">\n",
              "  <thead>\n",
              "    <tr style=\"text-align: right;\">\n",
              "      <th></th>\n",
              "      <th>date</th>\n",
              "      <th>county</th>\n",
              "      <th>state</th>\n",
              "      <th>fips</th>\n",
              "      <th>cases</th>\n",
              "      <th>deaths</th>\n",
              "    </tr>\n",
              "  </thead>\n",
              "  <tbody>\n",
              "    <tr>\n",
              "      <th>8</th>\n",
              "      <td>2020-01-26</td>\n",
              "      <td>Maricopa</td>\n",
              "      <td>Arizona</td>\n",
              "      <td>4013.0</td>\n",
              "      <td>1</td>\n",
              "      <td>0</td>\n",
              "    </tr>\n",
              "    <tr>\n",
              "      <th>13</th>\n",
              "      <td>2020-01-27</td>\n",
              "      <td>Maricopa</td>\n",
              "      <td>Arizona</td>\n",
              "      <td>4013.0</td>\n",
              "      <td>1</td>\n",
              "      <td>0</td>\n",
              "    </tr>\n",
              "    <tr>\n",
              "      <th>18</th>\n",
              "      <td>2020-01-28</td>\n",
              "      <td>Maricopa</td>\n",
              "      <td>Arizona</td>\n",
              "      <td>4013.0</td>\n",
              "      <td>1</td>\n",
              "      <td>0</td>\n",
              "    </tr>\n",
              "    <tr>\n",
              "      <th>23</th>\n",
              "      <td>2020-01-29</td>\n",
              "      <td>Maricopa</td>\n",
              "      <td>Arizona</td>\n",
              "      <td>4013.0</td>\n",
              "      <td>1</td>\n",
              "      <td>0</td>\n",
              "    </tr>\n",
              "    <tr>\n",
              "      <th>28</th>\n",
              "      <td>2020-01-30</td>\n",
              "      <td>Maricopa</td>\n",
              "      <td>Arizona</td>\n",
              "      <td>4013.0</td>\n",
              "      <td>1</td>\n",
              "      <td>0</td>\n",
              "    </tr>\n",
              "  </tbody>\n",
              "</table>\n",
              "</div>"
            ],
            "text/plain": [
              "         date    county    state    fips  cases  deaths\n",
              "8  2020-01-26  Maricopa  Arizona  4013.0      1       0\n",
              "13 2020-01-27  Maricopa  Arizona  4013.0      1       0\n",
              "18 2020-01-28  Maricopa  Arizona  4013.0      1       0\n",
              "23 2020-01-29  Maricopa  Arizona  4013.0      1       0\n",
              "28 2020-01-30  Maricopa  Arizona  4013.0      1       0"
            ]
          },
          "metadata": {
            "tags": []
          },
          "execution_count": 9
        }
      ]
    },
    {
      "cell_type": "code",
      "metadata": {
        "id": "TG0LMmyZjOSV",
        "colab_type": "code",
        "outputId": "6ea8bd60-085a-44de-83c9-d2deab0154ca",
        "colab": {
          "base_uri": "https://localhost:8080/",
          "height": 85
        }
      },
      "source": [
        "print(ariz_df.county.unique())\n",
        "# print(ariz_df.date.unique())"
      ],
      "execution_count": 10,
      "outputs": [
        {
          "output_type": "stream",
          "text": [
            "['Maricopa' 'Pinal' 'Pima' 'Graham' 'Navajo' 'Coconino' 'Santa Cruz'\n",
            " 'Yavapai' 'Yuma' 'Apache' 'Cochise' 'La Paz' 'Mohave' 'Gila' 'Greenlee'\n",
            " 'Unknown']\n"
          ],
          "name": "stdout"
        }
      ]
    },
    {
      "cell_type": "markdown",
      "metadata": {
        "id": "o3GbE2upjnfT",
        "colab_type": "text"
      },
      "source": [
        "phoneix metropolitan area"
      ]
    },
    {
      "cell_type": "code",
      "metadata": {
        "id": "9vj9baL9jnAy",
        "colab_type": "code",
        "outputId": "bc50abf4-c2bb-4b89-81d1-357f8e4f9896",
        "colab": {
          "base_uri": "https://localhost:8080/",
          "height": 69
        }
      },
      "source": [
        "mari_df = ariz_df[ariz_df['county'].str.contains('Maricopa')].copy(deep=True)\n",
        "pinal_df = ariz_df[ariz_df['county'].str.contains('Pinal')].copy(deep=True)\n",
        "print(mari_df.shape)\n",
        "print(pinal_df.shape)"
      ],
      "execution_count": 11,
      "outputs": [
        {
          "output_type": "stream",
          "text": [
            "(76, 6)\n",
            "(36, 6)\n"
          ],
          "name": "stdout"
        }
      ]
    },
    {
      "cell_type": "code",
      "metadata": {
        "id": "xPZLBQtso0_q",
        "colab_type": "code",
        "colab": {}
      },
      "source": [
        "# mari_df['date'] = pd.to_datetime(mari_df['date'])\n",
        "# pinal_df['date'] = pd.to_datetime(pinal_df['date'])"
      ],
      "execution_count": 0,
      "outputs": []
    },
    {
      "cell_type": "code",
      "metadata": {
        "id": "BqAKHe4JpOAa",
        "colab_type": "code",
        "outputId": "9bde2dc3-69db-4d5c-ad93-40f5b7f7a34b",
        "colab": {
          "base_uri": "https://localhost:8080/",
          "height": 52
        }
      },
      "source": [
        "plt.figure(figsize=[15,10])\n",
        "\n",
        "bern = plt.plot(abq_df['date'],abq_df['cases'], label= 'Bernalillo')\n",
        "mari = plt.plot(mari_df['date'],mari_df['cases'], label= 'Maricopa')\n",
        "pinal = plt.plot(pinal_df['date'],pinal_df['cases'], label= 'Pinal')\n",
        "\n",
        "#plt.yscale('log')\n",
        "plt.xlabel('Weekly Dates', fontsize=15)\n",
        "plt.ylabel('Number of cases', fontsize=15)\n",
        "plt.title('Cases in Phoneix Metropolitan Area', fontsize=25)\n",
        "plt.axvline(pd.to_datetime('2020-3-30'), color='purple', linestyle= '--', label='Stay At Home Orders Arizona Effective Date')\n",
        "plt.axvline(pd.to_datetime('2020-3-24'), color='black', linestyle= '--', label='Stay At Home Orders New Mexico Effective Date')\n",
        "plt.legend(borderpad=2, labelspacing=2,fontsize=10);"
      ],
      "execution_count": 13,
      "outputs": [
        {
          "output_type": "display_data",
          "data": {
            "image/png": "[encoded data removed]",
            "text/plain": [
              "<Figure size 1080x720 with 1 Axes>"
            ]
          },
          "metadata": {
            "tags": [],
            "needs_background": "light"
          }
        }
      ]
    },
    {
      "cell_type": "markdown",
      "metadata": {
        "colab_type": "text",
        "id": "qI2I-tdFscPL"
      },
      "source": [
        "## County population Df grab our county populations so we can compare us to other states link-https://www.census.gov/data/datasets/time-series/demo/popest/2010s-counties-detail.html#"
      ]
    },
    {
      "cell_type": "markdown",
      "metadata": {
        "id": "gesVZqGQsei-",
        "colab_type": "text"
      },
      "source": [
        "problem deifinition - the county pop from 2010 to 2016 from the census can use to show a progression of the population and maybe pair it with the amount of hospitals to show how we must progress our infrastructure to keep up with albuquerques pop growth. "
      ]
    },
    {
      "cell_type": "code",
      "metadata": {
        "id": "N7Sh2c8iGeca",
        "colab_type": "code",
        "colab": {}
      },
      "source": [
        "county_df = pd.read_csv('/content/drive/My Drive/COVID19 Capstone/PEP_2018_PEPAGESEX.csv', encoding = 'ISO-8859-1', skiprows=[0])"
      ],
      "execution_count": 0,
      "outputs": []
    },
    {
      "cell_type": "code",
      "metadata": {
        "id": "Gsen0rhUORU5",
        "colab_type": "code",
        "outputId": "1cf170c5-ea57-44e4-aab8-567b91479d66",
        "colab": {
          "base_uri": "https://localhost:8080/",
          "height": 645
        }
      },
      "source": [
        "county_df.head()"
      ],
      "execution_count": 15,
      "outputs": [
        {
          "output_type": "execute_result",
          "data": {
            "text/html": [
              "<div>\n",
              "<style scoped>\n",
              "    .dataframe tbody tr th:only-of-type {\n",
              "        vertical-align: middle;\n",
              "    }\n",
              "\n",
              "    .dataframe tbody tr th {\n",
              "        vertical-align: top;\n",
              "    }\n",
              "\n",
              "    .dataframe thead th {\n",
              "        text-align: right;\n",
              "    }\n",
              "</style>\n",
              "<table border=\"1\" class=\"dataframe\">\n",
              "  <thead>\n",
              "    <tr style=\"text-align: right;\">\n",
              "      <th></th>\n",
              "      <th>Id</th>\n",
              "      <th>Id2</th>\n",
              "      <th>Geography</th>\n",
              "      <th>April 1, 2010 - Census - Both Sexes; Total</th>\n",
              "      <th>April 1, 2010 - Census - Male; Total</th>\n",
              "      <th>April 1, 2010 - Census - Female; Total</th>\n",
              "      <th>April 1, 2010 - Estimates Base - Both Sexes; Total</th>\n",
              "      <th>April 1, 2010 - Estimates Base - Male; Total</th>\n",
              "      <th>April 1, 2010 - Estimates Base - Female; Total</th>\n",
              "      <th>Population Estimate (as of July 1) - 2010 - Both Sexes; Total</th>\n",
              "      <th>Population Estimate (as of July 1) - 2010 - Male; Total</th>\n",
              "      <th>Population Estimate (as of July 1) - 2010 - Female; Total</th>\n",
              "      <th>Population Estimate (as of July 1) - 2011 - Both Sexes; Total</th>\n",
              "      <th>Population Estimate (as of July 1) - 2011 - Male; Total</th>\n",
              "      <th>Population Estimate (as of July 1) - 2011 - Female; Total</th>\n",
              "      <th>Population Estimate (as of July 1) - 2012 - Both Sexes; Total</th>\n",
              "      <th>Population Estimate (as of July 1) - 2012 - Male; Total</th>\n",
              "      <th>Population Estimate (as of July 1) - 2012 - Female; Total</th>\n",
              "      <th>Population Estimate (as of July 1) - 2013 - Both Sexes; Total</th>\n",
              "      <th>Population Estimate (as of July 1) - 2013 - Male; Total</th>\n",
              "      <th>Population Estimate (as of July 1) - 2013 - Female; Total</th>\n",
              "      <th>Population Estimate (as of July 1) - 2014 - Both Sexes; Total</th>\n",
              "      <th>Population Estimate (as of July 1) - 2014 - Male; Total</th>\n",
              "      <th>Population Estimate (as of July 1) - 2014 - Females; Total</th>\n",
              "      <th>Population Estimate (as of July 1) - 2015 - Both Sexes; Total</th>\n",
              "      <th>Population Estimate (as of July 1) - 2015 - Male; Total</th>\n",
              "      <th>Population Estimate (as of July 1) - 2015 - Female; Total</th>\n",
              "      <th>Population Estimate (as of July 1) - 2016 - Both Sexes; Total</th>\n",
              "      <th>Population Estimate (as of July 1) - 2016 - Male; Total</th>\n",
              "      <th>Population Estimate (as of July 1) - 2016 - Female; Total</th>\n",
              "      <th>Population Estimate (as of July 1) - 2017 - Both Sexes; Total</th>\n",
              "      <th>Population Estimate (as of July 1) - 2017 - Male; Total</th>\n",
              "      <th>Population Estimate (as of July 1) - 2017 - Female; Total</th>\n",
              "      <th>Population Estimate (as of July 1) - 2018 - Both Sexes; Total</th>\n",
              "      <th>Population Estimate (as of July 1) - 2018 - Male; Total</th>\n",
              "      <th>Population Estimate (as of July 1) - 2018 - Female; Total</th>\n",
              "      <th>April 1, 2010 - Census - Both Sexes; Total - Under 5 years</th>\n",
              "      <th>April 1, 2010 - Census - Male; Total - Under 5 years</th>\n",
              "      <th>April 1, 2010 - Census - Female; Total - Under 5 years</th>\n",
              "      <th>April 1, 2010 - Estimates Base - Both Sexes; Total - Under 5 years</th>\n",
              "      <th>...</th>\n",
              "      <th>Population Estimate (as of July 1) - 2016 - Female; 15 to 44 years</th>\n",
              "      <th>Population Estimate (as of July 1) - 2017 - Both Sexes; 15 to 44 years</th>\n",
              "      <th>Population Estimate (as of July 1) - 2017 - Male; 15 to 44 years</th>\n",
              "      <th>Population Estimate (as of July 1) - 2017 - Female; 15 to 44 years</th>\n",
              "      <th>Population Estimate (as of July 1) - 2018 - Both Sexes; 15 to 44 years</th>\n",
              "      <th>Population Estimate (as of July 1) - 2018 - Male; 15 to 44 years</th>\n",
              "      <th>Population Estimate (as of July 1) - 2018 - Female; 15 to 44 years</th>\n",
              "      <th>April 1, 2010 - Census - Both Sexes; Median age (years)</th>\n",
              "      <th>April 1, 2010 - Census - Male; Median age (years)</th>\n",
              "      <th>April 1, 2010 - Census - Female; Median age (years)</th>\n",
              "      <th>April 1, 2010 - Estimates Base - Both Sexes; Median age (years)</th>\n",
              "      <th>April 1, 2010 - Estimates Base - Male; Median age (years)</th>\n",
              "      <th>April 1, 2010 - Estimates Base - Female; Median age (years)</th>\n",
              "      <th>Population Estimate (as of July 1) - 2010 - Both Sexes; Median age (years)</th>\n",
              "      <th>Population Estimate (as of July 1) - 2010 - Male; Median age (years)</th>\n",
              "      <th>Population Estimate (as of July 1) - 2010 - Female; Median age (years)</th>\n",
              "      <th>Population Estimate (as of July 1) - 2011 - Both Sexes; Median age (years)</th>\n",
              "      <th>Population Estimate (as of July 1) - 2011 - Male; Median age (years)</th>\n",
              "      <th>Population Estimate (as of July 1) - 2011 - Female; Median age (years)</th>\n",
              "      <th>Population Estimate (as of July 1) - 2012 - Both Sexes; Median age (years)</th>\n",
              "      <th>Population Estimate (as of July 1) - 2012 - Male; Median age (years)</th>\n",
              "      <th>Population Estimate (as of July 1) - 2012 - Female; Median age (years)</th>\n",
              "      <th>Population Estimate (as of July 1) - 2013 - Both Sexes; Median age (years)</th>\n",
              "      <th>Population Estimate (as of July 1) - 2013 - Male; Median age (years)</th>\n",
              "      <th>Population Estimate (as of July 1) - 2013 - Female; Median age (years)</th>\n",
              "      <th>Population Estimate (as of July 1) - 2014 - Both Sexes; Median age (years)</th>\n",
              "      <th>Population Estimate (as of July 1) - 2014 - Male; Median age (years)</th>\n",
              "      <th>Population Estimate (as of July 1) - 2014 - Females; Median age (years)</th>\n",
              "      <th>Population Estimate (as of July 1) - 2015 - Both Sexes; Median age (years)</th>\n",
              "      <th>Population Estimate (as of July 1) - 2015 - Male; Median age (years)</th>\n",
              "      <th>Population Estimate (as of July 1) - 2015 - Female; Median age (years)</th>\n",
              "      <th>Population Estimate (as of July 1) - 2016 - Both Sexes; Median age (years)</th>\n",
              "      <th>Population Estimate (as of July 1) - 2016 - Male; Median age (years)</th>\n",
              "      <th>Population Estimate (as of July 1) - 2016 - Female; Median age (years)</th>\n",
              "      <th>Population Estimate (as of July 1) - 2017 - Both Sexes; Median age (years)</th>\n",
              "      <th>Population Estimate (as of July 1) - 2017 - Male; Median age (years)</th>\n",
              "      <th>Population Estimate (as of July 1) - 2017 - Female; Median age (years)</th>\n",
              "      <th>Population Estimate (as of July 1) - 2018 - Both Sexes; Median age (years)</th>\n",
              "      <th>Population Estimate (as of July 1) - 2018 - Male; Median age (years)</th>\n",
              "      <th>Population Estimate (as of July 1) - 2018 - Female; Median age (years)</th>\n",
              "    </tr>\n",
              "  </thead>\n",
              "  <tbody>\n",
              "    <tr>\n",
              "      <th>0</th>\n",
              "      <td>0500000US01001</td>\n",
              "      <td>1001</td>\n",
              "      <td>Autauga County, Alabama</td>\n",
              "      <td>54571</td>\n",
              "      <td>26569</td>\n",
              "      <td>28002</td>\n",
              "      <td>54574</td>\n",
              "      <td>26571</td>\n",
              "      <td>28003</td>\n",
              "      <td>54754</td>\n",
              "      <td>26670</td>\n",
              "      <td>28084</td>\n",
              "      <td>55208</td>\n",
              "      <td>26978</td>\n",
              "      <td>28230</td>\n",
              "      <td>54936</td>\n",
              "      <td>26818</td>\n",
              "      <td>28118</td>\n",
              "      <td>54713</td>\n",
              "      <td>26576</td>\n",
              "      <td>28137</td>\n",
              "      <td>54876</td>\n",
              "      <td>26784</td>\n",
              "      <td>28092</td>\n",
              "      <td>54838</td>\n",
              "      <td>26716</td>\n",
              "      <td>28122</td>\n",
              "      <td>55242</td>\n",
              "      <td>26971</td>\n",
              "      <td>28271</td>\n",
              "      <td>55443</td>\n",
              "      <td>27017</td>\n",
              "      <td>28426</td>\n",
              "      <td>55601</td>\n",
              "      <td>26995</td>\n",
              "      <td>28606</td>\n",
              "      <td>3579</td>\n",
              "      <td>1866</td>\n",
              "      <td>1713</td>\n",
              "      <td>3579</td>\n",
              "      <td>...</td>\n",
              "      <td>10844</td>\n",
              "      <td>21483</td>\n",
              "      <td>10603</td>\n",
              "      <td>10880</td>\n",
              "      <td>21338</td>\n",
              "      <td>10515</td>\n",
              "      <td>10823</td>\n",
              "      <td>37.0</td>\n",
              "      <td>35.9</td>\n",
              "      <td>37.9</td>\n",
              "      <td>37.0</td>\n",
              "      <td>35.9</td>\n",
              "      <td>37.9</td>\n",
              "      <td>37.1</td>\n",
              "      <td>36.1</td>\n",
              "      <td>38.0</td>\n",
              "      <td>37.3</td>\n",
              "      <td>36.2</td>\n",
              "      <td>38.4</td>\n",
              "      <td>37.7</td>\n",
              "      <td>36.4</td>\n",
              "      <td>38.8</td>\n",
              "      <td>38.1</td>\n",
              "      <td>36.8</td>\n",
              "      <td>39.1</td>\n",
              "      <td>38.2</td>\n",
              "      <td>36.8</td>\n",
              "      <td>39.5</td>\n",
              "      <td>38.6</td>\n",
              "      <td>37.2</td>\n",
              "      <td>39.8</td>\n",
              "      <td>38.7</td>\n",
              "      <td>37.2</td>\n",
              "      <td>40.0</td>\n",
              "      <td>38.8</td>\n",
              "      <td>37.5</td>\n",
              "      <td>40.1</td>\n",
              "      <td>39.1</td>\n",
              "      <td>37.7</td>\n",
              "      <td>40.5</td>\n",
              "    </tr>\n",
              "    <tr>\n",
              "      <th>1</th>\n",
              "      <td>0500000US01003</td>\n",
              "      <td>1003</td>\n",
              "      <td>Baldwin County, Alabama</td>\n",
              "      <td>182265</td>\n",
              "      <td>89196</td>\n",
              "      <td>93069</td>\n",
              "      <td>182264</td>\n",
              "      <td>89196</td>\n",
              "      <td>93068</td>\n",
              "      <td>183111</td>\n",
              "      <td>89618</td>\n",
              "      <td>93493</td>\n",
              "      <td>186540</td>\n",
              "      <td>91180</td>\n",
              "      <td>95360</td>\n",
              "      <td>190143</td>\n",
              "      <td>92698</td>\n",
              "      <td>97445</td>\n",
              "      <td>194886</td>\n",
              "      <td>95092</td>\n",
              "      <td>99794</td>\n",
              "      <td>199189</td>\n",
              "      <td>97155</td>\n",
              "      <td>102034</td>\n",
              "      <td>202995</td>\n",
              "      <td>98896</td>\n",
              "      <td>104099</td>\n",
              "      <td>207712</td>\n",
              "      <td>100976</td>\n",
              "      <td>106736</td>\n",
              "      <td>212619</td>\n",
              "      <td>103182</td>\n",
              "      <td>109437</td>\n",
              "      <td>218022</td>\n",
              "      <td>105657</td>\n",
              "      <td>112365</td>\n",
              "      <td>11158</td>\n",
              "      <td>5614</td>\n",
              "      <td>5544</td>\n",
              "      <td>11158</td>\n",
              "      <td>...</td>\n",
              "      <td>36498</td>\n",
              "      <td>73387</td>\n",
              "      <td>36174</td>\n",
              "      <td>37213</td>\n",
              "      <td>74601</td>\n",
              "      <td>36695</td>\n",
              "      <td>37906</td>\n",
              "      <td>41.1</td>\n",
              "      <td>40.1</td>\n",
              "      <td>42.2</td>\n",
              "      <td>41.1</td>\n",
              "      <td>40.1</td>\n",
              "      <td>42.2</td>\n",
              "      <td>41.2</td>\n",
              "      <td>40.1</td>\n",
              "      <td>42.2</td>\n",
              "      <td>41.4</td>\n",
              "      <td>40.4</td>\n",
              "      <td>42.4</td>\n",
              "      <td>41.7</td>\n",
              "      <td>40.7</td>\n",
              "      <td>42.6</td>\n",
              "      <td>41.9</td>\n",
              "      <td>40.9</td>\n",
              "      <td>42.8</td>\n",
              "      <td>42.2</td>\n",
              "      <td>41.1</td>\n",
              "      <td>43.2</td>\n",
              "      <td>42.4</td>\n",
              "      <td>41.3</td>\n",
              "      <td>43.4</td>\n",
              "      <td>42.8</td>\n",
              "      <td>41.7</td>\n",
              "      <td>43.7</td>\n",
              "      <td>43.0</td>\n",
              "      <td>41.9</td>\n",
              "      <td>44.1</td>\n",
              "      <td>43.3</td>\n",
              "      <td>42.1</td>\n",
              "      <td>44.4</td>\n",
              "    </tr>\n",
              "    <tr>\n",
              "      <th>2</th>\n",
              "      <td>0500000US01005</td>\n",
              "      <td>1005</td>\n",
              "      <td>Barbour County, Alabama</td>\n",
              "      <td>27457</td>\n",
              "      <td>14576</td>\n",
              "      <td>12881</td>\n",
              "      <td>27457</td>\n",
              "      <td>14576</td>\n",
              "      <td>12881</td>\n",
              "      <td>27330</td>\n",
              "      <td>14504</td>\n",
              "      <td>12826</td>\n",
              "      <td>27350</td>\n",
              "      <td>14659</td>\n",
              "      <td>12691</td>\n",
              "      <td>27174</td>\n",
              "      <td>14541</td>\n",
              "      <td>12633</td>\n",
              "      <td>26944</td>\n",
              "      <td>14380</td>\n",
              "      <td>12564</td>\n",
              "      <td>26758</td>\n",
              "      <td>14244</td>\n",
              "      <td>12514</td>\n",
              "      <td>26294</td>\n",
              "      <td>13974</td>\n",
              "      <td>12320</td>\n",
              "      <td>25819</td>\n",
              "      <td>13629</td>\n",
              "      <td>12190</td>\n",
              "      <td>25158</td>\n",
              "      <td>13221</td>\n",
              "      <td>11937</td>\n",
              "      <td>24881</td>\n",
              "      <td>13133</td>\n",
              "      <td>11748</td>\n",
              "      <td>1702</td>\n",
              "      <td>847</td>\n",
              "      <td>855</td>\n",
              "      <td>1702</td>\n",
              "      <td>...</td>\n",
              "      <td>4038</td>\n",
              "      <td>9504</td>\n",
              "      <td>5611</td>\n",
              "      <td>3893</td>\n",
              "      <td>9370</td>\n",
              "      <td>5545</td>\n",
              "      <td>3825</td>\n",
              "      <td>39.0</td>\n",
              "      <td>37.2</td>\n",
              "      <td>41.6</td>\n",
              "      <td>39.0</td>\n",
              "      <td>37.2</td>\n",
              "      <td>41.6</td>\n",
              "      <td>39.1</td>\n",
              "      <td>37.3</td>\n",
              "      <td>41.6</td>\n",
              "      <td>39.4</td>\n",
              "      <td>37.4</td>\n",
              "      <td>42.2</td>\n",
              "      <td>39.7</td>\n",
              "      <td>37.6</td>\n",
              "      <td>42.6</td>\n",
              "      <td>39.8</td>\n",
              "      <td>37.7</td>\n",
              "      <td>42.7</td>\n",
              "      <td>39.9</td>\n",
              "      <td>37.8</td>\n",
              "      <td>42.6</td>\n",
              "      <td>40.0</td>\n",
              "      <td>38.0</td>\n",
              "      <td>43.1</td>\n",
              "      <td>40.3</td>\n",
              "      <td>38.2</td>\n",
              "      <td>43.5</td>\n",
              "      <td>40.9</td>\n",
              "      <td>38.6</td>\n",
              "      <td>44.3</td>\n",
              "      <td>40.9</td>\n",
              "      <td>38.7</td>\n",
              "      <td>44.7</td>\n",
              "    </tr>\n",
              "    <tr>\n",
              "      <th>3</th>\n",
              "      <td>0500000US01007</td>\n",
              "      <td>1007</td>\n",
              "      <td>Bibb County, Alabama</td>\n",
              "      <td>22915</td>\n",
              "      <td>12301</td>\n",
              "      <td>10614</td>\n",
              "      <td>22920</td>\n",
              "      <td>12304</td>\n",
              "      <td>10616</td>\n",
              "      <td>22872</td>\n",
              "      <td>12264</td>\n",
              "      <td>10608</td>\n",
              "      <td>22747</td>\n",
              "      <td>12271</td>\n",
              "      <td>10476</td>\n",
              "      <td>22664</td>\n",
              "      <td>12211</td>\n",
              "      <td>10453</td>\n",
              "      <td>22516</td>\n",
              "      <td>12107</td>\n",
              "      <td>10409</td>\n",
              "      <td>22541</td>\n",
              "      <td>12139</td>\n",
              "      <td>10402</td>\n",
              "      <td>22562</td>\n",
              "      <td>12112</td>\n",
              "      <td>10450</td>\n",
              "      <td>22576</td>\n",
              "      <td>12067</td>\n",
              "      <td>10509</td>\n",
              "      <td>22555</td>\n",
              "      <td>12055</td>\n",
              "      <td>10500</td>\n",
              "      <td>22400</td>\n",
              "      <td>11921</td>\n",
              "      <td>10479</td>\n",
              "      <td>1378</td>\n",
              "      <td>712</td>\n",
              "      <td>666</td>\n",
              "      <td>1378</td>\n",
              "      <td>...</td>\n",
              "      <td>3790</td>\n",
              "      <td>9000</td>\n",
              "      <td>5218</td>\n",
              "      <td>3782</td>\n",
              "      <td>8852</td>\n",
              "      <td>5112</td>\n",
              "      <td>3740</td>\n",
              "      <td>37.8</td>\n",
              "      <td>36.5</td>\n",
              "      <td>39.5</td>\n",
              "      <td>37.8</td>\n",
              "      <td>36.5</td>\n",
              "      <td>39.5</td>\n",
              "      <td>37.9</td>\n",
              "      <td>36.6</td>\n",
              "      <td>39.7</td>\n",
              "      <td>38.4</td>\n",
              "      <td>36.8</td>\n",
              "      <td>40.4</td>\n",
              "      <td>38.8</td>\n",
              "      <td>37.2</td>\n",
              "      <td>41.0</td>\n",
              "      <td>39.2</td>\n",
              "      <td>37.5</td>\n",
              "      <td>41.4</td>\n",
              "      <td>39.5</td>\n",
              "      <td>37.6</td>\n",
              "      <td>41.9</td>\n",
              "      <td>39.7</td>\n",
              "      <td>37.8</td>\n",
              "      <td>42.1</td>\n",
              "      <td>39.7</td>\n",
              "      <td>37.8</td>\n",
              "      <td>42.4</td>\n",
              "      <td>39.8</td>\n",
              "      <td>37.9</td>\n",
              "      <td>42.5</td>\n",
              "      <td>40.0</td>\n",
              "      <td>38.2</td>\n",
              "      <td>42.7</td>\n",
              "    </tr>\n",
              "    <tr>\n",
              "      <th>4</th>\n",
              "      <td>0500000US01009</td>\n",
              "      <td>1009</td>\n",
              "      <td>Blount County, Alabama</td>\n",
              "      <td>57322</td>\n",
              "      <td>28362</td>\n",
              "      <td>28960</td>\n",
              "      <td>57321</td>\n",
              "      <td>28361</td>\n",
              "      <td>28960</td>\n",
              "      <td>57373</td>\n",
              "      <td>28385</td>\n",
              "      <td>28988</td>\n",
              "      <td>57554</td>\n",
              "      <td>28445</td>\n",
              "      <td>29109</td>\n",
              "      <td>57570</td>\n",
              "      <td>28426</td>\n",
              "      <td>29144</td>\n",
              "      <td>57611</td>\n",
              "      <td>28432</td>\n",
              "      <td>29179</td>\n",
              "      <td>57521</td>\n",
              "      <td>28369</td>\n",
              "      <td>29152</td>\n",
              "      <td>57522</td>\n",
              "      <td>28353</td>\n",
              "      <td>29169</td>\n",
              "      <td>57517</td>\n",
              "      <td>28304</td>\n",
              "      <td>29213</td>\n",
              "      <td>57827</td>\n",
              "      <td>28492</td>\n",
              "      <td>29335</td>\n",
              "      <td>57840</td>\n",
              "      <td>28500</td>\n",
              "      <td>29340</td>\n",
              "      <td>3616</td>\n",
              "      <td>1805</td>\n",
              "      <td>1811</td>\n",
              "      <td>3616</td>\n",
              "      <td>...</td>\n",
              "      <td>10309</td>\n",
              "      <td>20929</td>\n",
              "      <td>10576</td>\n",
              "      <td>10353</td>\n",
              "      <td>20847</td>\n",
              "      <td>10554</td>\n",
              "      <td>10293</td>\n",
              "      <td>39.0</td>\n",
              "      <td>38.0</td>\n",
              "      <td>40.0</td>\n",
              "      <td>39.0</td>\n",
              "      <td>38.0</td>\n",
              "      <td>40.0</td>\n",
              "      <td>39.1</td>\n",
              "      <td>38.1</td>\n",
              "      <td>40.1</td>\n",
              "      <td>39.3</td>\n",
              "      <td>38.3</td>\n",
              "      <td>40.3</td>\n",
              "      <td>39.7</td>\n",
              "      <td>38.7</td>\n",
              "      <td>40.6</td>\n",
              "      <td>40.0</td>\n",
              "      <td>39.2</td>\n",
              "      <td>40.8</td>\n",
              "      <td>40.5</td>\n",
              "      <td>39.6</td>\n",
              "      <td>41.4</td>\n",
              "      <td>40.7</td>\n",
              "      <td>39.7</td>\n",
              "      <td>41.7</td>\n",
              "      <td>40.9</td>\n",
              "      <td>39.8</td>\n",
              "      <td>41.8</td>\n",
              "      <td>40.8</td>\n",
              "      <td>39.8</td>\n",
              "      <td>41.7</td>\n",
              "      <td>40.9</td>\n",
              "      <td>39.9</td>\n",
              "      <td>41.9</td>\n",
              "    </tr>\n",
              "  </tbody>\n",
              "</table>\n",
              "<p>5 rows × 1092 columns</p>\n",
              "</div>"
            ],
            "text/plain": [
              "               Id  ...  Population Estimate (as of July 1) - 2018 - Female; Median age (years)\n",
              "0  0500000US01001  ...                                               40.5                     \n",
              "1  0500000US01003  ...                                               44.4                     \n",
              "2  0500000US01005  ...                                               44.7                     \n",
              "3  0500000US01007  ...                                               42.7                     \n",
              "4  0500000US01009  ...                                               41.9                     \n",
              "\n",
              "[5 rows x 1092 columns]"
            ]
          },
          "metadata": {
            "tags": []
          },
          "execution_count": 15
        }
      ]
    },
    {
      "cell_type": "code",
      "metadata": {
        "id": "1iImXnNPP1u-",
        "colab_type": "code",
        "colab": {}
      },
      "source": [
        "nm_county_df = county_df[county_df['Geography'].str.contains('New Mexico')]\n",
        "ariz_county_df = county_df[county_df['Geography'].str.contains('Arizona')]"
      ],
      "execution_count": 0,
      "outputs": []
    },
    {
      "cell_type": "code",
      "metadata": {
        "id": "Z0j_1U7EQGwi",
        "colab_type": "code",
        "outputId": "41e9e86d-ea87-43c2-dc74-fe95dde7570a",
        "colab": {
          "base_uri": "https://localhost:8080/",
          "height": 69
        }
      },
      "source": [
        "print(nm_county_df.shape)\n",
        "print(ariz_county_df.shape)"
      ],
      "execution_count": 17,
      "outputs": [
        {
          "output_type": "stream",
          "text": [
            "(33, 1092)\n",
            "(15, 1092)\n"
          ],
          "name": "stdout"
        }
      ]
    },
    {
      "cell_type": "code",
      "metadata": {
        "id": "-JiA4kHovEpC",
        "colab_type": "code",
        "colab": {}
      },
      "source": [
        "nm_county_pop = nm_county_df[['Geography','Population Estimate (as of July 1) - 2018 - Both Sexes; Total',\n",
        "                              'Population Estimate (as of July 1) - 2018 - Male; Total', \n",
        "                              'Population Estimate (as of July 1) - 2018 - Female; Total']].copy(deep=True)\n",
        "nm_county_df.reset_index(inplace=True, drop=True)"
      ],
      "execution_count": 0,
      "outputs": []
    },
    {
      "cell_type": "code",
      "metadata": {
        "id": "xsR_xwv3wntj",
        "colab_type": "code",
        "outputId": "b77d1f85-0df2-4ab9-bb06-a8bf9a6a6284",
        "colab": {
          "base_uri": "https://localhost:8080/",
          "height": 583
        }
      },
      "source": [
        "nm_county_pop.head()"
      ],
      "execution_count": 19,
      "outputs": [
        {
          "output_type": "execute_result",
          "data": {
            "text/html": [
              "<div>\n",
              "<style scoped>\n",
              "    .dataframe tbody tr th:only-of-type {\n",
              "        vertical-align: middle;\n",
              "    }\n",
              "\n",
              "    .dataframe tbody tr th {\n",
              "        vertical-align: top;\n",
              "    }\n",
              "\n",
              "    .dataframe thead th {\n",
              "        text-align: right;\n",
              "    }\n",
              "</style>\n",
              "<table border=\"1\" class=\"dataframe\">\n",
              "  <thead>\n",
              "    <tr style=\"text-align: right;\">\n",
              "      <th></th>\n",
              "      <th>Geography</th>\n",
              "      <th>Population Estimate (as of July 1) - 2018 - Both Sexes; Total</th>\n",
              "      <th>Population Estimate (as of July 1) - 2018 - Male; Total</th>\n",
              "      <th>Population Estimate (as of July 1) - 2018 - Female; Total</th>\n",
              "    </tr>\n",
              "  </thead>\n",
              "  <tbody>\n",
              "    <tr>\n",
              "      <th>1795</th>\n",
              "      <td>Bernalillo County, New Mexico</td>\n",
              "      <td>678701</td>\n",
              "      <td>332972</td>\n",
              "      <td>345729</td>\n",
              "    </tr>\n",
              "    <tr>\n",
              "      <th>1796</th>\n",
              "      <td>Catron County, New Mexico</td>\n",
              "      <td>3578</td>\n",
              "      <td>1889</td>\n",
              "      <td>1689</td>\n",
              "    </tr>\n",
              "    <tr>\n",
              "      <th>1797</th>\n",
              "      <td>Chaves County, New Mexico</td>\n",
              "      <td>64689</td>\n",
              "      <td>32098</td>\n",
              "      <td>32591</td>\n",
              "    </tr>\n",
              "    <tr>\n",
              "      <th>1798</th>\n",
              "      <td>Cibola County, New Mexico</td>\n",
              "      <td>26746</td>\n",
              "      <td>13666</td>\n",
              "      <td>13080</td>\n",
              "    </tr>\n",
              "    <tr>\n",
              "      <th>1799</th>\n",
              "      <td>Colfax County, New Mexico</td>\n",
              "      <td>12110</td>\n",
              "      <td>6142</td>\n",
              "      <td>5968</td>\n",
              "    </tr>\n",
              "  </tbody>\n",
              "</table>\n",
              "</div>"
            ],
            "text/plain": [
              "                          Geography  ...  Population Estimate (as of July 1) - 2018 - Female; Total\n",
              "1795  Bernalillo County, New Mexico  ...                                             345729        \n",
              "1796      Catron County, New Mexico  ...                                               1689        \n",
              "1797      Chaves County, New Mexico  ...                                              32591        \n",
              "1798      Cibola County, New Mexico  ...                                              13080        \n",
              "1799      Colfax County, New Mexico  ...                                               5968        \n",
              "\n",
              "[5 rows x 4 columns]"
            ]
          },
          "metadata": {
            "tags": []
          },
          "execution_count": 19
        }
      ]
    },
    {
      "cell_type": "code",
      "metadata": {
        "id": "fY1Ee7XcynSF",
        "colab_type": "code",
        "outputId": "086bb036-8491-460d-e527-adf4c1096d79",
        "colab": {
          "base_uri": "https://localhost:8080/",
          "height": 52
        }
      },
      "source": [
        "plt.figure(figsize=[13,8])\n",
        "plt.bar(nm_county_pop['Geography'],nm_county_pop['Population Estimate (as of July 1) - 2018 - Both Sexes; Total'],label='Male')\n",
        "#plt.bar(nm_county_pop['Geography'],nm_county_pop['Population Estimate (as of July 1) - 2018 - Male; Total'])\n",
        "plt.bar(nm_county_pop['Geography'],nm_county_pop['Population Estimate (as of July 1) - 2018 - Female; Total'], label='Female')\n",
        "plt.xticks(rotation=90)\n",
        "plt.ylabel('Population', fontsize=20)\n",
        "plt.xlabel('County', fontsize=20)\n",
        "plt.title('Population per County',fontsize=35)\n",
        "plt.legend(borderpad=2, labelspacing=2,fontsize=10);"
      ],
      "execution_count": 20,
      "outputs": [
        {
          "output_type": "display_data",
          "data": {
            "image/png": "[encoded data removed]",
            "text/plain": [
              "<Figure size 936x576 with 1 Axes>"
            ]
          },
          "metadata": {
            "tags": [],
            "needs_background": "light"
          }
        }
      ]
    },
    {
      "cell_type": "markdown",
      "metadata": {
        "id": "qY_8UHuidyo-",
        "colab_type": "text"
      },
      "source": [
        "## Stay at home orders timeline show how albuquerque reacted to covid19 and how it potentially helped us. link-https://www.kff.org/coronavirus-policy-watch/stay-at-home-orders-to-fight-covid19/"
      ]
    },
    {
      "cell_type": "markdown",
      "metadata": {
        "id": "gou-tUgUtCxI",
        "colab_type": "text"
      },
      "source": [
        "problem defintion- using the stay at home orders with other columns to possibly create a ranking sytem to show where albuquerque lands on reaction time of SAH order."
      ]
    },
    {
      "cell_type": "code",
      "metadata": {
        "id": "QSm5pc2Qd23K",
        "colab_type": "code",
        "colab": {}
      },
      "source": [
        "sah_df = pd.read_excel('/content/drive/My Drive/COVID19 Capstone/Statewide-Stay-at-Home-Orders.xlsx', skiprows=[0,1])"
      ],
      "execution_count": 0,
      "outputs": []
    },
    {
      "cell_type": "code",
      "metadata": {
        "id": "tILW8kLSeLHZ",
        "colab_type": "code",
        "outputId": "3799417a-144e-4924-af0b-8c7905af9617",
        "colab": {
          "base_uri": "https://localhost:8080/",
          "height": 237
        }
      },
      "source": [
        "sah_df.head()"
      ],
      "execution_count": 22,
      "outputs": [
        {
          "output_type": "execute_result",
          "data": {
            "text/html": [
              "<div>\n",
              "<style scoped>\n",
              "    .dataframe tbody tr th:only-of-type {\n",
              "        vertical-align: middle;\n",
              "    }\n",
              "\n",
              "    .dataframe tbody tr th {\n",
              "        vertical-align: top;\n",
              "    }\n",
              "\n",
              "    .dataframe thead th {\n",
              "        text-align: right;\n",
              "    }\n",
              "</style>\n",
              "<table border=\"1\" class=\"dataframe\">\n",
              "  <thead>\n",
              "    <tr style=\"text-align: right;\">\n",
              "      <th></th>\n",
              "      <th>State</th>\n",
              "      <th>Date Announced</th>\n",
              "      <th>Effective Date</th>\n",
              "    </tr>\n",
              "  </thead>\n",
              "  <tbody>\n",
              "    <tr>\n",
              "      <th>0</th>\n",
              "      <td>Alabama</td>\n",
              "      <td>April 3</td>\n",
              "      <td>April 4</td>\n",
              "    </tr>\n",
              "    <tr>\n",
              "      <th>1</th>\n",
              "      <td>Alaska</td>\n",
              "      <td>March 27</td>\n",
              "      <td>March 28</td>\n",
              "    </tr>\n",
              "    <tr>\n",
              "      <th>2</th>\n",
              "      <td>Arizona</td>\n",
              "      <td>March 30</td>\n",
              "      <td>March 31</td>\n",
              "    </tr>\n",
              "    <tr>\n",
              "      <th>3</th>\n",
              "      <td>Arkansas</td>\n",
              "      <td>-</td>\n",
              "      <td>-</td>\n",
              "    </tr>\n",
              "    <tr>\n",
              "      <th>4</th>\n",
              "      <td>California</td>\n",
              "      <td>March 19</td>\n",
              "      <td>March 19</td>\n",
              "    </tr>\n",
              "  </tbody>\n",
              "</table>\n",
              "</div>"
            ],
            "text/plain": [
              "        State Date Announced Effective Date\n",
              "0     Alabama        April 3        April 4\n",
              "1      Alaska       March 27       March 28\n",
              "2     Arizona       March 30       March 31\n",
              "3    Arkansas              -              -\n",
              "4  California       March 19       March 19"
            ]
          },
          "metadata": {
            "tags": []
          },
          "execution_count": 22
        }
      ]
    },
    {
      "cell_type": "code",
      "metadata": {
        "id": "2YHBV9yzj4yp",
        "colab_type": "code",
        "colab": {}
      },
      "source": [
        "#sah_df.sort_values('Effective Date',ascending=True)"
      ],
      "execution_count": 0,
      "outputs": []
    },
    {
      "cell_type": "code",
      "metadata": {
        "id": "iG6fcx5yeNOn",
        "colab_type": "code",
        "outputId": "e9e1c6f6-2395-4826-a1ff-86bf22b794de",
        "colab": {
          "base_uri": "https://localhost:8080/",
          "height": 102
        }
      },
      "source": [
        "sah_df.dtypes"
      ],
      "execution_count": 24,
      "outputs": [
        {
          "output_type": "execute_result",
          "data": {
            "text/plain": [
              "State             object\n",
              "Date Announced    object\n",
              "Effective Date    object\n",
              "dtype: object"
            ]
          },
          "metadata": {
            "tags": []
          },
          "execution_count": 24
        }
      ]
    },
    {
      "cell_type": "code",
      "metadata": {
        "id": "EYFZoEca0Hz4",
        "colab_type": "code",
        "colab": {}
      },
      "source": [
        "import datetime"
      ],
      "execution_count": 0,
      "outputs": []
    },
    {
      "cell_type": "code",
      "metadata": {
        "id": "Gb_rE3jCyJ8f",
        "colab_type": "code",
        "colab": {}
      },
      "source": [
        "sah_df['Date Announced'] = pd.to_datetime('2020 ' + sah_df['Date Announced'].astype(str), format=('%Y %B %d'), errors='coerce')"
      ],
      "execution_count": 0,
      "outputs": []
    },
    {
      "cell_type": "code",
      "metadata": {
        "id": "Uo69KToe8RzE",
        "colab_type": "code",
        "colab": {}
      },
      "source": [
        "sah_df['Effective Date'] = pd.to_datetime('2020 ' + sah_df['Effective Date'].astype(str), format=('%Y %B %d'), errors='coerce')"
      ],
      "execution_count": 0,
      "outputs": []
    },
    {
      "cell_type": "code",
      "metadata": {
        "id": "6PemlcmC6VsA",
        "colab_type": "code",
        "outputId": "05704528-1c87-4a5a-8180-fc68080bdf62",
        "colab": {
          "base_uri": "https://localhost:8080/",
          "height": 237
        }
      },
      "source": [
        "sah_df.head()"
      ],
      "execution_count": 28,
      "outputs": [
        {
          "output_type": "execute_result",
          "data": {
            "text/html": [
              "<div>\n",
              "<style scoped>\n",
              "    .dataframe tbody tr th:only-of-type {\n",
              "        vertical-align: middle;\n",
              "    }\n",
              "\n",
              "    .dataframe tbody tr th {\n",
              "        vertical-align: top;\n",
              "    }\n",
              "\n",
              "    .dataframe thead th {\n",
              "        text-align: right;\n",
              "    }\n",
              "</style>\n",
              "<table border=\"1\" class=\"dataframe\">\n",
              "  <thead>\n",
              "    <tr style=\"text-align: right;\">\n",
              "      <th></th>\n",
              "      <th>State</th>\n",
              "      <th>Date Announced</th>\n",
              "      <th>Effective Date</th>\n",
              "    </tr>\n",
              "  </thead>\n",
              "  <tbody>\n",
              "    <tr>\n",
              "      <th>0</th>\n",
              "      <td>Alabama</td>\n",
              "      <td>2020-04-03</td>\n",
              "      <td>2020-04-04</td>\n",
              "    </tr>\n",
              "    <tr>\n",
              "      <th>1</th>\n",
              "      <td>Alaska</td>\n",
              "      <td>2020-03-27</td>\n",
              "      <td>2020-03-28</td>\n",
              "    </tr>\n",
              "    <tr>\n",
              "      <th>2</th>\n",
              "      <td>Arizona</td>\n",
              "      <td>2020-03-30</td>\n",
              "      <td>2020-03-31</td>\n",
              "    </tr>\n",
              "    <tr>\n",
              "      <th>3</th>\n",
              "      <td>Arkansas</td>\n",
              "      <td>NaT</td>\n",
              "      <td>NaT</td>\n",
              "    </tr>\n",
              "    <tr>\n",
              "      <th>4</th>\n",
              "      <td>California</td>\n",
              "      <td>2020-03-19</td>\n",
              "      <td>2020-03-19</td>\n",
              "    </tr>\n",
              "  </tbody>\n",
              "</table>\n",
              "</div>"
            ],
            "text/plain": [
              "        State Date Announced Effective Date\n",
              "0     Alabama     2020-04-03     2020-04-04\n",
              "1      Alaska     2020-03-27     2020-03-28\n",
              "2     Arizona     2020-03-30     2020-03-31\n",
              "3    Arkansas            NaT            NaT\n",
              "4  California     2020-03-19     2020-03-19"
            ]
          },
          "metadata": {
            "tags": []
          },
          "execution_count": 28
        }
      ]
    },
    {
      "cell_type": "code",
      "metadata": {
        "id": "PYCVhTsL8Dq9",
        "colab_type": "code",
        "colab": {}
      },
      "source": [
        "# sah_df.fillna(value='None', inplace=True)"
      ],
      "execution_count": 0,
      "outputs": []
    },
    {
      "cell_type": "code",
      "metadata": {
        "id": "-ZYLC4ugqWj4",
        "colab_type": "code",
        "colab": {}
      },
      "source": [
        "import matplotlib.dates as mdates"
      ],
      "execution_count": 0,
      "outputs": []
    },
    {
      "cell_type": "markdown",
      "metadata": {
        "id": "x5Ews9iuChAb",
        "colab_type": "text"
      },
      "source": [
        "## State population Data - https://worldpopulationreview.com/states/"
      ]
    },
    {
      "cell_type": "markdown",
      "metadata": {
        "id": "xRbvP4edzMDK",
        "colab_type": "text"
      },
      "source": [
        "problem definition - the pop of states to use in the measurements "
      ]
    },
    {
      "cell_type": "code",
      "metadata": {
        "id": "PE4bYO--CkIV",
        "colab_type": "code",
        "colab": {}
      },
      "source": [
        "pop_df = pd.read_csv('/content/drive/My Drive/COVID19 Capstone/State_Pop_Data.csv')"
      ],
      "execution_count": 0,
      "outputs": []
    },
    {
      "cell_type": "code",
      "metadata": {
        "id": "EWmXijnvcziK",
        "colab_type": "code",
        "colab": {}
      },
      "source": [
        "us_state_abbrev = {\n",
        "    'Alabama': 'AL',\n",
        "    'Alaska': 'AK',\n",
        "    #'American Samoa': 'AS',\n",
        "    'Arizona': 'AZ',\n",
        "    'Arkansas': 'AR',\n",
        "    'California': 'CA',\n",
        "    'Colorado': 'CO',\n",
        "    'Connecticut': 'CT',\n",
        "    'Delaware': 'DE',\n",
        "    'District of Columbia': 'DC',\n",
        "    'Florida': 'FL',\n",
        "    'Georgia': 'GA',\n",
        "    #'Guam': 'GU',\n",
        "    'Hawaii': 'HI',\n",
        "    'Idaho': 'ID',\n",
        "    'Illinois': 'IL',\n",
        "    'Indiana': 'IN',\n",
        "    'Iowa': 'IA',\n",
        "    'Kansas': 'KS',\n",
        "    'Kentucky': 'KY',\n",
        "    'Louisiana': 'LA',\n",
        "    'Maine': 'ME',\n",
        "    'Maryland': 'MD',\n",
        "    'Massachusetts': 'MA',\n",
        "    'Michigan': 'MI',\n",
        "    'Minnesota': 'MN',\n",
        "    'Mississippi': 'MS',\n",
        "    'Missouri': 'MO',\n",
        "    'Montana': 'MT',\n",
        "    'Nebraska': 'NE',\n",
        "    'Nevada': 'NV',\n",
        "    'New Hampshire': 'NH',\n",
        "    'New Jersey': 'NJ',\n",
        "    'New Mexico': 'NM',\n",
        "    'New York': 'NY',\n",
        "    'North Carolina': 'NC',\n",
        "    'North Dakota': 'ND',\n",
        "    #'Northern Mariana Islands':'MP',\n",
        "    'Ohio': 'OH',\n",
        "    'Oklahoma': 'OK',\n",
        "    'Oregon': 'OR',\n",
        "    'Pennsylvania': 'PA',\n",
        "    'Puerto Rico': 'PR',\n",
        "    'Rhode Island': 'RI',\n",
        "    'South Carolina': 'SC',\n",
        "    'South Dakota': 'SD',\n",
        "    'Tennessee': 'TN',\n",
        "    'Texas': 'TX',\n",
        "    'Utah': 'UT',\n",
        "    'Vermont': 'VT',\n",
        "    'Virgin Islands': 'VI',\n",
        "    'Virginia': 'VA',\n",
        "    'Washington': 'WA',\n",
        "    'West Virginia': 'WV',\n",
        "    'Wisconsin': 'WI',\n",
        "    'Wyoming': 'WY'\n",
        "}\n",
        "\n",
        "# thank you to @kinghelix and @trevormarburger for this idea\n",
        "abbrev_us_state = dict(map(reversed, us_state_abbrev.items()))\n"
      ],
      "execution_count": 0,
      "outputs": []
    },
    {
      "cell_type": "code",
      "metadata": {
        "id": "WQz-1TnWgucM",
        "colab_type": "code",
        "colab": {}
      },
      "source": [
        "pop_df.index = pop_df['State']"
      ],
      "execution_count": 0,
      "outputs": []
    },
    {
      "cell_type": "code",
      "metadata": {
        "id": "bhjEI4BLh0Pf",
        "colab_type": "code",
        "outputId": "b203de03-d15a-436d-f329-9e22f8b8f2a5",
        "colab": {
          "base_uri": "https://localhost:8080/",
          "height": 251
        }
      },
      "source": [
        "pop_df.head()"
      ],
      "execution_count": 34,
      "outputs": [
        {
          "output_type": "execute_result",
          "data": {
            "text/html": [
              "<div>\n",
              "<style scoped>\n",
              "    .dataframe tbody tr th:only-of-type {\n",
              "        vertical-align: middle;\n",
              "    }\n",
              "\n",
              "    .dataframe tbody tr th {\n",
              "        vertical-align: top;\n",
              "    }\n",
              "\n",
              "    .dataframe thead th {\n",
              "        text-align: right;\n",
              "    }\n",
              "</style>\n",
              "<table border=\"1\" class=\"dataframe\">\n",
              "  <thead>\n",
              "    <tr style=\"text-align: right;\">\n",
              "      <th></th>\n",
              "      <th>rank</th>\n",
              "      <th>State</th>\n",
              "      <th>Pop</th>\n",
              "      <th>Growth</th>\n",
              "      <th>Pop2018</th>\n",
              "      <th>Pop2010</th>\n",
              "      <th>growthSince2010</th>\n",
              "      <th>Percent</th>\n",
              "      <th>density</th>\n",
              "    </tr>\n",
              "    <tr>\n",
              "      <th>State</th>\n",
              "      <th></th>\n",
              "      <th></th>\n",
              "      <th></th>\n",
              "      <th></th>\n",
              "      <th></th>\n",
              "      <th></th>\n",
              "      <th></th>\n",
              "      <th></th>\n",
              "      <th></th>\n",
              "    </tr>\n",
              "  </thead>\n",
              "  <tbody>\n",
              "    <tr>\n",
              "      <th>California</th>\n",
              "      <td>1</td>\n",
              "      <td>California</td>\n",
              "      <td>39937489</td>\n",
              "      <td>0.0096</td>\n",
              "      <td>39557045</td>\n",
              "      <td>37320903</td>\n",
              "      <td>0.0701</td>\n",
              "      <td>0.1194</td>\n",
              "      <td>256.3727</td>\n",
              "    </tr>\n",
              "    <tr>\n",
              "      <th>Texas</th>\n",
              "      <td>2</td>\n",
              "      <td>Texas</td>\n",
              "      <td>29472295</td>\n",
              "      <td>0.0268</td>\n",
              "      <td>28701845</td>\n",
              "      <td>25242679</td>\n",
              "      <td>0.1676</td>\n",
              "      <td>0.0881</td>\n",
              "      <td>112.8204</td>\n",
              "    </tr>\n",
              "    <tr>\n",
              "      <th>Florida</th>\n",
              "      <td>3</td>\n",
              "      <td>Florida</td>\n",
              "      <td>21992985</td>\n",
              "      <td>0.0326</td>\n",
              "      <td>21299325</td>\n",
              "      <td>18845785</td>\n",
              "      <td>0.1670</td>\n",
              "      <td>0.0658</td>\n",
              "      <td>410.1256</td>\n",
              "    </tr>\n",
              "    <tr>\n",
              "      <th>New York</th>\n",
              "      <td>4</td>\n",
              "      <td>New York</td>\n",
              "      <td>19440469</td>\n",
              "      <td>-0.0052</td>\n",
              "      <td>19542209</td>\n",
              "      <td>19400080</td>\n",
              "      <td>0.0021</td>\n",
              "      <td>0.0581</td>\n",
              "      <td>412.5211</td>\n",
              "    </tr>\n",
              "    <tr>\n",
              "      <th>Pennsylvania</th>\n",
              "      <td>5</td>\n",
              "      <td>Pennsylvania</td>\n",
              "      <td>12820878</td>\n",
              "      <td>0.0011</td>\n",
              "      <td>12807060</td>\n",
              "      <td>12711158</td>\n",
              "      <td>0.0086</td>\n",
              "      <td>0.0383</td>\n",
              "      <td>286.5449</td>\n",
              "    </tr>\n",
              "  </tbody>\n",
              "</table>\n",
              "</div>"
            ],
            "text/plain": [
              "              rank         State       Pop  ...  growthSince2010  Percent   density\n",
              "State                                       ...                                    \n",
              "California       1    California  39937489  ...           0.0701   0.1194  256.3727\n",
              "Texas            2         Texas  29472295  ...           0.1676   0.0881  112.8204\n",
              "Florida          3       Florida  21992985  ...           0.1670   0.0658  410.1256\n",
              "New York         4      New York  19440469  ...           0.0021   0.0581  412.5211\n",
              "Pennsylvania     5  Pennsylvania  12820878  ...           0.0086   0.0383  286.5449\n",
              "\n",
              "[5 rows x 9 columns]"
            ]
          },
          "metadata": {
            "tags": []
          },
          "execution_count": 34
        }
      ]
    },
    {
      "cell_type": "code",
      "metadata": {
        "id": "WC-PrOZodSpS",
        "colab_type": "code",
        "colab": {}
      },
      "source": [
        "state_abbrev_df =  pd.Series(us_state_abbrev)"
      ],
      "execution_count": 0,
      "outputs": []
    },
    {
      "cell_type": "code",
      "metadata": {
        "id": "OHwXZW7Vh7w5",
        "colab_type": "code",
        "outputId": "0972dcbe-d861-4c57-ad59-c1c076412814",
        "colab": {
          "base_uri": "https://localhost:8080/",
          "height": 135
        }
      },
      "source": [
        "state_abbrev_df.head()"
      ],
      "execution_count": 36,
      "outputs": [
        {
          "output_type": "execute_result",
          "data": {
            "text/plain": [
              "Alabama       AL\n",
              "Alaska        AK\n",
              "Arizona       AZ\n",
              "Arkansas      AR\n",
              "California    CA\n",
              "dtype: object"
            ]
          },
          "metadata": {
            "tags": []
          },
          "execution_count": 36
        }
      ]
    },
    {
      "cell_type": "code",
      "metadata": {
        "id": "fKmn8vhffPdP",
        "colab_type": "code",
        "colab": {}
      },
      "source": [
        "pop_df['state_abbrev'] = pd.Series(us_state_abbrev, index=pop_df.index)"
      ],
      "execution_count": 0,
      "outputs": []
    },
    {
      "cell_type": "code",
      "metadata": {
        "id": "VzONnnuff62Z",
        "colab_type": "code",
        "outputId": "5bae44ae-2594-4838-be5e-618bf1f06931",
        "colab": {
          "base_uri": "https://localhost:8080/",
          "height": 251
        }
      },
      "source": [
        "pop_df.head()"
      ],
      "execution_count": 38,
      "outputs": [
        {
          "output_type": "execute_result",
          "data": {
            "text/html": [
              "<div>\n",
              "<style scoped>\n",
              "    .dataframe tbody tr th:only-of-type {\n",
              "        vertical-align: middle;\n",
              "    }\n",
              "\n",
              "    .dataframe tbody tr th {\n",
              "        vertical-align: top;\n",
              "    }\n",
              "\n",
              "    .dataframe thead th {\n",
              "        text-align: right;\n",
              "    }\n",
              "</style>\n",
              "<table border=\"1\" class=\"dataframe\">\n",
              "  <thead>\n",
              "    <tr style=\"text-align: right;\">\n",
              "      <th></th>\n",
              "      <th>rank</th>\n",
              "      <th>State</th>\n",
              "      <th>Pop</th>\n",
              "      <th>Growth</th>\n",
              "      <th>Pop2018</th>\n",
              "      <th>Pop2010</th>\n",
              "      <th>growthSince2010</th>\n",
              "      <th>Percent</th>\n",
              "      <th>density</th>\n",
              "      <th>state_abbrev</th>\n",
              "    </tr>\n",
              "    <tr>\n",
              "      <th>State</th>\n",
              "      <th></th>\n",
              "      <th></th>\n",
              "      <th></th>\n",
              "      <th></th>\n",
              "      <th></th>\n",
              "      <th></th>\n",
              "      <th></th>\n",
              "      <th></th>\n",
              "      <th></th>\n",
              "      <th></th>\n",
              "    </tr>\n",
              "  </thead>\n",
              "  <tbody>\n",
              "    <tr>\n",
              "      <th>California</th>\n",
              "      <td>1</td>\n",
              "      <td>California</td>\n",
              "      <td>39937489</td>\n",
              "      <td>0.0096</td>\n",
              "      <td>39557045</td>\n",
              "      <td>37320903</td>\n",
              "      <td>0.0701</td>\n",
              "      <td>0.1194</td>\n",
              "      <td>256.3727</td>\n",
              "      <td>CA</td>\n",
              "    </tr>\n",
              "    <tr>\n",
              "      <th>Texas</th>\n",
              "      <td>2</td>\n",
              "      <td>Texas</td>\n",
              "      <td>29472295</td>\n",
              "      <td>0.0268</td>\n",
              "      <td>28701845</td>\n",
              "      <td>25242679</td>\n",
              "      <td>0.1676</td>\n",
              "      <td>0.0881</td>\n",
              "      <td>112.8204</td>\n",
              "      <td>TX</td>\n",
              "    </tr>\n",
              "    <tr>\n",
              "      <th>Florida</th>\n",
              "      <td>3</td>\n",
              "      <td>Florida</td>\n",
              "      <td>21992985</td>\n",
              "      <td>0.0326</td>\n",
              "      <td>21299325</td>\n",
              "      <td>18845785</td>\n",
              "      <td>0.1670</td>\n",
              "      <td>0.0658</td>\n",
              "      <td>410.1256</td>\n",
              "      <td>FL</td>\n",
              "    </tr>\n",
              "    <tr>\n",
              "      <th>New York</th>\n",
              "      <td>4</td>\n",
              "      <td>New York</td>\n",
              "      <td>19440469</td>\n",
              "      <td>-0.0052</td>\n",
              "      <td>19542209</td>\n",
              "      <td>19400080</td>\n",
              "      <td>0.0021</td>\n",
              "      <td>0.0581</td>\n",
              "      <td>412.5211</td>\n",
              "      <td>NY</td>\n",
              "    </tr>\n",
              "    <tr>\n",
              "      <th>Pennsylvania</th>\n",
              "      <td>5</td>\n",
              "      <td>Pennsylvania</td>\n",
              "      <td>12820878</td>\n",
              "      <td>0.0011</td>\n",
              "      <td>12807060</td>\n",
              "      <td>12711158</td>\n",
              "      <td>0.0086</td>\n",
              "      <td>0.0383</td>\n",
              "      <td>286.5449</td>\n",
              "      <td>PA</td>\n",
              "    </tr>\n",
              "  </tbody>\n",
              "</table>\n",
              "</div>"
            ],
            "text/plain": [
              "              rank         State       Pop  ...  Percent   density  state_abbrev\n",
              "State                                       ...                                 \n",
              "California       1    California  39937489  ...   0.1194  256.3727            CA\n",
              "Texas            2         Texas  29472295  ...   0.0881  112.8204            TX\n",
              "Florida          3       Florida  21992985  ...   0.0658  410.1256            FL\n",
              "New York         4      New York  19440469  ...   0.0581  412.5211            NY\n",
              "Pennsylvania     5  Pennsylvania  12820878  ...   0.0383  286.5449            PA\n",
              "\n",
              "[5 rows x 10 columns]"
            ]
          },
          "metadata": {
            "tags": []
          },
          "execution_count": 38
        }
      ]
    },
    {
      "cell_type": "markdown",
      "metadata": {
        "id": "BoT8HqBXVyCz",
        "colab_type": "text"
      },
      "source": [
        "## States covid cases vs pop density- https://worldpopulationreview.com/states/"
      ]
    },
    {
      "cell_type": "code",
      "metadata": {
        "id": "inY2frDLV2T-",
        "colab_type": "code",
        "outputId": "fd9557a8-5a00-4a17-8514-6d0511479ae3",
        "colab": {
          "base_uri": "https://localhost:8080/",
          "height": 201
        }
      },
      "source": [
        "cv_per_state = pd.read_csv('/content/drive/My Drive/COVID19 Capstone/states_covid.csv')\n",
        "cv_per_state.head()"
      ],
      "execution_count": 39,
      "outputs": [
        {
          "output_type": "execute_result",
          "data": {
            "text/html": [
              "<div>\n",
              "<style scoped>\n",
              "    .dataframe tbody tr th:only-of-type {\n",
              "        vertical-align: middle;\n",
              "    }\n",
              "\n",
              "    .dataframe tbody tr th {\n",
              "        vertical-align: top;\n",
              "    }\n",
              "\n",
              "    .dataframe thead th {\n",
              "        text-align: right;\n",
              "    }\n",
              "</style>\n",
              "<table border=\"1\" class=\"dataframe\">\n",
              "  <thead>\n",
              "    <tr style=\"text-align: right;\">\n",
              "      <th></th>\n",
              "      <th>name,</th>\n",
              "      <th>tested</th>\n",
              "      <th>positive</th>\n",
              "      <th>deaths</th>\n",
              "    </tr>\n",
              "  </thead>\n",
              "  <tbody>\n",
              "    <tr>\n",
              "      <th>0</th>\n",
              "      <td>AK</td>\n",
              "      <td>8664</td>\n",
              "      <td>293</td>\n",
              "      <td>9</td>\n",
              "    </tr>\n",
              "    <tr>\n",
              "      <th>1</th>\n",
              "      <td>AL</td>\n",
              "      <td>34077</td>\n",
              "      <td>4241</td>\n",
              "      <td>123</td>\n",
              "    </tr>\n",
              "    <tr>\n",
              "      <th>2</th>\n",
              "      <td>AR</td>\n",
              "      <td>22289</td>\n",
              "      <td>1599</td>\n",
              "      <td>34</td>\n",
              "    </tr>\n",
              "    <tr>\n",
              "      <th>3</th>\n",
              "      <td>AZ</td>\n",
              "      <td>45310</td>\n",
              "      <td>3962</td>\n",
              "      <td>142</td>\n",
              "    </tr>\n",
              "    <tr>\n",
              "      <th>4</th>\n",
              "      <td>CA</td>\n",
              "      <td>227600</td>\n",
              "      <td>24424</td>\n",
              "      <td>821</td>\n",
              "    </tr>\n",
              "  </tbody>\n",
              "</table>\n",
              "</div>"
            ],
            "text/plain": [
              "  name,  tested  positive  deaths\n",
              "0    AK    8664       293       9\n",
              "1    AL   34077      4241     123\n",
              "2    AR   22289      1599      34\n",
              "3    AZ   45310      3962     142\n",
              "4    CA  227600     24424     821"
            ]
          },
          "metadata": {
            "tags": []
          },
          "execution_count": 39
        }
      ]
    },
    {
      "cell_type": "code",
      "metadata": {
        "id": "yascmwFJkdrf",
        "colab_type": "code",
        "outputId": "8d8bfcfa-5ab1-45c3-af6e-8fdfb976a8d1",
        "colab": {
          "base_uri": "https://localhost:8080/",
          "height": 201
        }
      },
      "source": [
        "cv_per_state = cv_per_state.rename(columns={'name,':'state_abbrev'})\n",
        "cv_per_state.head()"
      ],
      "execution_count": 40,
      "outputs": [
        {
          "output_type": "execute_result",
          "data": {
            "text/html": [
              "<div>\n",
              "<style scoped>\n",
              "    .dataframe tbody tr th:only-of-type {\n",
              "        vertical-align: middle;\n",
              "    }\n",
              "\n",
              "    .dataframe tbody tr th {\n",
              "        vertical-align: top;\n",
              "    }\n",
              "\n",
              "    .dataframe thead th {\n",
              "        text-align: right;\n",
              "    }\n",
              "</style>\n",
              "<table border=\"1\" class=\"dataframe\">\n",
              "  <thead>\n",
              "    <tr style=\"text-align: right;\">\n",
              "      <th></th>\n",
              "      <th>state_abbrev</th>\n",
              "      <th>tested</th>\n",
              "      <th>positive</th>\n",
              "      <th>deaths</th>\n",
              "    </tr>\n",
              "  </thead>\n",
              "  <tbody>\n",
              "    <tr>\n",
              "      <th>0</th>\n",
              "      <td>AK</td>\n",
              "      <td>8664</td>\n",
              "      <td>293</td>\n",
              "      <td>9</td>\n",
              "    </tr>\n",
              "    <tr>\n",
              "      <th>1</th>\n",
              "      <td>AL</td>\n",
              "      <td>34077</td>\n",
              "      <td>4241</td>\n",
              "      <td>123</td>\n",
              "    </tr>\n",
              "    <tr>\n",
              "      <th>2</th>\n",
              "      <td>AR</td>\n",
              "      <td>22289</td>\n",
              "      <td>1599</td>\n",
              "      <td>34</td>\n",
              "    </tr>\n",
              "    <tr>\n",
              "      <th>3</th>\n",
              "      <td>AZ</td>\n",
              "      <td>45310</td>\n",
              "      <td>3962</td>\n",
              "      <td>142</td>\n",
              "    </tr>\n",
              "    <tr>\n",
              "      <th>4</th>\n",
              "      <td>CA</td>\n",
              "      <td>227600</td>\n",
              "      <td>24424</td>\n",
              "      <td>821</td>\n",
              "    </tr>\n",
              "  </tbody>\n",
              "</table>\n",
              "</div>"
            ],
            "text/plain": [
              "  state_abbrev  tested  positive  deaths\n",
              "0           AK    8664       293       9\n",
              "1           AL   34077      4241     123\n",
              "2           AR   22289      1599      34\n",
              "3           AZ   45310      3962     142\n",
              "4           CA  227600     24424     821"
            ]
          },
          "metadata": {
            "tags": []
          },
          "execution_count": 40
        }
      ]
    },
    {
      "cell_type": "code",
      "metadata": {
        "id": "L63u5uKsin6h",
        "colab_type": "code",
        "outputId": "a71f57ba-dc9f-487c-ef07-1ca0e87e9646",
        "colab": {
          "base_uri": "https://localhost:8080/",
          "height": 201
        }
      },
      "source": [
        "cases_per_state = pd.merge(pop_df,cv_per_state, on='state_abbrev')\n",
        "cases_per_state = cases_per_state.drop(columns=['Growth','Pop2018','growthSince2010','Percent']) \n",
        "cases_per_state.head()"
      ],
      "execution_count": 41,
      "outputs": [
        {
          "output_type": "execute_result",
          "data": {
            "text/html": [
              "<div>\n",
              "<style scoped>\n",
              "    .dataframe tbody tr th:only-of-type {\n",
              "        vertical-align: middle;\n",
              "    }\n",
              "\n",
              "    .dataframe tbody tr th {\n",
              "        vertical-align: top;\n",
              "    }\n",
              "\n",
              "    .dataframe thead th {\n",
              "        text-align: right;\n",
              "    }\n",
              "</style>\n",
              "<table border=\"1\" class=\"dataframe\">\n",
              "  <thead>\n",
              "    <tr style=\"text-align: right;\">\n",
              "      <th></th>\n",
              "      <th>rank</th>\n",
              "      <th>State</th>\n",
              "      <th>Pop</th>\n",
              "      <th>Pop2010</th>\n",
              "      <th>density</th>\n",
              "      <th>state_abbrev</th>\n",
              "      <th>tested</th>\n",
              "      <th>positive</th>\n",
              "      <th>deaths</th>\n",
              "    </tr>\n",
              "  </thead>\n",
              "  <tbody>\n",
              "    <tr>\n",
              "      <th>0</th>\n",
              "      <td>1</td>\n",
              "      <td>California</td>\n",
              "      <td>39937489</td>\n",
              "      <td>37320903</td>\n",
              "      <td>256.3727</td>\n",
              "      <td>CA</td>\n",
              "      <td>227600</td>\n",
              "      <td>24424</td>\n",
              "      <td>821</td>\n",
              "    </tr>\n",
              "    <tr>\n",
              "      <th>1</th>\n",
              "      <td>2</td>\n",
              "      <td>Texas</td>\n",
              "      <td>29472295</td>\n",
              "      <td>25242679</td>\n",
              "      <td>112.8204</td>\n",
              "      <td>TX</td>\n",
              "      <td>151810</td>\n",
              "      <td>15492</td>\n",
              "      <td>364</td>\n",
              "    </tr>\n",
              "    <tr>\n",
              "      <th>2</th>\n",
              "      <td>3</td>\n",
              "      <td>Florida</td>\n",
              "      <td>21992985</td>\n",
              "      <td>18845785</td>\n",
              "      <td>410.1256</td>\n",
              "      <td>FL</td>\n",
              "      <td>215521</td>\n",
              "      <td>22519</td>\n",
              "      <td>614</td>\n",
              "    </tr>\n",
              "    <tr>\n",
              "      <th>3</th>\n",
              "      <td>4</td>\n",
              "      <td>New York</td>\n",
              "      <td>19440469</td>\n",
              "      <td>19400080</td>\n",
              "      <td>412.5211</td>\n",
              "      <td>NY</td>\n",
              "      <td>526012</td>\n",
              "      <td>213779</td>\n",
              "      <td>11586</td>\n",
              "    </tr>\n",
              "    <tr>\n",
              "      <th>4</th>\n",
              "      <td>5</td>\n",
              "      <td>Pennsylvania</td>\n",
              "      <td>12820878</td>\n",
              "      <td>12711158</td>\n",
              "      <td>286.5449</td>\n",
              "      <td>PA</td>\n",
              "      <td>137584</td>\n",
              "      <td>26490</td>\n",
              "      <td>647</td>\n",
              "    </tr>\n",
              "  </tbody>\n",
              "</table>\n",
              "</div>"
            ],
            "text/plain": [
              "   rank         State       Pop  ...  tested  positive deaths\n",
              "0     1    California  39937489  ...  227600     24424    821\n",
              "1     2         Texas  29472295  ...  151810     15492    364\n",
              "2     3       Florida  21992985  ...  215521     22519    614\n",
              "3     4      New York  19440469  ...  526012    213779  11586\n",
              "4     5  Pennsylvania  12820878  ...  137584     26490    647\n",
              "\n",
              "[5 rows x 9 columns]"
            ]
          },
          "metadata": {
            "tags": []
          },
          "execution_count": 41
        }
      ]
    },
    {
      "cell_type": "code",
      "metadata": {
        "id": "ODzoUUOQ4guQ",
        "colab_type": "code",
        "outputId": "4faa5ca5-2206-4472-c881-abaa90e23bdd",
        "colab": {
          "base_uri": "https://localhost:8080/",
          "height": 396
        }
      },
      "source": [
        "#plt.figure(figsize=[15,10])\n",
        "plt.bar(cases_per_state['State'],cases_per_state['positive']/cases_per_state['tested'])\n",
        "plt.xticks(rotation=90)\n",
        "plt.title('Percent of Positive COVID-19 Test Per State', fontsize=25)\n",
        "plt.xlabel('State',fontsize=15)\n",
        "plt.ylabel('Percent of Positive Test', fontsize=15)\n",
        "plt.show();"
      ],
      "execution_count": 42,
      "outputs": [
        {
          "output_type": "display_data",
          "data": {
            "image/png": "[encoded data removed]",
            "text/plain": [
              "<Figure size 432x288 with 1 Axes>"
            ]
          },
          "metadata": {
            "tags": [],
            "needs_background": "light"
          }
        }
      ]
    },
    {
      "cell_type": "code",
      "metadata": {
        "id": "T20ME7q86TYs",
        "colab_type": "code",
        "outputId": "e32ea7d7-4d15-4a8f-a305-4ae9e548375b",
        "colab": {
          "base_uri": "https://localhost:8080/",
          "height": 451
        }
      },
      "source": [
        "#plt.figure(figsize=[15,10])\n",
        "plt.bar(cases_per_state['State'],cases_per_state['density'])\n",
        "plt.yscale('log')\n",
        "plt.xticks(rotation=90, fontsize=15, c='white')\n",
        "plt.yticks(fontsize=15, c='white')\n",
        "plt.title('Population Density per State', fontsize=25)\n",
        "plt.xlabel('State',fontsize=15)\n",
        "plt.ylabel('Density (Population per Square Mile)', fontsize=15)\n",
        "plt.show();"
      ],
      "execution_count": 43,
      "outputs": [
        {
          "output_type": "display_data",
          "data": {
            "image/png": "[encoded data removed]",
            "text/plain": [
              "<Figure size 432x288 with 1 Axes>"
            ]
          },
          "metadata": {
            "tags": [],
            "needs_background": "dark"
          }
        }
      ]
    },
    {
      "cell_type": "code",
      "metadata": {
        "id": "CaRAysUqoHXK",
        "colab_type": "code",
        "outputId": "353b1272-878b-4750-df38-b75b4f25c90d",
        "colab": {
          "base_uri": "https://localhost:8080/",
          "height": 311
        }
      },
      "source": [
        "#plt.figure(figsize=[15,10])\n",
        "plt.scatter(cases_per_state['density'], cases_per_state['positive'])\n",
        "plt.xscale('log')\n",
        "plt.yscale('log')\n",
        "plt.title('Population Density by Positive covid cases', fontsize=25)\n",
        "plt.xlabel('Population Density',fontsize=15)\n",
        "plt.ylabel('Positive Covid Cases', fontsize=15)\n",
        "plt.show();"
      ],
      "execution_count": 44,
      "outputs": [
        {
          "output_type": "display_data",
          "data": {
            "image/png": "[encoded data removed]",
            "text/plain": [
              "<Figure size 432x288 with 1 Axes>"
            ]
          },
          "metadata": {
            "tags": [],
            "needs_background": "light"
          }
        }
      ]
    },
    {
      "cell_type": "code",
      "metadata": {
        "id": "lye7nNDM2aN1",
        "colab_type": "code",
        "outputId": "f67b5da4-05e1-491c-87b8-ab0ed85e1899",
        "colab": {
          "base_uri": "https://localhost:8080/",
          "height": 201
        }
      },
      "source": [
        "cases_per_state = pd.merge(sah_df,cases_per_state, on='State')\n",
        "cases_per_state.head()"
      ],
      "execution_count": 45,
      "outputs": [
        {
          "output_type": "execute_result",
          "data": {
            "text/html": [
              "<div>\n",
              "<style scoped>\n",
              "    .dataframe tbody tr th:only-of-type {\n",
              "        vertical-align: middle;\n",
              "    }\n",
              "\n",
              "    .dataframe tbody tr th {\n",
              "        vertical-align: top;\n",
              "    }\n",
              "\n",
              "    .dataframe thead th {\n",
              "        text-align: right;\n",
              "    }\n",
              "</style>\n",
              "<table border=\"1\" class=\"dataframe\">\n",
              "  <thead>\n",
              "    <tr style=\"text-align: right;\">\n",
              "      <th></th>\n",
              "      <th>State</th>\n",
              "      <th>Date Announced</th>\n",
              "      <th>Effective Date</th>\n",
              "      <th>rank</th>\n",
              "      <th>Pop</th>\n",
              "      <th>Pop2010</th>\n",
              "      <th>density</th>\n",
              "      <th>state_abbrev</th>\n",
              "      <th>tested</th>\n",
              "      <th>positive</th>\n",
              "      <th>deaths</th>\n",
              "    </tr>\n",
              "  </thead>\n",
              "  <tbody>\n",
              "    <tr>\n",
              "      <th>0</th>\n",
              "      <td>Alabama</td>\n",
              "      <td>2020-04-03</td>\n",
              "      <td>2020-04-04</td>\n",
              "      <td>24</td>\n",
              "      <td>4908621</td>\n",
              "      <td>4785448</td>\n",
              "      <td>96.9221</td>\n",
              "      <td>AL</td>\n",
              "      <td>34077</td>\n",
              "      <td>4241</td>\n",
              "      <td>123</td>\n",
              "    </tr>\n",
              "    <tr>\n",
              "      <th>1</th>\n",
              "      <td>Alaska</td>\n",
              "      <td>2020-03-27</td>\n",
              "      <td>2020-03-28</td>\n",
              "      <td>49</td>\n",
              "      <td>734002</td>\n",
              "      <td>713906</td>\n",
              "      <td>1.2863</td>\n",
              "      <td>AK</td>\n",
              "      <td>8664</td>\n",
              "      <td>293</td>\n",
              "      <td>9</td>\n",
              "    </tr>\n",
              "    <tr>\n",
              "      <th>2</th>\n",
              "      <td>Arizona</td>\n",
              "      <td>2020-03-30</td>\n",
              "      <td>2020-03-31</td>\n",
              "      <td>14</td>\n",
              "      <td>7378494</td>\n",
              "      <td>6407774</td>\n",
              "      <td>64.9550</td>\n",
              "      <td>AZ</td>\n",
              "      <td>45310</td>\n",
              "      <td>3962</td>\n",
              "      <td>142</td>\n",
              "    </tr>\n",
              "    <tr>\n",
              "      <th>3</th>\n",
              "      <td>Arkansas</td>\n",
              "      <td>NaT</td>\n",
              "      <td>NaT</td>\n",
              "      <td>33</td>\n",
              "      <td>3038999</td>\n",
              "      <td>2921978</td>\n",
              "      <td>58.4030</td>\n",
              "      <td>AR</td>\n",
              "      <td>22289</td>\n",
              "      <td>1599</td>\n",
              "      <td>34</td>\n",
              "    </tr>\n",
              "    <tr>\n",
              "      <th>4</th>\n",
              "      <td>California</td>\n",
              "      <td>2020-03-19</td>\n",
              "      <td>2020-03-19</td>\n",
              "      <td>1</td>\n",
              "      <td>39937489</td>\n",
              "      <td>37320903</td>\n",
              "      <td>256.3727</td>\n",
              "      <td>CA</td>\n",
              "      <td>227600</td>\n",
              "      <td>24424</td>\n",
              "      <td>821</td>\n",
              "    </tr>\n",
              "  </tbody>\n",
              "</table>\n",
              "</div>"
            ],
            "text/plain": [
              "        State Date Announced Effective Date  ...  tested  positive  deaths\n",
              "0     Alabama     2020-04-03     2020-04-04  ...   34077      4241     123\n",
              "1      Alaska     2020-03-27     2020-03-28  ...    8664       293       9\n",
              "2     Arizona     2020-03-30     2020-03-31  ...   45310      3962     142\n",
              "3    Arkansas            NaT            NaT  ...   22289      1599      34\n",
              "4  California     2020-03-19     2020-03-19  ...  227600     24424     821\n",
              "\n",
              "[5 rows x 11 columns]"
            ]
          },
          "metadata": {
            "tags": []
          },
          "execution_count": 45
        }
      ]
    },
    {
      "cell_type": "code",
      "metadata": {
        "id": "bIcuts47b6aE",
        "colab_type": "code",
        "outputId": "6a891829-f75d-4c25-cb4c-d469f78f5a07",
        "colab": {
          "base_uri": "https://localhost:8080/",
          "height": 201
        }
      },
      "source": [
        "cases_per_state.sort_values(by='density', ascending=False).head(5)"
      ],
      "execution_count": 46,
      "outputs": [
        {
          "output_type": "execute_result",
          "data": {
            "text/html": [
              "<div>\n",
              "<style scoped>\n",
              "    .dataframe tbody tr th:only-of-type {\n",
              "        vertical-align: middle;\n",
              "    }\n",
              "\n",
              "    .dataframe tbody tr th {\n",
              "        vertical-align: top;\n",
              "    }\n",
              "\n",
              "    .dataframe thead th {\n",
              "        text-align: right;\n",
              "    }\n",
              "</style>\n",
              "<table border=\"1\" class=\"dataframe\">\n",
              "  <thead>\n",
              "    <tr style=\"text-align: right;\">\n",
              "      <th></th>\n",
              "      <th>State</th>\n",
              "      <th>Date Announced</th>\n",
              "      <th>Effective Date</th>\n",
              "      <th>rank</th>\n",
              "      <th>Pop</th>\n",
              "      <th>Pop2010</th>\n",
              "      <th>density</th>\n",
              "      <th>state_abbrev</th>\n",
              "      <th>tested</th>\n",
              "      <th>positive</th>\n",
              "      <th>deaths</th>\n",
              "    </tr>\n",
              "  </thead>\n",
              "  <tbody>\n",
              "    <tr>\n",
              "      <th>8</th>\n",
              "      <td>District of Columbia</td>\n",
              "      <td>2020-03-30</td>\n",
              "      <td>2020-04-01</td>\n",
              "      <td>50</td>\n",
              "      <td>720687</td>\n",
              "      <td>605085</td>\n",
              "      <td>11814.5410</td>\n",
              "      <td>DC</td>\n",
              "      <td>11525</td>\n",
              "      <td>2197</td>\n",
              "      <td>72</td>\n",
              "    </tr>\n",
              "    <tr>\n",
              "      <th>29</th>\n",
              "      <td>New Jersey</td>\n",
              "      <td>2020-03-20</td>\n",
              "      <td>2020-03-21</td>\n",
              "      <td>11</td>\n",
              "      <td>8936574</td>\n",
              "      <td>8799624</td>\n",
              "      <td>1215.1991</td>\n",
              "      <td>NJ</td>\n",
              "      <td>144021</td>\n",
              "      <td>71030</td>\n",
              "      <td>3156</td>\n",
              "    </tr>\n",
              "    <tr>\n",
              "      <th>38</th>\n",
              "      <td>Rhode Island</td>\n",
              "      <td>2020-03-28</td>\n",
              "      <td>2020-03-28</td>\n",
              "      <td>45</td>\n",
              "      <td>1056161</td>\n",
              "      <td>1053938</td>\n",
              "      <td>1021.4323</td>\n",
              "      <td>RI</td>\n",
              "      <td>25897</td>\n",
              "      <td>3529</td>\n",
              "      <td>87</td>\n",
              "    </tr>\n",
              "    <tr>\n",
              "      <th>20</th>\n",
              "      <td>Massachusetts</td>\n",
              "      <td>2020-03-23</td>\n",
              "      <td>2020-03-24</td>\n",
              "      <td>15</td>\n",
              "      <td>6976597</td>\n",
              "      <td>6566431</td>\n",
              "      <td>894.4355</td>\n",
              "      <td>MA</td>\n",
              "      <td>132023</td>\n",
              "      <td>29918</td>\n",
              "      <td>1108</td>\n",
              "    </tr>\n",
              "    <tr>\n",
              "      <th>6</th>\n",
              "      <td>Connecticut</td>\n",
              "      <td>2020-03-20</td>\n",
              "      <td>2020-03-23</td>\n",
              "      <td>29</td>\n",
              "      <td>3563077</td>\n",
              "      <td>3579125</td>\n",
              "      <td>735.8689</td>\n",
              "      <td>CT</td>\n",
              "      <td>50143</td>\n",
              "      <td>14755</td>\n",
              "      <td>868</td>\n",
              "    </tr>\n",
              "  </tbody>\n",
              "</table>\n",
              "</div>"
            ],
            "text/plain": [
              "                   State Date Announced  ... positive  deaths\n",
              "8   District of Columbia     2020-03-30  ...     2197      72\n",
              "29            New Jersey     2020-03-20  ...    71030    3156\n",
              "38          Rhode Island     2020-03-28  ...     3529      87\n",
              "20         Massachusetts     2020-03-23  ...    29918    1108\n",
              "6            Connecticut     2020-03-20  ...    14755     868\n",
              "\n",
              "[5 rows x 11 columns]"
            ]
          },
          "metadata": {
            "tags": []
          },
          "execution_count": 46
        }
      ]
    },
    {
      "cell_type": "code",
      "metadata": {
        "id": "72Y1a4mbcgcM",
        "colab_type": "code",
        "colab": {}
      },
      "source": [
        "cases_per_state['case_per_capita'] = cases_per_state['positive']/cases_per_state['Pop']*100"
      ],
      "execution_count": 0,
      "outputs": []
    },
    {
      "cell_type": "code",
      "metadata": {
        "id": "LmATzY0Icz3d",
        "colab_type": "code",
        "outputId": "3d7e9ab6-86be-4317-80f4-8cedf2656d8e",
        "colab": {
          "base_uri": "https://localhost:8080/",
          "height": 507
        }
      },
      "source": [
        "cases_per_state.sort_values(by='density', ascending=False).head(15)"
      ],
      "execution_count": 48,
      "outputs": [
        {
          "output_type": "execute_result",
          "data": {
            "text/html": [
              "<div>\n",
              "<style scoped>\n",
              "    .dataframe tbody tr th:only-of-type {\n",
              "        vertical-align: middle;\n",
              "    }\n",
              "\n",
              "    .dataframe tbody tr th {\n",
              "        vertical-align: top;\n",
              "    }\n",
              "\n",
              "    .dataframe thead th {\n",
              "        text-align: right;\n",
              "    }\n",
              "</style>\n",
              "<table border=\"1\" class=\"dataframe\">\n",
              "  <thead>\n",
              "    <tr style=\"text-align: right;\">\n",
              "      <th></th>\n",
              "      <th>State</th>\n",
              "      <th>Date Announced</th>\n",
              "      <th>Effective Date</th>\n",
              "      <th>rank</th>\n",
              "      <th>Pop</th>\n",
              "      <th>Pop2010</th>\n",
              "      <th>density</th>\n",
              "      <th>state_abbrev</th>\n",
              "      <th>tested</th>\n",
              "      <th>positive</th>\n",
              "      <th>deaths</th>\n",
              "      <th>case_per_capita</th>\n",
              "    </tr>\n",
              "  </thead>\n",
              "  <tbody>\n",
              "    <tr>\n",
              "      <th>8</th>\n",
              "      <td>District of Columbia</td>\n",
              "      <td>2020-03-30</td>\n",
              "      <td>2020-04-01</td>\n",
              "      <td>50</td>\n",
              "      <td>720687</td>\n",
              "      <td>605085</td>\n",
              "      <td>11814.5410</td>\n",
              "      <td>DC</td>\n",
              "      <td>11525</td>\n",
              "      <td>2197</td>\n",
              "      <td>72</td>\n",
              "      <td>0.304848</td>\n",
              "    </tr>\n",
              "    <tr>\n",
              "      <th>29</th>\n",
              "      <td>New Jersey</td>\n",
              "      <td>2020-03-20</td>\n",
              "      <td>2020-03-21</td>\n",
              "      <td>11</td>\n",
              "      <td>8936574</td>\n",
              "      <td>8799624</td>\n",
              "      <td>1215.1991</td>\n",
              "      <td>NJ</td>\n",
              "      <td>144021</td>\n",
              "      <td>71030</td>\n",
              "      <td>3156</td>\n",
              "      <td>0.794824</td>\n",
              "    </tr>\n",
              "    <tr>\n",
              "      <th>38</th>\n",
              "      <td>Rhode Island</td>\n",
              "      <td>2020-03-28</td>\n",
              "      <td>2020-03-28</td>\n",
              "      <td>45</td>\n",
              "      <td>1056161</td>\n",
              "      <td>1053938</td>\n",
              "      <td>1021.4323</td>\n",
              "      <td>RI</td>\n",
              "      <td>25897</td>\n",
              "      <td>3529</td>\n",
              "      <td>87</td>\n",
              "      <td>0.334135</td>\n",
              "    </tr>\n",
              "    <tr>\n",
              "      <th>20</th>\n",
              "      <td>Massachusetts</td>\n",
              "      <td>2020-03-23</td>\n",
              "      <td>2020-03-24</td>\n",
              "      <td>15</td>\n",
              "      <td>6976597</td>\n",
              "      <td>6566431</td>\n",
              "      <td>894.4355</td>\n",
              "      <td>MA</td>\n",
              "      <td>132023</td>\n",
              "      <td>29918</td>\n",
              "      <td>1108</td>\n",
              "      <td>0.428834</td>\n",
              "    </tr>\n",
              "    <tr>\n",
              "      <th>6</th>\n",
              "      <td>Connecticut</td>\n",
              "      <td>2020-03-20</td>\n",
              "      <td>2020-03-23</td>\n",
              "      <td>29</td>\n",
              "      <td>3563077</td>\n",
              "      <td>3579125</td>\n",
              "      <td>735.8689</td>\n",
              "      <td>CT</td>\n",
              "      <td>50143</td>\n",
              "      <td>14755</td>\n",
              "      <td>868</td>\n",
              "      <td>0.414108</td>\n",
              "    </tr>\n",
              "    <tr>\n",
              "      <th>19</th>\n",
              "      <td>Maryland</td>\n",
              "      <td>2020-03-30</td>\n",
              "      <td>2020-03-30</td>\n",
              "      <td>19</td>\n",
              "      <td>6083116</td>\n",
              "      <td>5788642</td>\n",
              "      <td>626.6731</td>\n",
              "      <td>MD</td>\n",
              "      <td>55763</td>\n",
              "      <td>10032</td>\n",
              "      <td>349</td>\n",
              "      <td>0.164915</td>\n",
              "    </tr>\n",
              "    <tr>\n",
              "      <th>7</th>\n",
              "      <td>Delaware</td>\n",
              "      <td>2020-03-22</td>\n",
              "      <td>2020-03-24</td>\n",
              "      <td>46</td>\n",
              "      <td>982895</td>\n",
              "      <td>899595</td>\n",
              "      <td>504.3073</td>\n",
              "      <td>DE</td>\n",
              "      <td>13102</td>\n",
              "      <td>2014</td>\n",
              "      <td>46</td>\n",
              "      <td>0.204905</td>\n",
              "    </tr>\n",
              "    <tr>\n",
              "      <th>31</th>\n",
              "      <td>New York</td>\n",
              "      <td>2020-03-20</td>\n",
              "      <td>2020-03-22</td>\n",
              "      <td>4</td>\n",
              "      <td>19440469</td>\n",
              "      <td>19400080</td>\n",
              "      <td>412.5211</td>\n",
              "      <td>NY</td>\n",
              "      <td>526012</td>\n",
              "      <td>213779</td>\n",
              "      <td>11586</td>\n",
              "      <td>1.099660</td>\n",
              "    </tr>\n",
              "    <tr>\n",
              "      <th>9</th>\n",
              "      <td>Florida</td>\n",
              "      <td>2020-04-01</td>\n",
              "      <td>2020-04-03</td>\n",
              "      <td>3</td>\n",
              "      <td>21992985</td>\n",
              "      <td>18845785</td>\n",
              "      <td>410.1256</td>\n",
              "      <td>FL</td>\n",
              "      <td>215521</td>\n",
              "      <td>22519</td>\n",
              "      <td>614</td>\n",
              "      <td>0.102392</td>\n",
              "    </tr>\n",
              "    <tr>\n",
              "      <th>34</th>\n",
              "      <td>Ohio</td>\n",
              "      <td>2020-03-22</td>\n",
              "      <td>2020-03-23</td>\n",
              "      <td>7</td>\n",
              "      <td>11747694</td>\n",
              "      <td>11539327</td>\n",
              "      <td>287.5038</td>\n",
              "      <td>OH</td>\n",
              "      <td>71552</td>\n",
              "      <td>7791</td>\n",
              "      <td>361</td>\n",
              "      <td>0.066319</td>\n",
              "    </tr>\n",
              "    <tr>\n",
              "      <th>37</th>\n",
              "      <td>Pennsylvania</td>\n",
              "      <td>2020-03-23</td>\n",
              "      <td>2020-04-01</td>\n",
              "      <td>5</td>\n",
              "      <td>12820878</td>\n",
              "      <td>12711158</td>\n",
              "      <td>286.5449</td>\n",
              "      <td>PA</td>\n",
              "      <td>137584</td>\n",
              "      <td>26490</td>\n",
              "      <td>647</td>\n",
              "      <td>0.206616</td>\n",
              "    </tr>\n",
              "    <tr>\n",
              "      <th>4</th>\n",
              "      <td>California</td>\n",
              "      <td>2020-03-19</td>\n",
              "      <td>2020-03-19</td>\n",
              "      <td>1</td>\n",
              "      <td>39937489</td>\n",
              "      <td>37320903</td>\n",
              "      <td>256.3727</td>\n",
              "      <td>CA</td>\n",
              "      <td>227600</td>\n",
              "      <td>24424</td>\n",
              "      <td>821</td>\n",
              "      <td>0.061156</td>\n",
              "    </tr>\n",
              "    <tr>\n",
              "      <th>12</th>\n",
              "      <td>Illinois</td>\n",
              "      <td>2020-03-20</td>\n",
              "      <td>2020-03-21</td>\n",
              "      <td>6</td>\n",
              "      <td>12659682</td>\n",
              "      <td>12840762</td>\n",
              "      <td>228.0243</td>\n",
              "      <td>IL</td>\n",
              "      <td>116929</td>\n",
              "      <td>24593</td>\n",
              "      <td>948</td>\n",
              "      <td>0.194262</td>\n",
              "    </tr>\n",
              "    <tr>\n",
              "      <th>45</th>\n",
              "      <td>Virginia</td>\n",
              "      <td>2020-03-30</td>\n",
              "      <td>2020-03-30</td>\n",
              "      <td>12</td>\n",
              "      <td>8626207</td>\n",
              "      <td>8023680</td>\n",
              "      <td>218.4403</td>\n",
              "      <td>VA</td>\n",
              "      <td>46444</td>\n",
              "      <td>6889</td>\n",
              "      <td>208</td>\n",
              "      <td>0.079861</td>\n",
              "    </tr>\n",
              "    <tr>\n",
              "      <th>32</th>\n",
              "      <td>North Carolina</td>\n",
              "      <td>2020-03-27</td>\n",
              "      <td>2020-03-30</td>\n",
              "      <td>9</td>\n",
              "      <td>10611862</td>\n",
              "      <td>9574293</td>\n",
              "      <td>218.2702</td>\n",
              "      <td>NC</td>\n",
              "      <td>67827</td>\n",
              "      <td>5123</td>\n",
              "      <td>117</td>\n",
              "      <td>0.048276</td>\n",
              "    </tr>\n",
              "  </tbody>\n",
              "</table>\n",
              "</div>"
            ],
            "text/plain": [
              "                   State Date Announced  ... deaths  case_per_capita\n",
              "8   District of Columbia     2020-03-30  ...     72         0.304848\n",
              "29            New Jersey     2020-03-20  ...   3156         0.794824\n",
              "38          Rhode Island     2020-03-28  ...     87         0.334135\n",
              "20         Massachusetts     2020-03-23  ...   1108         0.428834\n",
              "6            Connecticut     2020-03-20  ...    868         0.414108\n",
              "19              Maryland     2020-03-30  ...    349         0.164915\n",
              "7               Delaware     2020-03-22  ...     46         0.204905\n",
              "31              New York     2020-03-20  ...  11586         1.099660\n",
              "9                Florida     2020-04-01  ...    614         0.102392\n",
              "34                  Ohio     2020-03-22  ...    361         0.066319\n",
              "37          Pennsylvania     2020-03-23  ...    647         0.206616\n",
              "4             California     2020-03-19  ...    821         0.061156\n",
              "12              Illinois     2020-03-20  ...    948         0.194262\n",
              "45              Virginia     2020-03-30  ...    208         0.079861\n",
              "32        North Carolina     2020-03-27  ...    117         0.048276\n",
              "\n",
              "[15 rows x 12 columns]"
            ]
          },
          "metadata": {
            "tags": []
          },
          "execution_count": 48
        }
      ]
    },
    {
      "cell_type": "code",
      "metadata": {
        "id": "XwsY-R_idKnm",
        "colab_type": "code",
        "outputId": "3e80301a-6919-4211-a65c-1e982bd13720",
        "colab": {
          "base_uri": "https://localhost:8080/",
          "height": 594
        }
      },
      "source": [
        "plt.figure(figsize=[10,10])\n",
        "plt.scatter('density','case_per_capita', data=cases_per_state)\n",
        "plt.yscale('log')\n",
        "plt.xscale('log')"
      ],
      "execution_count": 49,
      "outputs": [
        {
          "output_type": "display_data",
          "data": {
            "image/png": "[encoded data removed]",
            "text/plain": [
              "<Figure size 720x720 with 1 Axes>"
            ]
          },
          "metadata": {
            "tags": [],
            "needs_background": "light"
          }
        }
      ]
    },
    {
      "cell_type": "markdown",
      "metadata": {
        "id": "adarTxrHKx_k",
        "colab_type": "text"
      },
      "source": [
        "We cant add cases per capita to make a predictive model ! We would need something else like ave age per state. or avg amount of people with prior conditions."
      ]
    },
    {
      "cell_type": "markdown",
      "metadata": {
        "id": "rGiNTOMk1vB2",
        "colab_type": "text"
      },
      "source": [
        "### Linear regression test"
      ]
    },
    {
      "cell_type": "code",
      "metadata": {
        "id": "q4toE7KJ2fFE",
        "colab_type": "code",
        "colab": {}
      },
      "source": [
        "import statsmodels.api as sm"
      ],
      "execution_count": 0,
      "outputs": []
    },
    {
      "cell_type": "code",
      "metadata": {
        "id": "BsUDcZH81xUe",
        "colab_type": "code",
        "outputId": "ed622b4f-7eb8-48c7-c7e6-95f9b342c9ad",
        "colab": {
          "base_uri": "https://localhost:8080/",
          "height": 221
        }
      },
      "source": [
        "target = pd.DataFrame(cases_per_state.positive, columns=['positive'])\n",
        "target.head()"
      ],
      "execution_count": 51,
      "outputs": [
        {
          "output_type": "execute_result",
          "data": {
            "text/html": [
              "<div>\n",
              "<style scoped>\n",
              "    .dataframe tbody tr th:only-of-type {\n",
              "        vertical-align: middle;\n",
              "    }\n",
              "\n",
              "    .dataframe tbody tr th {\n",
              "        vertical-align: top;\n",
              "    }\n",
              "\n",
              "    .dataframe thead th {\n",
              "        text-align: right;\n",
              "    }\n",
              "</style>\n",
              "<table border=\"1\" class=\"dataframe\">\n",
              "  <thead>\n",
              "    <tr style=\"text-align: right;\">\n",
              "      <th></th>\n",
              "      <th>positive</th>\n",
              "    </tr>\n",
              "  </thead>\n",
              "  <tbody>\n",
              "    <tr>\n",
              "      <th>0</th>\n",
              "      <td>4241</td>\n",
              "    </tr>\n",
              "    <tr>\n",
              "      <th>1</th>\n",
              "      <td>293</td>\n",
              "    </tr>\n",
              "    <tr>\n",
              "      <th>2</th>\n",
              "      <td>3962</td>\n",
              "    </tr>\n",
              "    <tr>\n",
              "      <th>3</th>\n",
              "      <td>1599</td>\n",
              "    </tr>\n",
              "    <tr>\n",
              "      <th>4</th>\n",
              "      <td>24424</td>\n",
              "    </tr>\n",
              "  </tbody>\n",
              "</table>\n",
              "</div>"
            ],
            "text/plain": [
              "   positive\n",
              "0      4241\n",
              "1       293\n",
              "2      3962\n",
              "3      1599\n",
              "4     24424"
            ]
          },
          "metadata": {
            "tags": []
          },
          "execution_count": 51
        }
      ]
    },
    {
      "cell_type": "code",
      "metadata": {
        "id": "pIRp9Ht1O9St",
        "colab_type": "code",
        "colab": {}
      },
      "source": [
        "target['positive']= np.log(target['positive'])"
      ],
      "execution_count": 0,
      "outputs": []
    },
    {
      "cell_type": "code",
      "metadata": {
        "id": "nkA7fdyrPRcI",
        "colab_type": "code",
        "outputId": "d092ca38-8172-49bd-fa37-29eadfdef9b6",
        "colab": {
          "base_uri": "https://localhost:8080/",
          "height": 221
        }
      },
      "source": [
        "target.head()"
      ],
      "execution_count": 53,
      "outputs": [
        {
          "output_type": "execute_result",
          "data": {
            "text/html": [
              "<div>\n",
              "<style scoped>\n",
              "    .dataframe tbody tr th:only-of-type {\n",
              "        vertical-align: middle;\n",
              "    }\n",
              "\n",
              "    .dataframe tbody tr th {\n",
              "        vertical-align: top;\n",
              "    }\n",
              "\n",
              "    .dataframe thead th {\n",
              "        text-align: right;\n",
              "    }\n",
              "</style>\n",
              "<table border=\"1\" class=\"dataframe\">\n",
              "  <thead>\n",
              "    <tr style=\"text-align: right;\">\n",
              "      <th></th>\n",
              "      <th>positive</th>\n",
              "    </tr>\n",
              "  </thead>\n",
              "  <tbody>\n",
              "    <tr>\n",
              "      <th>0</th>\n",
              "      <td>8.352554</td>\n",
              "    </tr>\n",
              "    <tr>\n",
              "      <th>1</th>\n",
              "      <td>5.680173</td>\n",
              "    </tr>\n",
              "    <tr>\n",
              "      <th>2</th>\n",
              "      <td>8.284504</td>\n",
              "    </tr>\n",
              "    <tr>\n",
              "      <th>3</th>\n",
              "      <td>7.377134</td>\n",
              "    </tr>\n",
              "    <tr>\n",
              "      <th>4</th>\n",
              "      <td>10.103322</td>\n",
              "    </tr>\n",
              "  </tbody>\n",
              "</table>\n",
              "</div>"
            ],
            "text/plain": [
              "    positive\n",
              "0   8.352554\n",
              "1   5.680173\n",
              "2   8.284504\n",
              "3   7.377134\n",
              "4  10.103322"
            ]
          },
          "metadata": {
            "tags": []
          },
          "execution_count": 53
        }
      ]
    },
    {
      "cell_type": "code",
      "metadata": {
        "id": "tN4iM47T1tTm",
        "colab_type": "code",
        "outputId": "db153872-360b-470b-c11b-03cd6b07b273",
        "colab": {
          "base_uri": "https://localhost:8080/",
          "height": 221
        }
      },
      "source": [
        "X = pd.DataFrame(cases_per_state[['density']])\n",
        "X['Ones'] = 1\n",
        "# Why did we put ones again\n",
        "X.tail()"
      ],
      "execution_count": 54,
      "outputs": [
        {
          "output_type": "execute_result",
          "data": {
            "text/html": [
              "<div>\n",
              "<style scoped>\n",
              "    .dataframe tbody tr th:only-of-type {\n",
              "        vertical-align: middle;\n",
              "    }\n",
              "\n",
              "    .dataframe tbody tr th {\n",
              "        vertical-align: top;\n",
              "    }\n",
              "\n",
              "    .dataframe thead th {\n",
              "        text-align: right;\n",
              "    }\n",
              "</style>\n",
              "<table border=\"1\" class=\"dataframe\">\n",
              "  <thead>\n",
              "    <tr style=\"text-align: right;\">\n",
              "      <th></th>\n",
              "      <th>density</th>\n",
              "      <th>Ones</th>\n",
              "    </tr>\n",
              "  </thead>\n",
              "  <tbody>\n",
              "    <tr>\n",
              "      <th>45</th>\n",
              "      <td>218.4403</td>\n",
              "      <td>1</td>\n",
              "    </tr>\n",
              "    <tr>\n",
              "      <th>46</th>\n",
              "      <td>117.3272</td>\n",
              "      <td>1</td>\n",
              "    </tr>\n",
              "    <tr>\n",
              "      <th>47</th>\n",
              "      <td>73.9691</td>\n",
              "      <td>1</td>\n",
              "    </tr>\n",
              "    <tr>\n",
              "      <th>48</th>\n",
              "      <td>108.0497</td>\n",
              "      <td>1</td>\n",
              "    </tr>\n",
              "    <tr>\n",
              "      <th>49</th>\n",
              "      <td>5.8400</td>\n",
              "      <td>1</td>\n",
              "    </tr>\n",
              "  </tbody>\n",
              "</table>\n",
              "</div>"
            ],
            "text/plain": [
              "     density  Ones\n",
              "45  218.4403     1\n",
              "46  117.3272     1\n",
              "47   73.9691     1\n",
              "48  108.0497     1\n",
              "49    5.8400     1"
            ]
          },
          "metadata": {
            "tags": []
          },
          "execution_count": 54
        }
      ]
    },
    {
      "cell_type": "code",
      "metadata": {
        "id": "Qp4CHYrfPrr6",
        "colab_type": "code",
        "colab": {}
      },
      "source": [
        "X['Ones'] = np.log(X['density'])"
      ],
      "execution_count": 0,
      "outputs": []
    },
    {
      "cell_type": "code",
      "metadata": {
        "id": "tjn9TvmZPyqJ",
        "colab_type": "code",
        "outputId": "010a6cc7-37a9-480c-d1e9-8854e3179cf0",
        "colab": {
          "base_uri": "https://localhost:8080/",
          "height": 221
        }
      },
      "source": [
        "X.head()"
      ],
      "execution_count": 56,
      "outputs": [
        {
          "output_type": "execute_result",
          "data": {
            "text/html": [
              "<div>\n",
              "<style scoped>\n",
              "    .dataframe tbody tr th:only-of-type {\n",
              "        vertical-align: middle;\n",
              "    }\n",
              "\n",
              "    .dataframe tbody tr th {\n",
              "        vertical-align: top;\n",
              "    }\n",
              "\n",
              "    .dataframe thead th {\n",
              "        text-align: right;\n",
              "    }\n",
              "</style>\n",
              "<table border=\"1\" class=\"dataframe\">\n",
              "  <thead>\n",
              "    <tr style=\"text-align: right;\">\n",
              "      <th></th>\n",
              "      <th>density</th>\n",
              "      <th>Ones</th>\n",
              "    </tr>\n",
              "  </thead>\n",
              "  <tbody>\n",
              "    <tr>\n",
              "      <th>0</th>\n",
              "      <td>96.9221</td>\n",
              "      <td>4.573908</td>\n",
              "    </tr>\n",
              "    <tr>\n",
              "      <th>1</th>\n",
              "      <td>1.2863</td>\n",
              "      <td>0.251770</td>\n",
              "    </tr>\n",
              "    <tr>\n",
              "      <th>2</th>\n",
              "      <td>64.9550</td>\n",
              "      <td>4.173695</td>\n",
              "    </tr>\n",
              "    <tr>\n",
              "      <th>3</th>\n",
              "      <td>58.4030</td>\n",
              "      <td>4.067367</td>\n",
              "    </tr>\n",
              "    <tr>\n",
              "      <th>4</th>\n",
              "      <td>256.3727</td>\n",
              "      <td>5.546632</td>\n",
              "    </tr>\n",
              "  </tbody>\n",
              "</table>\n",
              "</div>"
            ],
            "text/plain": [
              "    density      Ones\n",
              "0   96.9221  4.573908\n",
              "1    1.2863  0.251770\n",
              "2   64.9550  4.173695\n",
              "3   58.4030  4.067367\n",
              "4  256.3727  5.546632"
            ]
          },
          "metadata": {
            "tags": []
          },
          "execution_count": 56
        }
      ]
    },
    {
      "cell_type": "code",
      "metadata": {
        "id": "2xOaISHN2bAZ",
        "colab_type": "code",
        "outputId": "8e8af3c0-3f98-45f8-afc2-7f1b44477a0c",
        "colab": {
          "base_uri": "https://localhost:8080/",
          "height": 881
        }
      },
      "source": [
        "model = sm.OLS(target, X).fit()\n",
        "model.summary()"
      ],
      "execution_count": 57,
      "outputs": [
        {
          "output_type": "execute_result",
          "data": {
            "text/html": [
              "<table class=\"simpletable\">\n",
              "<caption>OLS Regression Results</caption>\n",
              "<tr>\n",
              "  <th>Dep. Variable:</th>        <td>positive</td>     <th>  R-squared (uncentered):</th>      <td>   0.966</td>\n",
              "</tr>\n",
              "<tr>\n",
              "  <th>Model:</th>                   <td>OLS</td>       <th>  Adj. R-squared (uncentered):</th> <td>   0.965</td>\n",
              "</tr>\n",
              "<tr>\n",
              "  <th>Method:</th>             <td>Least Squares</td>  <th>  F-statistic:       </th>          <td>   687.8</td>\n",
              "</tr>\n",
              "<tr>\n",
              "  <th>Date:</th>             <td>Tue, 21 Apr 2020</td> <th>  Prob (F-statistic):</th>          <td>4.66e-36</td>\n",
              "</tr>\n",
              "<tr>\n",
              "  <th>Time:</th>                 <td>23:45:34</td>     <th>  Log-Likelihood:    </th>          <td> -92.800</td>\n",
              "</tr>\n",
              "<tr>\n",
              "  <th>No. Observations:</th>      <td>    50</td>      <th>  AIC:               </th>          <td>   189.6</td>\n",
              "</tr>\n",
              "<tr>\n",
              "  <th>Df Residuals:</th>          <td>    48</td>      <th>  BIC:               </th>          <td>   193.4</td>\n",
              "</tr>\n",
              "<tr>\n",
              "  <th>Df Model:</th>              <td>     2</td>      <th>                     </th>              <td> </td>   \n",
              "</tr>\n",
              "<tr>\n",
              "  <th>Covariance Type:</th>      <td>nonrobust</td>    <th>                     </th>              <td> </td>   \n",
              "</tr>\n",
              "</table>\n",
              "<table class=\"simpletable\">\n",
              "<tr>\n",
              "     <td></td>        <th>coef</th>     <th>std err</th>      <th>t</th>      <th>P>|t|</th>  <th>[0.025</th>    <th>0.975]</th>  \n",
              "</tr>\n",
              "<tr>\n",
              "  <th>density</th> <td>   -0.0008</td> <td>    0.000</td> <td>   -5.799</td> <td> 0.000</td> <td>   -0.001</td> <td>   -0.001</td>\n",
              "</tr>\n",
              "<tr>\n",
              "  <th>Ones</th>    <td>    1.7956</td> <td>    0.050</td> <td>   35.801</td> <td> 0.000</td> <td>    1.695</td> <td>    1.896</td>\n",
              "</tr>\n",
              "</table>\n",
              "<table class=\"simpletable\">\n",
              "<tr>\n",
              "  <th>Omnibus:</th>       <td> 3.964</td> <th>  Durbin-Watson:     </th> <td>   1.845</td>\n",
              "</tr>\n",
              "<tr>\n",
              "  <th>Prob(Omnibus):</th> <td> 0.138</td> <th>  Jarque-Bera (JB):  </th> <td>   3.778</td>\n",
              "</tr>\n",
              "<tr>\n",
              "  <th>Skew:</th>          <td> 0.182</td> <th>  Prob(JB):          </th> <td>   0.151</td>\n",
              "</tr>\n",
              "<tr>\n",
              "  <th>Kurtosis:</th>      <td> 4.297</td> <th>  Cond. No.          </th> <td>    382.</td>\n",
              "</tr>\n",
              "</table><br/><br/>Warnings:<br/>[1] Standard Errors assume that the covariance matrix of the errors is correctly specified."
            ],
            "text/plain": [
              "<class 'statsmodels.iolib.summary.Summary'>\n",
              "\"\"\"\n",
              "                                 OLS Regression Results                                \n",
              "=======================================================================================\n",
              "Dep. Variable:               positive   R-squared (uncentered):                   0.966\n",
              "Model:                            OLS   Adj. R-squared (uncentered):              0.965\n",
              "Method:                 Least Squares   F-statistic:                              687.8\n",
              "Date:                Tue, 21 Apr 2020   Prob (F-statistic):                    4.66e-36\n",
              "Time:                        23:45:34   Log-Likelihood:                         -92.800\n",
              "No. Observations:                  50   AIC:                                      189.6\n",
              "Df Residuals:                      48   BIC:                                      193.4\n",
              "Df Model:                           2                                                  \n",
              "Covariance Type:            nonrobust                                                  \n",
              "==============================================================================\n",
              "                 coef    std err          t      P>|t|      [0.025      0.975]\n",
              "------------------------------------------------------------------------------\n",
              "density       -0.0008      0.000     -5.799      0.000      -0.001      -0.001\n",
              "Ones           1.7956      0.050     35.801      0.000       1.695       1.896\n",
              "==============================================================================\n",
              "Omnibus:                        3.964   Durbin-Watson:                   1.845\n",
              "Prob(Omnibus):                  0.138   Jarque-Bera (JB):                3.778\n",
              "Skew:                           0.182   Prob(JB):                        0.151\n",
              "Kurtosis:                       4.297   Cond. No.                         382.\n",
              "==============================================================================\n",
              "\n",
              "Warnings:\n",
              "[1] Standard Errors assume that the covariance matrix of the errors is correctly specified.\n",
              "\"\"\""
            ]
          },
          "metadata": {
            "tags": []
          },
          "execution_count": 57
        }
      ]
    },
    {
      "cell_type": "code",
      "metadata": {
        "id": "zIMvILVm3XFx",
        "colab_type": "code",
        "colab": {}
      },
      "source": [
        "predictions = model.predict(X)"
      ],
      "execution_count": 0,
      "outputs": []
    },
    {
      "cell_type": "code",
      "metadata": {
        "id": "tmYX1_ft5y-O",
        "colab_type": "code",
        "outputId": "79a1ec8d-2f97-40c0-e21e-9202cde7844a",
        "colab": {
          "base_uri": "https://localhost:8080/",
          "height": 52
        }
      },
      "source": [
        "from sklearn import linear_model\n",
        "\n",
        "reg = linear_model.LinearRegression()\n",
        "reg.fit(X, target)\n",
        "target_predict = reg.predict(X)\n",
        "\n",
        "reg.score(X,target)"
      ],
      "execution_count": 59,
      "outputs": [
        {
          "output_type": "execute_result",
          "data": {
            "text/plain": [
              "0.5933153660154173"
            ]
          },
          "metadata": {
            "tags": []
          },
          "execution_count": 59
        }
      ]
    },
    {
      "cell_type": "code",
      "metadata": {
        "id": "KxCFjVjW6AEZ",
        "colab_type": "code",
        "outputId": "221c4f49-1eb9-444a-84eb-b48b35627e42",
        "colab": {
          "base_uri": "https://localhost:8080/",
          "height": 85
        }
      },
      "source": [
        "print(reg.coef_)\n",
        "print(reg.intercept_)\n",
        "\n",
        "plt.figure(figsize=(10,10));\n",
        "plt.scatter(target, target_predict);\n",
        "#plt.axhline(y=0.0, c='red');"
      ],
      "execution_count": 60,
      "outputs": [
        {
          "output_type": "stream",
          "text": [
            "[[-4.14002943e-04  8.62381384e-01]]\n",
            "[4.49058337]\n"
          ],
          "name": "stdout"
        },
        {
          "output_type": "display_data",
          "data": {
            "image/png": "[encoded data removed]",
            "text/plain": [
              "<Figure size 720x720 with 1 Axes>"
            ]
          },
          "metadata": {
            "tags": [],
            "needs_background": "light"
          }
        }
      ]
    },
    {
      "cell_type": "code",
      "metadata": {
        "id": "Doo-eCPS61W2",
        "colab_type": "code",
        "colab": {}
      },
      "source": [
        ""
      ],
      "execution_count": 0,
      "outputs": []
    },
    {
      "cell_type": "markdown",
      "metadata": {
        "id": "cTH5Qzdq5Tk-",
        "colab_type": "text"
      },
      "source": [
        "## Covid vs Government Intervention"
      ]
    },
    {
      "cell_type": "code",
      "metadata": {
        "id": "OEu8cyPN3ZKP",
        "colab_type": "code",
        "outputId": "b3eada24-0ae9-4474-958e-f7ddd51257e6",
        "colab": {
          "base_uri": "https://localhost:8080/",
          "height": 635
        }
      },
      "source": [
        "plt.figure(figsize=[15,10])\n",
        "plt.scatter(cases_per_state['Effective Date'],cases_per_state['positive']/cases_per_state['tested'])\n",
        "#plt.xscale('log')\n",
        "plt.yscale('log')\n",
        "plt.title('Government invtervention vs Percentage of Covid Cases', fontsize=25)\n",
        "plt.xlabel('Stay at Home Effective Date',fontsize=15)\n",
        "plt.ylabel('Positive Covid Cases', fontsize=15)\n",
        "plt.show();"
      ],
      "execution_count": 61,
      "outputs": [
        {
          "output_type": "display_data",
          "data": {
            "image/png": "[encoded data removed]",
            "text/plain": [
              "<Figure size 1080x720 with 1 Axes>"
            ]
          },
          "metadata": {
            "tags": [],
            "needs_background": "light"
          }
        }
      ]
    },
    {
      "cell_type": "code",
      "metadata": {
        "id": "tYWcQEEs5YfR",
        "colab_type": "code",
        "outputId": "9f24c8f8-8949-4a48-bcfd-f335fa24467a",
        "colab": {
          "base_uri": "https://localhost:8080/",
          "height": 201
        }
      },
      "source": [
        "cases_per_state.sort_values('Pop', ascending=False).head(5)"
      ],
      "execution_count": 62,
      "outputs": [
        {
          "output_type": "execute_result",
          "data": {
            "text/html": [
              "<div>\n",
              "<style scoped>\n",
              "    .dataframe tbody tr th:only-of-type {\n",
              "        vertical-align: middle;\n",
              "    }\n",
              "\n",
              "    .dataframe tbody tr th {\n",
              "        vertical-align: top;\n",
              "    }\n",
              "\n",
              "    .dataframe thead th {\n",
              "        text-align: right;\n",
              "    }\n",
              "</style>\n",
              "<table border=\"1\" class=\"dataframe\">\n",
              "  <thead>\n",
              "    <tr style=\"text-align: right;\">\n",
              "      <th></th>\n",
              "      <th>State</th>\n",
              "      <th>Date Announced</th>\n",
              "      <th>Effective Date</th>\n",
              "      <th>rank</th>\n",
              "      <th>Pop</th>\n",
              "      <th>Pop2010</th>\n",
              "      <th>density</th>\n",
              "      <th>state_abbrev</th>\n",
              "      <th>tested</th>\n",
              "      <th>positive</th>\n",
              "      <th>deaths</th>\n",
              "      <th>case_per_capita</th>\n",
              "    </tr>\n",
              "  </thead>\n",
              "  <tbody>\n",
              "    <tr>\n",
              "      <th>4</th>\n",
              "      <td>California</td>\n",
              "      <td>2020-03-19</td>\n",
              "      <td>2020-03-19</td>\n",
              "      <td>1</td>\n",
              "      <td>39937489</td>\n",
              "      <td>37320903</td>\n",
              "      <td>256.3727</td>\n",
              "      <td>CA</td>\n",
              "      <td>227600</td>\n",
              "      <td>24424</td>\n",
              "      <td>821</td>\n",
              "      <td>0.061156</td>\n",
              "    </tr>\n",
              "    <tr>\n",
              "      <th>42</th>\n",
              "      <td>Texas</td>\n",
              "      <td>2020-03-31</td>\n",
              "      <td>2020-04-02</td>\n",
              "      <td>2</td>\n",
              "      <td>29472295</td>\n",
              "      <td>25242679</td>\n",
              "      <td>112.8204</td>\n",
              "      <td>TX</td>\n",
              "      <td>151810</td>\n",
              "      <td>15492</td>\n",
              "      <td>364</td>\n",
              "      <td>0.052565</td>\n",
              "    </tr>\n",
              "    <tr>\n",
              "      <th>9</th>\n",
              "      <td>Florida</td>\n",
              "      <td>2020-04-01</td>\n",
              "      <td>2020-04-03</td>\n",
              "      <td>3</td>\n",
              "      <td>21992985</td>\n",
              "      <td>18845785</td>\n",
              "      <td>410.1256</td>\n",
              "      <td>FL</td>\n",
              "      <td>215521</td>\n",
              "      <td>22519</td>\n",
              "      <td>614</td>\n",
              "      <td>0.102392</td>\n",
              "    </tr>\n",
              "    <tr>\n",
              "      <th>31</th>\n",
              "      <td>New York</td>\n",
              "      <td>2020-03-20</td>\n",
              "      <td>2020-03-22</td>\n",
              "      <td>4</td>\n",
              "      <td>19440469</td>\n",
              "      <td>19400080</td>\n",
              "      <td>412.5211</td>\n",
              "      <td>NY</td>\n",
              "      <td>526012</td>\n",
              "      <td>213779</td>\n",
              "      <td>11586</td>\n",
              "      <td>1.099660</td>\n",
              "    </tr>\n",
              "    <tr>\n",
              "      <th>37</th>\n",
              "      <td>Pennsylvania</td>\n",
              "      <td>2020-03-23</td>\n",
              "      <td>2020-04-01</td>\n",
              "      <td>5</td>\n",
              "      <td>12820878</td>\n",
              "      <td>12711158</td>\n",
              "      <td>286.5449</td>\n",
              "      <td>PA</td>\n",
              "      <td>137584</td>\n",
              "      <td>26490</td>\n",
              "      <td>647</td>\n",
              "      <td>0.206616</td>\n",
              "    </tr>\n",
              "  </tbody>\n",
              "</table>\n",
              "</div>"
            ],
            "text/plain": [
              "           State Date Announced  ... deaths  case_per_capita\n",
              "4     California     2020-03-19  ...    821         0.061156\n",
              "42         Texas     2020-03-31  ...    364         0.052565\n",
              "9        Florida     2020-04-01  ...    614         0.102392\n",
              "31      New York     2020-03-20  ...  11586         1.099660\n",
              "37  Pennsylvania     2020-03-23  ...    647         0.206616\n",
              "\n",
              "[5 rows x 12 columns]"
            ]
          },
          "metadata": {
            "tags": []
          },
          "execution_count": 62
        }
      ]
    },
    {
      "cell_type": "markdown",
      "metadata": {
        "id": "F3NPxBdAT0io",
        "colab_type": "text"
      },
      "source": [
        "### Creating loop(maybe function later) to grab select states and view cases over time"
      ]
    },
    {
      "cell_type": "code",
      "metadata": {
        "id": "i0OhlcfnpfEu",
        "colab_type": "code",
        "outputId": "e2e6ae49-668f-4c9a-f9c4-354ed6e32268",
        "colab": {
          "base_uri": "https://localhost:8080/",
          "height": 201
        }
      },
      "source": [
        "c_df.head()"
      ],
      "execution_count": 63,
      "outputs": [
        {
          "output_type": "execute_result",
          "data": {
            "text/html": [
              "<div>\n",
              "<style scoped>\n",
              "    .dataframe tbody tr th:only-of-type {\n",
              "        vertical-align: middle;\n",
              "    }\n",
              "\n",
              "    .dataframe tbody tr th {\n",
              "        vertical-align: top;\n",
              "    }\n",
              "\n",
              "    .dataframe thead th {\n",
              "        text-align: right;\n",
              "    }\n",
              "</style>\n",
              "<table border=\"1\" class=\"dataframe\">\n",
              "  <thead>\n",
              "    <tr style=\"text-align: right;\">\n",
              "      <th></th>\n",
              "      <th>date</th>\n",
              "      <th>county</th>\n",
              "      <th>state</th>\n",
              "      <th>fips</th>\n",
              "      <th>cases</th>\n",
              "      <th>deaths</th>\n",
              "    </tr>\n",
              "  </thead>\n",
              "  <tbody>\n",
              "    <tr>\n",
              "      <th>0</th>\n",
              "      <td>2020-01-21</td>\n",
              "      <td>Snohomish</td>\n",
              "      <td>Washington</td>\n",
              "      <td>53061.0</td>\n",
              "      <td>1</td>\n",
              "      <td>0</td>\n",
              "    </tr>\n",
              "    <tr>\n",
              "      <th>1</th>\n",
              "      <td>2020-01-22</td>\n",
              "      <td>Snohomish</td>\n",
              "      <td>Washington</td>\n",
              "      <td>53061.0</td>\n",
              "      <td>1</td>\n",
              "      <td>0</td>\n",
              "    </tr>\n",
              "    <tr>\n",
              "      <th>2</th>\n",
              "      <td>2020-01-23</td>\n",
              "      <td>Snohomish</td>\n",
              "      <td>Washington</td>\n",
              "      <td>53061.0</td>\n",
              "      <td>1</td>\n",
              "      <td>0</td>\n",
              "    </tr>\n",
              "    <tr>\n",
              "      <th>3</th>\n",
              "      <td>2020-01-24</td>\n",
              "      <td>Cook</td>\n",
              "      <td>Illinois</td>\n",
              "      <td>17031.0</td>\n",
              "      <td>1</td>\n",
              "      <td>0</td>\n",
              "    </tr>\n",
              "    <tr>\n",
              "      <th>4</th>\n",
              "      <td>2020-01-24</td>\n",
              "      <td>Snohomish</td>\n",
              "      <td>Washington</td>\n",
              "      <td>53061.0</td>\n",
              "      <td>1</td>\n",
              "      <td>0</td>\n",
              "    </tr>\n",
              "  </tbody>\n",
              "</table>\n",
              "</div>"
            ],
            "text/plain": [
              "        date     county       state     fips  cases  deaths\n",
              "0 2020-01-21  Snohomish  Washington  53061.0      1       0\n",
              "1 2020-01-22  Snohomish  Washington  53061.0      1       0\n",
              "2 2020-01-23  Snohomish  Washington  53061.0      1       0\n",
              "3 2020-01-24       Cook    Illinois  17031.0      1       0\n",
              "4 2020-01-24  Snohomish  Washington  53061.0      1       0"
            ]
          },
          "metadata": {
            "tags": []
          },
          "execution_count": 63
        }
      ]
    },
    {
      "cell_type": "code",
      "metadata": {
        "id": "mY5Rhe9j7Tr0",
        "colab_type": "code",
        "outputId": "fee90f78-8fb3-4e01-adc2-695547a8b5c3",
        "colab": {
          "base_uri": "https://localhost:8080/",
          "height": 217
        }
      },
      "source": [
        "print(c_df.shape)\n",
        "c_df.head()"
      ],
      "execution_count": 64,
      "outputs": [
        {
          "output_type": "stream",
          "text": [
            "(48509, 6)\n"
          ],
          "name": "stdout"
        },
        {
          "output_type": "execute_result",
          "data": {
            "text/html": [
              "<div>\n",
              "<style scoped>\n",
              "    .dataframe tbody tr th:only-of-type {\n",
              "        vertical-align: middle;\n",
              "    }\n",
              "\n",
              "    .dataframe tbody tr th {\n",
              "        vertical-align: top;\n",
              "    }\n",
              "\n",
              "    .dataframe thead th {\n",
              "        text-align: right;\n",
              "    }\n",
              "</style>\n",
              "<table border=\"1\" class=\"dataframe\">\n",
              "  <thead>\n",
              "    <tr style=\"text-align: right;\">\n",
              "      <th></th>\n",
              "      <th>date</th>\n",
              "      <th>county</th>\n",
              "      <th>state</th>\n",
              "      <th>fips</th>\n",
              "      <th>cases</th>\n",
              "      <th>deaths</th>\n",
              "    </tr>\n",
              "  </thead>\n",
              "  <tbody>\n",
              "    <tr>\n",
              "      <th>0</th>\n",
              "      <td>2020-01-21</td>\n",
              "      <td>Snohomish</td>\n",
              "      <td>Washington</td>\n",
              "      <td>53061.0</td>\n",
              "      <td>1</td>\n",
              "      <td>0</td>\n",
              "    </tr>\n",
              "    <tr>\n",
              "      <th>1</th>\n",
              "      <td>2020-01-22</td>\n",
              "      <td>Snohomish</td>\n",
              "      <td>Washington</td>\n",
              "      <td>53061.0</td>\n",
              "      <td>1</td>\n",
              "      <td>0</td>\n",
              "    </tr>\n",
              "    <tr>\n",
              "      <th>2</th>\n",
              "      <td>2020-01-23</td>\n",
              "      <td>Snohomish</td>\n",
              "      <td>Washington</td>\n",
              "      <td>53061.0</td>\n",
              "      <td>1</td>\n",
              "      <td>0</td>\n",
              "    </tr>\n",
              "    <tr>\n",
              "      <th>3</th>\n",
              "      <td>2020-01-24</td>\n",
              "      <td>Cook</td>\n",
              "      <td>Illinois</td>\n",
              "      <td>17031.0</td>\n",
              "      <td>1</td>\n",
              "      <td>0</td>\n",
              "    </tr>\n",
              "    <tr>\n",
              "      <th>4</th>\n",
              "      <td>2020-01-24</td>\n",
              "      <td>Snohomish</td>\n",
              "      <td>Washington</td>\n",
              "      <td>53061.0</td>\n",
              "      <td>1</td>\n",
              "      <td>0</td>\n",
              "    </tr>\n",
              "  </tbody>\n",
              "</table>\n",
              "</div>"
            ],
            "text/plain": [
              "        date     county       state     fips  cases  deaths\n",
              "0 2020-01-21  Snohomish  Washington  53061.0      1       0\n",
              "1 2020-01-22  Snohomish  Washington  53061.0      1       0\n",
              "2 2020-01-23  Snohomish  Washington  53061.0      1       0\n",
              "3 2020-01-24       Cook    Illinois  17031.0      1       0\n",
              "4 2020-01-24  Snohomish  Washington  53061.0      1       0"
            ]
          },
          "metadata": {
            "tags": []
          },
          "execution_count": 64
        }
      ]
    },
    {
      "cell_type": "code",
      "metadata": {
        "id": "MVG0A16-9PXZ",
        "colab_type": "code",
        "colab": {}
      },
      "source": [
        "top_states = ['California','Texas', 'Florida', 'New York', 'Pennsylvania']"
      ],
      "execution_count": 0,
      "outputs": []
    },
    {
      "cell_type": "code",
      "metadata": {
        "id": "t0B5Z3CbIW6g",
        "colab_type": "code",
        "colab": {}
      },
      "source": [
        "select_states = []\n",
        "#for x in top_states:\n",
        "for index, row in c_df.iterrows():\n",
        "  if row['state'] in top_states:\n",
        "    select_states.append(row)\n",
        "ss_df = pd.DataFrame(select_states, columns=c_df.columns)      "
      ],
      "execution_count": 0,
      "outputs": []
    },
    {
      "cell_type": "code",
      "metadata": {
        "id": "0uFQDlV2UhjA",
        "colab_type": "code",
        "colab": {}
      },
      "source": [
        "# def select_state_cases(df,state_col_name, list_of_states):\n",
        "#   choice_states=[]\n",
        "#   for x in list_of_states:\n",
        "#     for index,row in df.iterrows():\n",
        "#       if row[state_col_name] in list_of_states:\n",
        "#         choice_states.append(row[state_col_name])\n",
        "#   cs_df = pd.DataFrame(choice_states, columns=df.columns)"
      ],
      "execution_count": 0,
      "outputs": []
    },
    {
      "cell_type": "code",
      "metadata": {
        "id": "v_wmZ5OXS5he",
        "colab_type": "code",
        "outputId": "3450307e-6ee5-469f-fc8d-e75c84ba6db5",
        "colab": {
          "base_uri": "https://localhost:8080/",
          "height": 507
        }
      },
      "source": [
        "ss_df.head(15)"
      ],
      "execution_count": 68,
      "outputs": [
        {
          "output_type": "execute_result",
          "data": {
            "text/html": [
              "<div>\n",
              "<style scoped>\n",
              "    .dataframe tbody tr th:only-of-type {\n",
              "        vertical-align: middle;\n",
              "    }\n",
              "\n",
              "    .dataframe tbody tr th {\n",
              "        vertical-align: top;\n",
              "    }\n",
              "\n",
              "    .dataframe thead th {\n",
              "        text-align: right;\n",
              "    }\n",
              "</style>\n",
              "<table border=\"1\" class=\"dataframe\">\n",
              "  <thead>\n",
              "    <tr style=\"text-align: right;\">\n",
              "      <th></th>\n",
              "      <th>date</th>\n",
              "      <th>county</th>\n",
              "      <th>state</th>\n",
              "      <th>fips</th>\n",
              "      <th>cases</th>\n",
              "      <th>deaths</th>\n",
              "    </tr>\n",
              "  </thead>\n",
              "  <tbody>\n",
              "    <tr>\n",
              "      <th>5</th>\n",
              "      <td>2020-01-25</td>\n",
              "      <td>Orange</td>\n",
              "      <td>California</td>\n",
              "      <td>6059.0</td>\n",
              "      <td>1</td>\n",
              "      <td>0</td>\n",
              "    </tr>\n",
              "    <tr>\n",
              "      <th>9</th>\n",
              "      <td>2020-01-26</td>\n",
              "      <td>Los Angeles</td>\n",
              "      <td>California</td>\n",
              "      <td>6037.0</td>\n",
              "      <td>1</td>\n",
              "      <td>0</td>\n",
              "    </tr>\n",
              "    <tr>\n",
              "      <th>10</th>\n",
              "      <td>2020-01-26</td>\n",
              "      <td>Orange</td>\n",
              "      <td>California</td>\n",
              "      <td>6059.0</td>\n",
              "      <td>1</td>\n",
              "      <td>0</td>\n",
              "    </tr>\n",
              "    <tr>\n",
              "      <th>14</th>\n",
              "      <td>2020-01-27</td>\n",
              "      <td>Los Angeles</td>\n",
              "      <td>California</td>\n",
              "      <td>6037.0</td>\n",
              "      <td>1</td>\n",
              "      <td>0</td>\n",
              "    </tr>\n",
              "    <tr>\n",
              "      <th>15</th>\n",
              "      <td>2020-01-27</td>\n",
              "      <td>Orange</td>\n",
              "      <td>California</td>\n",
              "      <td>6059.0</td>\n",
              "      <td>1</td>\n",
              "      <td>0</td>\n",
              "    </tr>\n",
              "    <tr>\n",
              "      <th>19</th>\n",
              "      <td>2020-01-28</td>\n",
              "      <td>Los Angeles</td>\n",
              "      <td>California</td>\n",
              "      <td>6037.0</td>\n",
              "      <td>1</td>\n",
              "      <td>0</td>\n",
              "    </tr>\n",
              "    <tr>\n",
              "      <th>20</th>\n",
              "      <td>2020-01-28</td>\n",
              "      <td>Orange</td>\n",
              "      <td>California</td>\n",
              "      <td>6059.0</td>\n",
              "      <td>1</td>\n",
              "      <td>0</td>\n",
              "    </tr>\n",
              "    <tr>\n",
              "      <th>24</th>\n",
              "      <td>2020-01-29</td>\n",
              "      <td>Los Angeles</td>\n",
              "      <td>California</td>\n",
              "      <td>6037.0</td>\n",
              "      <td>1</td>\n",
              "      <td>0</td>\n",
              "    </tr>\n",
              "    <tr>\n",
              "      <th>25</th>\n",
              "      <td>2020-01-29</td>\n",
              "      <td>Orange</td>\n",
              "      <td>California</td>\n",
              "      <td>6059.0</td>\n",
              "      <td>1</td>\n",
              "      <td>0</td>\n",
              "    </tr>\n",
              "    <tr>\n",
              "      <th>29</th>\n",
              "      <td>2020-01-30</td>\n",
              "      <td>Los Angeles</td>\n",
              "      <td>California</td>\n",
              "      <td>6037.0</td>\n",
              "      <td>1</td>\n",
              "      <td>0</td>\n",
              "    </tr>\n",
              "    <tr>\n",
              "      <th>30</th>\n",
              "      <td>2020-01-30</td>\n",
              "      <td>Orange</td>\n",
              "      <td>California</td>\n",
              "      <td>6059.0</td>\n",
              "      <td>1</td>\n",
              "      <td>0</td>\n",
              "    </tr>\n",
              "    <tr>\n",
              "      <th>34</th>\n",
              "      <td>2020-01-31</td>\n",
              "      <td>Los Angeles</td>\n",
              "      <td>California</td>\n",
              "      <td>6037.0</td>\n",
              "      <td>1</td>\n",
              "      <td>0</td>\n",
              "    </tr>\n",
              "    <tr>\n",
              "      <th>35</th>\n",
              "      <td>2020-01-31</td>\n",
              "      <td>Orange</td>\n",
              "      <td>California</td>\n",
              "      <td>6059.0</td>\n",
              "      <td>1</td>\n",
              "      <td>0</td>\n",
              "    </tr>\n",
              "    <tr>\n",
              "      <th>36</th>\n",
              "      <td>2020-01-31</td>\n",
              "      <td>Santa Clara</td>\n",
              "      <td>California</td>\n",
              "      <td>6085.0</td>\n",
              "      <td>1</td>\n",
              "      <td>0</td>\n",
              "    </tr>\n",
              "    <tr>\n",
              "      <th>40</th>\n",
              "      <td>2020-02-01</td>\n",
              "      <td>Los Angeles</td>\n",
              "      <td>California</td>\n",
              "      <td>6037.0</td>\n",
              "      <td>1</td>\n",
              "      <td>0</td>\n",
              "    </tr>\n",
              "  </tbody>\n",
              "</table>\n",
              "</div>"
            ],
            "text/plain": [
              "         date       county       state    fips  cases  deaths\n",
              "5  2020-01-25       Orange  California  6059.0      1       0\n",
              "9  2020-01-26  Los Angeles  California  6037.0      1       0\n",
              "10 2020-01-26       Orange  California  6059.0      1       0\n",
              "14 2020-01-27  Los Angeles  California  6037.0      1       0\n",
              "15 2020-01-27       Orange  California  6059.0      1       0\n",
              "19 2020-01-28  Los Angeles  California  6037.0      1       0\n",
              "20 2020-01-28       Orange  California  6059.0      1       0\n",
              "24 2020-01-29  Los Angeles  California  6037.0      1       0\n",
              "25 2020-01-29       Orange  California  6059.0      1       0\n",
              "29 2020-01-30  Los Angeles  California  6037.0      1       0\n",
              "30 2020-01-30       Orange  California  6059.0      1       0\n",
              "34 2020-01-31  Los Angeles  California  6037.0      1       0\n",
              "35 2020-01-31       Orange  California  6059.0      1       0\n",
              "36 2020-01-31  Santa Clara  California  6085.0      1       0\n",
              "40 2020-02-01  Los Angeles  California  6037.0      1       0"
            ]
          },
          "metadata": {
            "tags": []
          },
          "execution_count": 68
        }
      ]
    },
    {
      "cell_type": "code",
      "metadata": {
        "id": "202CPBAloVVa",
        "colab_type": "code",
        "colab": {}
      },
      "source": [
        "ss_df_clean = ss_df.groupby(['date','state'])['cases'].sum()"
      ],
      "execution_count": 0,
      "outputs": []
    },
    {
      "cell_type": "code",
      "metadata": {
        "id": "g1dqgdUKOBaX",
        "colab_type": "code",
        "colab": {
          "base_uri": "https://localhost:8080/",
          "height": 231
        },
        "outputId": "ef1edc2a-fb2b-453d-b7a1-909b02b45620"
      },
      "source": [
        "ss_df_clean.head()"
      ],
      "execution_count": 126,
      "outputs": [
        {
          "output_type": "execute_result",
          "data": {
            "text/html": [
              "<div>\n",
              "<style scoped>\n",
              "    .dataframe tbody tr th:only-of-type {\n",
              "        vertical-align: middle;\n",
              "    }\n",
              "\n",
              "    .dataframe tbody tr th {\n",
              "        vertical-align: top;\n",
              "    }\n",
              "\n",
              "    .dataframe thead th {\n",
              "        text-align: right;\n",
              "    }\n",
              "</style>\n",
              "<table border=\"1\" class=\"dataframe\">\n",
              "  <thead>\n",
              "    <tr style=\"text-align: right;\">\n",
              "      <th></th>\n",
              "      <th></th>\n",
              "      <th>cases</th>\n",
              "    </tr>\n",
              "    <tr>\n",
              "      <th>date</th>\n",
              "      <th>state</th>\n",
              "      <th></th>\n",
              "    </tr>\n",
              "  </thead>\n",
              "  <tbody>\n",
              "    <tr>\n",
              "      <th>2020-01-25</th>\n",
              "      <th>California</th>\n",
              "      <td>1</td>\n",
              "    </tr>\n",
              "    <tr>\n",
              "      <th>2020-01-26</th>\n",
              "      <th>California</th>\n",
              "      <td>2</td>\n",
              "    </tr>\n",
              "    <tr>\n",
              "      <th>2020-01-27</th>\n",
              "      <th>California</th>\n",
              "      <td>2</td>\n",
              "    </tr>\n",
              "    <tr>\n",
              "      <th>2020-01-28</th>\n",
              "      <th>California</th>\n",
              "      <td>2</td>\n",
              "    </tr>\n",
              "    <tr>\n",
              "      <th>2020-01-29</th>\n",
              "      <th>California</th>\n",
              "      <td>2</td>\n",
              "    </tr>\n",
              "  </tbody>\n",
              "</table>\n",
              "</div>"
            ],
            "text/plain": [
              "                       cases\n",
              "date       state            \n",
              "2020-01-25 California      1\n",
              "2020-01-26 California      2\n",
              "2020-01-27 California      2\n",
              "2020-01-28 California      2\n",
              "2020-01-29 California      2"
            ]
          },
          "metadata": {
            "tags": []
          },
          "execution_count": 126
        }
      ]
    },
    {
      "cell_type": "code",
      "metadata": {
        "id": "RLkNhg8aeylu",
        "colab_type": "code",
        "outputId": "2bc8b7d6-d291-430b-c57d-a88469ddab3d",
        "colab": {
          "base_uri": "https://localhost:8080/",
          "height": 280
        }
      },
      "source": [
        "#plt.figure(figsize=[10,10])\n",
        "plt.plot(ss_df['date'],ss_df['cases'])"
      ],
      "execution_count": 118,
      "outputs": [
        {
          "output_type": "execute_result",
          "data": {
            "text/plain": [
              "[<matplotlib.lines.Line2D at 0x7f9b9ec51278>]"
            ]
          },
          "metadata": {
            "tags": []
          },
          "execution_count": 118
        },
        {
          "output_type": "display_data",
          "data": {
            "image/png": "[encoded data removed]",
            "text/plain": [
              "<Figure size 432x288 with 1 Axes>"
            ]
          },
          "metadata": {
            "tags": [],
            "needs_background": "light"
          }
        }
      ]
    },
    {
      "cell_type": "markdown",
      "metadata": {
        "id": "LlzRQxezd2FT",
        "colab_type": "text"
      },
      "source": [
        "## Hospitals vs total cases - https://www.kff.org/other/state-indicator/total-hospitals"
      ]
    },
    {
      "cell_type": "code",
      "metadata": {
        "id": "Pcn8jVADd7PU",
        "colab_type": "code",
        "colab": {}
      },
      "source": [
        "hos_df = pd.read_csv('/content/drive/My Drive/COVID19 Capstone/hospital_raw_data.csv', skiprows=[0,1])\n",
        "hos_df = hos_df.drop(hos_df.index[0])"
      ],
      "execution_count": 0,
      "outputs": []
    },
    {
      "cell_type": "code",
      "metadata": {
        "id": "KidePPkLX6vr",
        "colab_type": "code",
        "colab": {}
      },
      "source": [
        "hos_df = hos_df.rename(columns= {'Location':'State'})"
      ],
      "execution_count": 0,
      "outputs": []
    },
    {
      "cell_type": "code",
      "metadata": {
        "id": "V15U8opMeIu2",
        "colab_type": "code",
        "outputId": "b5c31bc4-817e-43fc-f8c6-31ba1312ceaa",
        "colab": {
          "base_uri": "https://localhost:8080/",
          "height": 237
        }
      },
      "source": [
        "hos_df.head()"
      ],
      "execution_count": 76,
      "outputs": [
        {
          "output_type": "execute_result",
          "data": {
            "text/html": [
              "<div>\n",
              "<style scoped>\n",
              "    .dataframe tbody tr th:only-of-type {\n",
              "        vertical-align: middle;\n",
              "    }\n",
              "\n",
              "    .dataframe tbody tr th {\n",
              "        vertical-align: top;\n",
              "    }\n",
              "\n",
              "    .dataframe thead th {\n",
              "        text-align: right;\n",
              "    }\n",
              "</style>\n",
              "<table border=\"1\" class=\"dataframe\">\n",
              "  <thead>\n",
              "    <tr style=\"text-align: right;\">\n",
              "      <th></th>\n",
              "      <th>State</th>\n",
              "      <th>Total Hospitals</th>\n",
              "    </tr>\n",
              "  </thead>\n",
              "  <tbody>\n",
              "    <tr>\n",
              "      <th>1</th>\n",
              "      <td>Alabama</td>\n",
              "      <td>101.0</td>\n",
              "    </tr>\n",
              "    <tr>\n",
              "      <th>2</th>\n",
              "      <td>Alaska</td>\n",
              "      <td>21.0</td>\n",
              "    </tr>\n",
              "    <tr>\n",
              "      <th>3</th>\n",
              "      <td>Arizona</td>\n",
              "      <td>83.0</td>\n",
              "    </tr>\n",
              "    <tr>\n",
              "      <th>4</th>\n",
              "      <td>Arkansas</td>\n",
              "      <td>88.0</td>\n",
              "    </tr>\n",
              "    <tr>\n",
              "      <th>5</th>\n",
              "      <td>California</td>\n",
              "      <td>359.0</td>\n",
              "    </tr>\n",
              "  </tbody>\n",
              "</table>\n",
              "</div>"
            ],
            "text/plain": [
              "        State  Total Hospitals\n",
              "1     Alabama            101.0\n",
              "2      Alaska             21.0\n",
              "3     Arizona             83.0\n",
              "4    Arkansas             88.0\n",
              "5  California            359.0"
            ]
          },
          "metadata": {
            "tags": []
          },
          "execution_count": 76
        }
      ]
    },
    {
      "cell_type": "code",
      "metadata": {
        "id": "Eh6P573OYk7t",
        "colab_type": "code",
        "outputId": "a070149a-0519-4c2a-ac13-e8e978769271",
        "colab": {
          "base_uri": "https://localhost:8080/",
          "height": 237
        }
      },
      "source": [
        "hos_cases_df = pd.merge(hos_df,cases_per_state, on='State')\n",
        "hos_cases_df.head()"
      ],
      "execution_count": 77,
      "outputs": [
        {
          "output_type": "execute_result",
          "data": {
            "text/html": [
              "<div>\n",
              "<style scoped>\n",
              "    .dataframe tbody tr th:only-of-type {\n",
              "        vertical-align: middle;\n",
              "    }\n",
              "\n",
              "    .dataframe tbody tr th {\n",
              "        vertical-align: top;\n",
              "    }\n",
              "\n",
              "    .dataframe thead th {\n",
              "        text-align: right;\n",
              "    }\n",
              "</style>\n",
              "<table border=\"1\" class=\"dataframe\">\n",
              "  <thead>\n",
              "    <tr style=\"text-align: right;\">\n",
              "      <th></th>\n",
              "      <th>State</th>\n",
              "      <th>Total Hospitals</th>\n",
              "      <th>Date Announced</th>\n",
              "      <th>Effective Date</th>\n",
              "      <th>rank</th>\n",
              "      <th>Pop</th>\n",
              "      <th>Pop2010</th>\n",
              "      <th>density</th>\n",
              "      <th>state_abbrev</th>\n",
              "      <th>tested</th>\n",
              "      <th>positive</th>\n",
              "      <th>deaths</th>\n",
              "      <th>case_per_capita</th>\n",
              "    </tr>\n",
              "  </thead>\n",
              "  <tbody>\n",
              "    <tr>\n",
              "      <th>0</th>\n",
              "      <td>Alabama</td>\n",
              "      <td>101.0</td>\n",
              "      <td>2020-04-03</td>\n",
              "      <td>2020-04-04</td>\n",
              "      <td>24</td>\n",
              "      <td>4908621</td>\n",
              "      <td>4785448</td>\n",
              "      <td>96.9221</td>\n",
              "      <td>AL</td>\n",
              "      <td>34077</td>\n",
              "      <td>4241</td>\n",
              "      <td>123</td>\n",
              "      <td>0.086399</td>\n",
              "    </tr>\n",
              "    <tr>\n",
              "      <th>1</th>\n",
              "      <td>Alaska</td>\n",
              "      <td>21.0</td>\n",
              "      <td>2020-03-27</td>\n",
              "      <td>2020-03-28</td>\n",
              "      <td>49</td>\n",
              "      <td>734002</td>\n",
              "      <td>713906</td>\n",
              "      <td>1.2863</td>\n",
              "      <td>AK</td>\n",
              "      <td>8664</td>\n",
              "      <td>293</td>\n",
              "      <td>9</td>\n",
              "      <td>0.039918</td>\n",
              "    </tr>\n",
              "    <tr>\n",
              "      <th>2</th>\n",
              "      <td>Arizona</td>\n",
              "      <td>83.0</td>\n",
              "      <td>2020-03-30</td>\n",
              "      <td>2020-03-31</td>\n",
              "      <td>14</td>\n",
              "      <td>7378494</td>\n",
              "      <td>6407774</td>\n",
              "      <td>64.9550</td>\n",
              "      <td>AZ</td>\n",
              "      <td>45310</td>\n",
              "      <td>3962</td>\n",
              "      <td>142</td>\n",
              "      <td>0.053697</td>\n",
              "    </tr>\n",
              "    <tr>\n",
              "      <th>3</th>\n",
              "      <td>Arkansas</td>\n",
              "      <td>88.0</td>\n",
              "      <td>NaT</td>\n",
              "      <td>NaT</td>\n",
              "      <td>33</td>\n",
              "      <td>3038999</td>\n",
              "      <td>2921978</td>\n",
              "      <td>58.4030</td>\n",
              "      <td>AR</td>\n",
              "      <td>22289</td>\n",
              "      <td>1599</td>\n",
              "      <td>34</td>\n",
              "      <td>0.052616</td>\n",
              "    </tr>\n",
              "    <tr>\n",
              "      <th>4</th>\n",
              "      <td>California</td>\n",
              "      <td>359.0</td>\n",
              "      <td>2020-03-19</td>\n",
              "      <td>2020-03-19</td>\n",
              "      <td>1</td>\n",
              "      <td>39937489</td>\n",
              "      <td>37320903</td>\n",
              "      <td>256.3727</td>\n",
              "      <td>CA</td>\n",
              "      <td>227600</td>\n",
              "      <td>24424</td>\n",
              "      <td>821</td>\n",
              "      <td>0.061156</td>\n",
              "    </tr>\n",
              "  </tbody>\n",
              "</table>\n",
              "</div>"
            ],
            "text/plain": [
              "        State  Total Hospitals  ... deaths case_per_capita\n",
              "0     Alabama            101.0  ...    123        0.086399\n",
              "1      Alaska             21.0  ...      9        0.039918\n",
              "2     Arizona             83.0  ...    142        0.053697\n",
              "3    Arkansas             88.0  ...     34        0.052616\n",
              "4  California            359.0  ...    821        0.061156\n",
              "\n",
              "[5 rows x 13 columns]"
            ]
          },
          "metadata": {
            "tags": []
          },
          "execution_count": 77
        }
      ]
    },
    {
      "cell_type": "code",
      "metadata": {
        "id": "vY0LpffzZff5",
        "colab_type": "code",
        "outputId": "6fdb89fc-01c9-4b70-c344-d7eb79a35594",
        "colab": {
          "base_uri": "https://localhost:8080/",
          "height": 52
        }
      },
      "source": [
        "plt.figure(figsize=[10,10])\n",
        "plt.bar('State','Total Hospitals', data=hos_cases_df, label='Hospitals')\n",
        "plt.plot(hos_cases_df['State'],hos_cases_df['deaths'], label='Deaths', c='Red')\n",
        "plt.yscale('log')\n",
        "plt.xticks(rotation=90)\n",
        "plt.title('Deaths vs Number of Hospitals',fontsize=25) \n",
        "plt.xlabel('States', fontsize=15)\n",
        "plt.ylabel('Number of hospitals', fontsize=15)\n",
        "plt.legend(borderpad=2, labelspacing=2,fontsize=10);"
      ],
      "execution_count": 78,
      "outputs": [
        {
          "output_type": "display_data",
          "data": {
            "image/png": "[encoded data removed]",
            "text/plain": [
              "<Figure size 720x720 with 1 Axes>"
            ]
          },
          "metadata": {
            "tags": [],
            "needs_background": "light"
          }
        }
      ]
    },
    {
      "cell_type": "code",
      "metadata": {
        "id": "KLnAXSzU95Fs",
        "colab_type": "code",
        "outputId": "5c050ed7-1700-44fb-9c47-b799a0773aa8",
        "colab": {
          "base_uri": "https://localhost:8080/",
          "height": 52
        }
      },
      "source": [
        "plt.figure(figsize=[10,10])\n",
        "plt.scatter(hos_cases_df['Total Hospitals']/hos_cases_df['Pop'], hos_cases_df['deaths']/hos_cases_df['positive'])\n",
        "plt.xscale('log')\n",
        "plt.yscale('log')"
      ],
      "execution_count": 79,
      "outputs": [
        {
          "output_type": "display_data",
          "data": {
            "image/png": "[encoded data removed]",
            "text/plain": [
              "<Figure size 720x720 with 1 Axes>"
            ]
          },
          "metadata": {
            "tags": [],
            "needs_background": "light"
          }
        }
      ]
    },
    {
      "cell_type": "markdown",
      "metadata": {
        "id": "wUKRB5B4CStj",
        "colab_type": "text"
      },
      "source": [
        "### cases vs hospitals/density LRM"
      ]
    },
    {
      "cell_type": "code",
      "metadata": {
        "id": "f93XLPe0CYWI",
        "colab_type": "code",
        "outputId": "971b22e4-ae59-4439-9754-47b57b5f9f06",
        "colab": {
          "base_uri": "https://localhost:8080/",
          "height": 237
        }
      },
      "source": [
        "hos_cases_df.head()"
      ],
      "execution_count": 80,
      "outputs": [
        {
          "output_type": "execute_result",
          "data": {
            "text/html": [
              "<div>\n",
              "<style scoped>\n",
              "    .dataframe tbody tr th:only-of-type {\n",
              "        vertical-align: middle;\n",
              "    }\n",
              "\n",
              "    .dataframe tbody tr th {\n",
              "        vertical-align: top;\n",
              "    }\n",
              "\n",
              "    .dataframe thead th {\n",
              "        text-align: right;\n",
              "    }\n",
              "</style>\n",
              "<table border=\"1\" class=\"dataframe\">\n",
              "  <thead>\n",
              "    <tr style=\"text-align: right;\">\n",
              "      <th></th>\n",
              "      <th>State</th>\n",
              "      <th>Total Hospitals</th>\n",
              "      <th>Date Announced</th>\n",
              "      <th>Effective Date</th>\n",
              "      <th>rank</th>\n",
              "      <th>Pop</th>\n",
              "      <th>Pop2010</th>\n",
              "      <th>density</th>\n",
              "      <th>state_abbrev</th>\n",
              "      <th>tested</th>\n",
              "      <th>positive</th>\n",
              "      <th>deaths</th>\n",
              "      <th>case_per_capita</th>\n",
              "    </tr>\n",
              "  </thead>\n",
              "  <tbody>\n",
              "    <tr>\n",
              "      <th>0</th>\n",
              "      <td>Alabama</td>\n",
              "      <td>101.0</td>\n",
              "      <td>2020-04-03</td>\n",
              "      <td>2020-04-04</td>\n",
              "      <td>24</td>\n",
              "      <td>4908621</td>\n",
              "      <td>4785448</td>\n",
              "      <td>96.9221</td>\n",
              "      <td>AL</td>\n",
              "      <td>34077</td>\n",
              "      <td>4241</td>\n",
              "      <td>123</td>\n",
              "      <td>0.086399</td>\n",
              "    </tr>\n",
              "    <tr>\n",
              "      <th>1</th>\n",
              "      <td>Alaska</td>\n",
              "      <td>21.0</td>\n",
              "      <td>2020-03-27</td>\n",
              "      <td>2020-03-28</td>\n",
              "      <td>49</td>\n",
              "      <td>734002</td>\n",
              "      <td>713906</td>\n",
              "      <td>1.2863</td>\n",
              "      <td>AK</td>\n",
              "      <td>8664</td>\n",
              "      <td>293</td>\n",
              "      <td>9</td>\n",
              "      <td>0.039918</td>\n",
              "    </tr>\n",
              "    <tr>\n",
              "      <th>2</th>\n",
              "      <td>Arizona</td>\n",
              "      <td>83.0</td>\n",
              "      <td>2020-03-30</td>\n",
              "      <td>2020-03-31</td>\n",
              "      <td>14</td>\n",
              "      <td>7378494</td>\n",
              "      <td>6407774</td>\n",
              "      <td>64.9550</td>\n",
              "      <td>AZ</td>\n",
              "      <td>45310</td>\n",
              "      <td>3962</td>\n",
              "      <td>142</td>\n",
              "      <td>0.053697</td>\n",
              "    </tr>\n",
              "    <tr>\n",
              "      <th>3</th>\n",
              "      <td>Arkansas</td>\n",
              "      <td>88.0</td>\n",
              "      <td>NaT</td>\n",
              "      <td>NaT</td>\n",
              "      <td>33</td>\n",
              "      <td>3038999</td>\n",
              "      <td>2921978</td>\n",
              "      <td>58.4030</td>\n",
              "      <td>AR</td>\n",
              "      <td>22289</td>\n",
              "      <td>1599</td>\n",
              "      <td>34</td>\n",
              "      <td>0.052616</td>\n",
              "    </tr>\n",
              "    <tr>\n",
              "      <th>4</th>\n",
              "      <td>California</td>\n",
              "      <td>359.0</td>\n",
              "      <td>2020-03-19</td>\n",
              "      <td>2020-03-19</td>\n",
              "      <td>1</td>\n",
              "      <td>39937489</td>\n",
              "      <td>37320903</td>\n",
              "      <td>256.3727</td>\n",
              "      <td>CA</td>\n",
              "      <td>227600</td>\n",
              "      <td>24424</td>\n",
              "      <td>821</td>\n",
              "      <td>0.061156</td>\n",
              "    </tr>\n",
              "  </tbody>\n",
              "</table>\n",
              "</div>"
            ],
            "text/plain": [
              "        State  Total Hospitals  ... deaths case_per_capita\n",
              "0     Alabama            101.0  ...    123        0.086399\n",
              "1      Alaska             21.0  ...      9        0.039918\n",
              "2     Arizona             83.0  ...    142        0.053697\n",
              "3    Arkansas             88.0  ...     34        0.052616\n",
              "4  California            359.0  ...    821        0.061156\n",
              "\n",
              "[5 rows x 13 columns]"
            ]
          },
          "metadata": {
            "tags": []
          },
          "execution_count": 80
        }
      ]
    },
    {
      "cell_type": "code",
      "metadata": {
        "id": "snpdXCNkbtlO",
        "colab_type": "code",
        "outputId": "8fb21603-af02-4252-c66e-f8eb7a2f3e7c",
        "colab": {
          "base_uri": "https://localhost:8080/",
          "height": 221
        }
      },
      "source": [
        "cases_target = pd.DataFrame(hos_cases_df.positive, columns=['positive'])\n",
        "cases_target.head()"
      ],
      "execution_count": 81,
      "outputs": [
        {
          "output_type": "execute_result",
          "data": {
            "text/html": [
              "<div>\n",
              "<style scoped>\n",
              "    .dataframe tbody tr th:only-of-type {\n",
              "        vertical-align: middle;\n",
              "    }\n",
              "\n",
              "    .dataframe tbody tr th {\n",
              "        vertical-align: top;\n",
              "    }\n",
              "\n",
              "    .dataframe thead th {\n",
              "        text-align: right;\n",
              "    }\n",
              "</style>\n",
              "<table border=\"1\" class=\"dataframe\">\n",
              "  <thead>\n",
              "    <tr style=\"text-align: right;\">\n",
              "      <th></th>\n",
              "      <th>positive</th>\n",
              "    </tr>\n",
              "  </thead>\n",
              "  <tbody>\n",
              "    <tr>\n",
              "      <th>0</th>\n",
              "      <td>4241</td>\n",
              "    </tr>\n",
              "    <tr>\n",
              "      <th>1</th>\n",
              "      <td>293</td>\n",
              "    </tr>\n",
              "    <tr>\n",
              "      <th>2</th>\n",
              "      <td>3962</td>\n",
              "    </tr>\n",
              "    <tr>\n",
              "      <th>3</th>\n",
              "      <td>1599</td>\n",
              "    </tr>\n",
              "    <tr>\n",
              "      <th>4</th>\n",
              "      <td>24424</td>\n",
              "    </tr>\n",
              "  </tbody>\n",
              "</table>\n",
              "</div>"
            ],
            "text/plain": [
              "   positive\n",
              "0      4241\n",
              "1       293\n",
              "2      3962\n",
              "3      1599\n",
              "4     24424"
            ]
          },
          "metadata": {
            "tags": []
          },
          "execution_count": 81
        }
      ]
    },
    {
      "cell_type": "code",
      "metadata": {
        "id": "BkYosiZAb4WR",
        "colab_type": "code",
        "outputId": "534bf094-24ec-4556-9489-559226837421",
        "colab": {
          "base_uri": "https://localhost:8080/",
          "height": 237
        }
      },
      "source": [
        "hos_X = pd.DataFrame(hos_cases_df[['Total Hospitals','density']])\n",
        "hos_X.head()"
      ],
      "execution_count": 82,
      "outputs": [
        {
          "output_type": "execute_result",
          "data": {
            "text/html": [
              "<div>\n",
              "<style scoped>\n",
              "    .dataframe tbody tr th:only-of-type {\n",
              "        vertical-align: middle;\n",
              "    }\n",
              "\n",
              "    .dataframe tbody tr th {\n",
              "        vertical-align: top;\n",
              "    }\n",
              "\n",
              "    .dataframe thead th {\n",
              "        text-align: right;\n",
              "    }\n",
              "</style>\n",
              "<table border=\"1\" class=\"dataframe\">\n",
              "  <thead>\n",
              "    <tr style=\"text-align: right;\">\n",
              "      <th></th>\n",
              "      <th>Total Hospitals</th>\n",
              "      <th>density</th>\n",
              "    </tr>\n",
              "  </thead>\n",
              "  <tbody>\n",
              "    <tr>\n",
              "      <th>0</th>\n",
              "      <td>101.0</td>\n",
              "      <td>96.9221</td>\n",
              "    </tr>\n",
              "    <tr>\n",
              "      <th>1</th>\n",
              "      <td>21.0</td>\n",
              "      <td>1.2863</td>\n",
              "    </tr>\n",
              "    <tr>\n",
              "      <th>2</th>\n",
              "      <td>83.0</td>\n",
              "      <td>64.9550</td>\n",
              "    </tr>\n",
              "    <tr>\n",
              "      <th>3</th>\n",
              "      <td>88.0</td>\n",
              "      <td>58.4030</td>\n",
              "    </tr>\n",
              "    <tr>\n",
              "      <th>4</th>\n",
              "      <td>359.0</td>\n",
              "      <td>256.3727</td>\n",
              "    </tr>\n",
              "  </tbody>\n",
              "</table>\n",
              "</div>"
            ],
            "text/plain": [
              "   Total Hospitals   density\n",
              "0            101.0   96.9221\n",
              "1             21.0    1.2863\n",
              "2             83.0   64.9550\n",
              "3             88.0   58.4030\n",
              "4            359.0  256.3727"
            ]
          },
          "metadata": {
            "tags": []
          },
          "execution_count": 82
        }
      ]
    },
    {
      "cell_type": "code",
      "metadata": {
        "id": "UeVUjZUGcMdZ",
        "colab_type": "code",
        "outputId": "9e204f78-2122-47f6-ded7-c8e08e49c119",
        "colab": {
          "base_uri": "https://localhost:8080/",
          "height": 237
        }
      },
      "source": [
        "hos_X['density'] = np.log(hos_X['density'])\n",
        "hos_X['Total Hospitals'] = np.log(hos_X['Total Hospitals'])\n",
        "hos_X.head()"
      ],
      "execution_count": 83,
      "outputs": [
        {
          "output_type": "execute_result",
          "data": {
            "text/html": [
              "<div>\n",
              "<style scoped>\n",
              "    .dataframe tbody tr th:only-of-type {\n",
              "        vertical-align: middle;\n",
              "    }\n",
              "\n",
              "    .dataframe tbody tr th {\n",
              "        vertical-align: top;\n",
              "    }\n",
              "\n",
              "    .dataframe thead th {\n",
              "        text-align: right;\n",
              "    }\n",
              "</style>\n",
              "<table border=\"1\" class=\"dataframe\">\n",
              "  <thead>\n",
              "    <tr style=\"text-align: right;\">\n",
              "      <th></th>\n",
              "      <th>Total Hospitals</th>\n",
              "      <th>density</th>\n",
              "    </tr>\n",
              "  </thead>\n",
              "  <tbody>\n",
              "    <tr>\n",
              "      <th>0</th>\n",
              "      <td>4.615121</td>\n",
              "      <td>4.573908</td>\n",
              "    </tr>\n",
              "    <tr>\n",
              "      <th>1</th>\n",
              "      <td>3.044522</td>\n",
              "      <td>0.251770</td>\n",
              "    </tr>\n",
              "    <tr>\n",
              "      <th>2</th>\n",
              "      <td>4.418841</td>\n",
              "      <td>4.173695</td>\n",
              "    </tr>\n",
              "    <tr>\n",
              "      <th>3</th>\n",
              "      <td>4.477337</td>\n",
              "      <td>4.067367</td>\n",
              "    </tr>\n",
              "    <tr>\n",
              "      <th>4</th>\n",
              "      <td>5.883322</td>\n",
              "      <td>5.546632</td>\n",
              "    </tr>\n",
              "  </tbody>\n",
              "</table>\n",
              "</div>"
            ],
            "text/plain": [
              "   Total Hospitals   density\n",
              "0         4.615121  4.573908\n",
              "1         3.044522  0.251770\n",
              "2         4.418841  4.173695\n",
              "3         4.477337  4.067367\n",
              "4         5.883322  5.546632"
            ]
          },
          "metadata": {
            "tags": []
          },
          "execution_count": 83
        }
      ]
    },
    {
      "cell_type": "code",
      "metadata": {
        "id": "YoPCZJvxcYsj",
        "colab_type": "code",
        "outputId": "d944f53d-3e8f-4dc5-afc1-b52cec51b7a4",
        "colab": {
          "base_uri": "https://localhost:8080/",
          "height": 881
        }
      },
      "source": [
        "hos_model = sm.OLS(cases_target,hos_X).fit()\n",
        "hos_model.summary()"
      ],
      "execution_count": 84,
      "outputs": [
        {
          "output_type": "execute_result",
          "data": {
            "text/html": [
              "<table class=\"simpletable\">\n",
              "<caption>OLS Regression Results</caption>\n",
              "<tr>\n",
              "  <th>Dep. Variable:</th>        <td>positive</td>     <th>  R-squared (uncentered):</th>      <td>   0.198</td>\n",
              "</tr>\n",
              "<tr>\n",
              "  <th>Model:</th>                   <td>OLS</td>       <th>  Adj. R-squared (uncentered):</th> <td>   0.164</td>\n",
              "</tr>\n",
              "<tr>\n",
              "  <th>Method:</th>             <td>Least Squares</td>  <th>  F-statistic:       </th>          <td>   5.919</td>\n",
              "</tr>\n",
              "<tr>\n",
              "  <th>Date:</th>             <td>Tue, 21 Apr 2020</td> <th>  Prob (F-statistic):</th>           <td>0.00504</td>\n",
              "</tr>\n",
              "<tr>\n",
              "  <th>Time:</th>                 <td>23:45:42</td>     <th>  Log-Likelihood:    </th>          <td> -586.67</td>\n",
              "</tr>\n",
              "<tr>\n",
              "  <th>No. Observations:</th>      <td>    50</td>      <th>  AIC:               </th>          <td>   1177.</td>\n",
              "</tr>\n",
              "<tr>\n",
              "  <th>Df Residuals:</th>          <td>    48</td>      <th>  BIC:               </th>          <td>   1181.</td>\n",
              "</tr>\n",
              "<tr>\n",
              "  <th>Df Model:</th>              <td>     2</td>      <th>                     </th>              <td> </td>   \n",
              "</tr>\n",
              "<tr>\n",
              "  <th>Covariance Type:</th>      <td>nonrobust</td>    <th>                     </th>              <td> </td>   \n",
              "</tr>\n",
              "</table>\n",
              "<table class=\"simpletable\">\n",
              "<tr>\n",
              "         <td></td>            <th>coef</th>     <th>std err</th>      <th>t</th>      <th>P>|t|</th>  <th>[0.025</th>    <th>0.975]</th>  \n",
              "</tr>\n",
              "<tr>\n",
              "  <th>Total Hospitals</th> <td>   82.5228</td> <td> 2739.275</td> <td>    0.030</td> <td> 0.976</td> <td>-5425.159</td> <td> 5590.205</td>\n",
              "</tr>\n",
              "<tr>\n",
              "  <th>density</th>         <td> 2999.1814</td> <td> 2470.139</td> <td>    1.214</td> <td> 0.231</td> <td>-1967.365</td> <td> 7965.728</td>\n",
              "</tr>\n",
              "</table>\n",
              "<table class=\"simpletable\">\n",
              "<tr>\n",
              "  <th>Omnibus:</th>       <td>98.611</td> <th>  Durbin-Watson:     </th> <td>   2.124</td>\n",
              "</tr>\n",
              "<tr>\n",
              "  <th>Prob(Omnibus):</th> <td> 0.000</td> <th>  Jarque-Bera (JB):  </th> <td>2631.546</td>\n",
              "</tr>\n",
              "<tr>\n",
              "  <th>Skew:</th>          <td> 5.657</td> <th>  Prob(JB):          </th> <td>    0.00</td>\n",
              "</tr>\n",
              "<tr>\n",
              "  <th>Kurtosis:</th>      <td>36.692</td> <th>  Cond. No.          </th> <td>    5.38</td>\n",
              "</tr>\n",
              "</table><br/><br/>Warnings:<br/>[1] Standard Errors assume that the covariance matrix of the errors is correctly specified."
            ],
            "text/plain": [
              "<class 'statsmodels.iolib.summary.Summary'>\n",
              "\"\"\"\n",
              "                                 OLS Regression Results                                \n",
              "=======================================================================================\n",
              "Dep. Variable:               positive   R-squared (uncentered):                   0.198\n",
              "Model:                            OLS   Adj. R-squared (uncentered):              0.164\n",
              "Method:                 Least Squares   F-statistic:                              5.919\n",
              "Date:                Tue, 21 Apr 2020   Prob (F-statistic):                     0.00504\n",
              "Time:                        23:45:42   Log-Likelihood:                         -586.67\n",
              "No. Observations:                  50   AIC:                                      1177.\n",
              "Df Residuals:                      48   BIC:                                      1181.\n",
              "Df Model:                           2                                                  \n",
              "Covariance Type:            nonrobust                                                  \n",
              "===================================================================================\n",
              "                      coef    std err          t      P>|t|      [0.025      0.975]\n",
              "-----------------------------------------------------------------------------------\n",
              "Total Hospitals    82.5228   2739.275      0.030      0.976   -5425.159    5590.205\n",
              "density          2999.1814   2470.139      1.214      0.231   -1967.365    7965.728\n",
              "==============================================================================\n",
              "Omnibus:                       98.611   Durbin-Watson:                   2.124\n",
              "Prob(Omnibus):                  0.000   Jarque-Bera (JB):             2631.546\n",
              "Skew:                           5.657   Prob(JB):                         0.00\n",
              "Kurtosis:                      36.692   Cond. No.                         5.38\n",
              "==============================================================================\n",
              "\n",
              "Warnings:\n",
              "[1] Standard Errors assume that the covariance matrix of the errors is correctly specified.\n",
              "\"\"\""
            ]
          },
          "metadata": {
            "tags": []
          },
          "execution_count": 84
        }
      ]
    },
    {
      "cell_type": "code",
      "metadata": {
        "id": "mhjranZ8dRBF",
        "colab_type": "code",
        "colab": {}
      },
      "source": [
        "predictions2 = hos_model.predict(hos_X)"
      ],
      "execution_count": 0,
      "outputs": []
    },
    {
      "cell_type": "code",
      "metadata": {
        "id": "5b9-DJxafA1Q",
        "colab_type": "code",
        "outputId": "8f3505bd-e787-4594-ec68-b34209979718",
        "colab": {
          "base_uri": "https://localhost:8080/",
          "height": 52
        }
      },
      "source": [
        "reg2 = linear_model.LinearRegression()\n",
        "reg2.fit(hos_X, cases_target)\n",
        "target_predict2 = reg2.predict(hos_X)\n",
        "\n",
        "reg2.score(hos_X,cases_target)"
      ],
      "execution_count": 86,
      "outputs": [
        {
          "output_type": "execute_result",
          "data": {
            "text/plain": [
              "0.155920136687711"
            ]
          },
          "metadata": {
            "tags": []
          },
          "execution_count": 86
        }
      ]
    },
    {
      "cell_type": "code",
      "metadata": {
        "id": "naHKcflTfYPV",
        "colab_type": "code",
        "outputId": "55d536fe-0242-4917-fb4d-69071d8ab591",
        "colab": {
          "base_uri": "https://localhost:8080/",
          "height": 85
        }
      },
      "source": [
        "print(reg2.coef_)\n",
        "print(reg2.intercept_)\n",
        "\n",
        "plt.figure(figsize=(10,10));\n",
        "plt.scatter(cases_target, target_predict2)\n",
        "plt.xscale('log')\n",
        "plt.yscale('log')\n",
        "plt.xlabel('Target', fontsize=15)\n",
        "plt.ylabel('Target Predictions', fontsize=15)\n",
        "plt.title('Predicting Cases use Hospital and Population Density', fontsize=25);"
      ],
      "execution_count": 87,
      "outputs": [
        {
          "output_type": "stream",
          "text": [
            "[[9083.71378268 6030.60376748]]\n",
            "[-54504.16638092]\n"
          ],
          "name": "stdout"
        },
        {
          "output_type": "display_data",
          "data": {
            "image/png": "[encoded data removed]",
            "text/plain": [
              "<Figure size 720x720 with 1 Axes>"
            ]
          },
          "metadata": {
            "tags": [],
            "needs_background": "light"
          }
        }
      ]
    },
    {
      "cell_type": "code",
      "metadata": {
        "id": "5qYOYkWRDxXX",
        "colab_type": "code",
        "outputId": "d91a9a62-0c7e-4717-8a25-f0596c62509c",
        "colab": {
          "base_uri": "https://localhost:8080/",
          "height": 69
        }
      },
      "source": [
        "plt.figure(figsize=(10,10))\n",
        "plt.scatter(np.log(cases_target),(target_predict2))\n"
      ],
      "execution_count": 88,
      "outputs": [
        {
          "output_type": "execute_result",
          "data": {
            "text/plain": [
              "<matplotlib.collections.PathCollection at 0x7f9b9f773748>"
            ]
          },
          "metadata": {
            "tags": []
          },
          "execution_count": 88
        },
        {
          "output_type": "display_data",
          "data": {
            "image/png": "[encoded data removed]",
            "text/plain": [
              "<Figure size 720x720 with 1 Axes>"
            ]
          },
          "metadata": {
            "tags": [],
            "needs_background": "light"
          }
        }
      ]
    },
    {
      "cell_type": "code",
      "metadata": {
        "id": "VdH_a7qdEW-u",
        "colab_type": "code",
        "outputId": "88fac433-1205-48a4-db8c-06a97c0ca6ae",
        "colab": {
          "base_uri": "https://localhost:8080/",
          "height": 69
        }
      },
      "source": [
        "residuals = pd.DataFrame(np.log(target_predict2)-np.log(cases_target))"
      ],
      "execution_count": 89,
      "outputs": [
        {
          "output_type": "stream",
          "text": [
            "/usr/local/lib/python3.6/dist-packages/ipykernel_launcher.py:1: RuntimeWarning: invalid value encountered in log\n",
            "  \"\"\"Entry point for launching an IPython kernel.\n"
          ],
          "name": "stderr"
        }
      ]
    },
    {
      "cell_type": "code",
      "metadata": {
        "id": "Usqy_uCzBsAh",
        "colab_type": "code",
        "colab": {}
      },
      "source": [
        "# print(hos_XA.head())\n",
        "# cases_targetA.head()"
      ],
      "execution_count": 0,
      "outputs": []
    },
    {
      "cell_type": "code",
      "metadata": {
        "id": "TaUwF883GYXW",
        "colab_type": "code",
        "colab": {}
      },
      "source": [
        "from scipy.optimize import nnls"
      ],
      "execution_count": 0,
      "outputs": []
    },
    {
      "cell_type": "code",
      "metadata": {
        "id": "FGtslTsDIPxW",
        "colab_type": "code",
        "colab": {}
      },
      "source": [
        "hos_XA = np.array(hos_X)\n",
        "cases_targetA = np.array(cases_target)"
      ],
      "execution_count": 0,
      "outputs": []
    },
    {
      "cell_type": "code",
      "metadata": {
        "id": "V-2QH_jgkPVk",
        "colab_type": "code",
        "colab": {}
      },
      "source": [
        "hos_XB = np.delete(hos_XA, [31], axis=0)"
      ],
      "execution_count": 0,
      "outputs": []
    },
    {
      "cell_type": "code",
      "metadata": {
        "id": "eOmzWnyfk0Om",
        "colab_type": "code",
        "outputId": "b666a9ac-5a77-406e-d514-8d303c08831b",
        "colab": {
          "base_uri": "https://localhost:8080/",
          "height": 69
        }
      },
      "source": [
        "print(hos_XA.shape)\n",
        "print(hos_XB.shape)"
      ],
      "execution_count": 94,
      "outputs": [
        {
          "output_type": "stream",
          "text": [
            "(50, 2)\n",
            "(49, 2)\n"
          ],
          "name": "stdout"
        }
      ]
    },
    {
      "cell_type": "code",
      "metadata": {
        "id": "WCHPx7YHeufV",
        "colab_type": "code",
        "colab": {}
      },
      "source": [
        "cases_targetB = np.reshape(cases_targetA, (1,-1))"
      ],
      "execution_count": 0,
      "outputs": []
    },
    {
      "cell_type": "code",
      "metadata": {
        "id": "wYkuYTkFlB6O",
        "colab_type": "code",
        "colab": {}
      },
      "source": [
        "cases_targetC = np.delete(cases_targetB,[31])"
      ],
      "execution_count": 0,
      "outputs": []
    },
    {
      "cell_type": "code",
      "metadata": {
        "id": "FykpyLPOlMbI",
        "colab_type": "code",
        "outputId": "6b9b47b7-09aa-49a3-8ea2-caf36ad93c24",
        "colab": {
          "base_uri": "https://localhost:8080/",
          "height": 69
        }
      },
      "source": [
        "print(cases_targetB.shape)\n",
        "print(cases_targetC.shape)"
      ],
      "execution_count": 97,
      "outputs": [
        {
          "output_type": "stream",
          "text": [
            "(1, 50)\n",
            "(49,)\n"
          ],
          "name": "stdout"
        }
      ]
    },
    {
      "cell_type": "code",
      "metadata": {
        "id": "CjFCtAmHGrhK",
        "colab_type": "code",
        "colab": {}
      },
      "source": [
        "results = nnls(hos_XB,cases_targetC)"
      ],
      "execution_count": 0,
      "outputs": []
    },
    {
      "cell_type": "code",
      "metadata": {
        "id": "i7LNVhglfgS6",
        "colab_type": "code",
        "colab": {}
      },
      "source": [
        "results1 = np.dot(hos_XB,results[0])"
      ],
      "execution_count": 0,
      "outputs": []
    },
    {
      "cell_type": "code",
      "metadata": {
        "id": "L2O0gkHigeqW",
        "colab_type": "code",
        "outputId": "cad7981a-43b3-4917-9881-a0260a6f26b3",
        "colab": {
          "base_uri": "https://localhost:8080/",
          "height": 69
        }
      },
      "source": [
        "plt.figure(figsize=[10,10])\n",
        "plt.scatter(results1, cases_targetC-results1)\n",
        "# plt.yscale('log')\n",
        "# plt.xscale('log')"
      ],
      "execution_count": 100,
      "outputs": [
        {
          "output_type": "execute_result",
          "data": {
            "text/plain": [
              "<matplotlib.collections.PathCollection at 0x7f9b9f6e1080>"
            ]
          },
          "metadata": {
            "tags": []
          },
          "execution_count": 100
        },
        {
          "output_type": "display_data",
          "data": {
            "image/png": "[encoded data removed]",
            "text/plain": [
              "<Figure size 720x720 with 1 Axes>"
            ]
          },
          "metadata": {
            "tags": [],
            "needs_background": "light"
          }
        }
      ]
    },
    {
      "cell_type": "code",
      "metadata": {
        "id": "Hp8BHTGLjuC7",
        "colab_type": "code",
        "colab": {}
      },
      "source": [
        "# residuals1 = cases_targetB[0]-results1\n",
        "# residuals1.argmax()"
      ],
      "execution_count": 0,
      "outputs": []
    }
  ]
}